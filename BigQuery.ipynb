{
 "cells": [
  {
   "cell_type": "code",
   "execution_count": 1,
   "id": "b3c6f0ad",
   "metadata": {},
   "outputs": [],
   "source": [
    "import os\n",
    "os.environ['GOOGLE_APPLICATION_CREDENTIALS'] ='/Users/harman/Documents/CMPT733/project/cmpt733project-acc5de89927c.json'\n",
    "from google.cloud import bigquery\n",
    "import pandas as pd\n",
    "import pyarrow"
   ]
  },
  {
   "cell_type": "code",
   "execution_count": 2,
   "id": "9adc82fa",
   "metadata": {},
   "outputs": [],
   "source": [
    "bigquery_client = bigquery.Client()"
   ]
  },
  {
   "cell_type": "code",
   "execution_count": 3,
   "id": "c6da6f51",
   "metadata": {},
   "outputs": [],
   "source": [
    "QUERY = \"\"\"\n",
    "SELECT theme, COUNT(*) as count\n",
    "FROM (\n",
    "select REGEXP_REPLACE(SPLIT(V2Themes,';'), r',.*', \") theme\n",
    "from [gdelt-bq:gdeltv2.gkg]\n",
    "where DATE>20150302000000 and DATE < 20150304000000 and V2Persons like '%Netanyahu%'\n",
    ")\n",
    "group by theme\n",
    "ORDER BY 2 DESC\n",
    "LIMIT 1\n",
    "\"\"\"\n",
    "QUERY2 = \"\"\"\n",
    "SELECT \n",
    "V2Themes \n",
    "from `gdelt-bq.gdeltv2.gkg` \n",
    "where DATE>20150302000000 and DATE < 20150304000000 and V2Persons like '%Netanyahu%' limit 10\n",
    "\"\"\""
   ]
  },
  {
   "cell_type": "code",
   "execution_count": 4,
   "id": "d8a99c1e",
   "metadata": {},
   "outputs": [
    {
     "name": "stderr",
     "output_type": "stream",
     "text": [
      "/opt/anaconda3/envs/project733/lib/python3.7/site-packages/google/cloud/bigquery/client.py:445: UserWarning: Cannot create BigQuery Storage client, the dependency google-cloud-bigquery-storage is not installed.\n",
      "  \"Cannot create BigQuery Storage client, the dependency \"\n"
     ]
    },
    {
     "name": "stdout",
     "output_type": "stream",
     "text": [
      "                                            V2Themes\n",
      "0  MEDIA_MSM,1684;NEGOTIATIONS,1052;TAX_FNCACT_PR...\n",
      "1  TERROR,2041;WB_2467_TERRORISM,2041;WB_2433_CON...\n",
      "2  TAX_POLITICAL_PARTY_REPUBLICANS,443;ARMEDCONFL...\n",
      "3  TAX_FNCACT_CANDIDATES,98;TAX_FNCACT_CANDIDATES...\n",
      "4  TAX_FNCACT_PRIME_MINISTER,97;TAX_WEAPONS_BOMB,...\n"
     ]
    }
   ],
   "source": [
    "# query_job = bigquery_client.query(QUERY2)\n",
    "df = (\n",
    "    bigquery_client.query(QUERY2)\n",
    "    .result()\n",
    "    .to_dataframe()\n",
    ")\n",
    "print(df.head())"
   ]
  },
  {
   "cell_type": "code",
   "execution_count": 5,
   "id": "4a1a15e9",
   "metadata": {},
   "outputs": [
    {
     "data": {
      "text/html": [
       "<div>\n",
       "<style scoped>\n",
       "    .dataframe tbody tr th:only-of-type {\n",
       "        vertical-align: middle;\n",
       "    }\n",
       "\n",
       "    .dataframe tbody tr th {\n",
       "        vertical-align: top;\n",
       "    }\n",
       "\n",
       "    .dataframe thead th {\n",
       "        text-align: right;\n",
       "    }\n",
       "</style>\n",
       "<table border=\"1\" class=\"dataframe\">\n",
       "  <thead>\n",
       "    <tr style=\"text-align: right;\">\n",
       "      <th></th>\n",
       "      <th>V2Themes</th>\n",
       "    </tr>\n",
       "  </thead>\n",
       "  <tbody>\n",
       "    <tr>\n",
       "      <th>0</th>\n",
       "      <td>MEDIA_MSM,1684;NEGOTIATIONS,1052;TAX_FNCACT_PR...</td>\n",
       "    </tr>\n",
       "    <tr>\n",
       "      <th>1</th>\n",
       "      <td>TERROR,2041;WB_2467_TERRORISM,2041;WB_2433_CON...</td>\n",
       "    </tr>\n",
       "    <tr>\n",
       "      <th>2</th>\n",
       "      <td>TAX_POLITICAL_PARTY_REPUBLICANS,443;ARMEDCONFL...</td>\n",
       "    </tr>\n",
       "    <tr>\n",
       "      <th>3</th>\n",
       "      <td>TAX_FNCACT_CANDIDATES,98;TAX_FNCACT_CANDIDATES...</td>\n",
       "    </tr>\n",
       "    <tr>\n",
       "      <th>4</th>\n",
       "      <td>TAX_FNCACT_PRIME_MINISTER,97;TAX_WEAPONS_BOMB,...</td>\n",
       "    </tr>\n",
       "  </tbody>\n",
       "</table>\n",
       "</div>"
      ],
      "text/plain": [
       "                                            V2Themes\n",
       "0  MEDIA_MSM,1684;NEGOTIATIONS,1052;TAX_FNCACT_PR...\n",
       "1  TERROR,2041;WB_2467_TERRORISM,2041;WB_2433_CON...\n",
       "2  TAX_POLITICAL_PARTY_REPUBLICANS,443;ARMEDCONFL...\n",
       "3  TAX_FNCACT_CANDIDATES,98;TAX_FNCACT_CANDIDATES...\n",
       "4  TAX_FNCACT_PRIME_MINISTER,97;TAX_WEAPONS_BOMB,..."
      ]
     },
     "execution_count": 5,
     "metadata": {},
     "output_type": "execute_result"
    }
   ],
   "source": [
    "df.head()"
   ]
  },
  {
   "cell_type": "code",
   "execution_count": null,
   "id": "cfb0c19d",
   "metadata": {},
   "outputs": [],
   "source": []
  },
  {
   "cell_type": "code",
   "execution_count": null,
   "id": "9987de19",
   "metadata": {},
   "outputs": [],
   "source": []
  }
 ],
 "metadata": {
  "kernelspec": {
   "display_name": "Python 3",
   "language": "python",
   "name": "python3"
  },
  "language_info": {
   "codemirror_mode": {
    "name": "ipython",
    "version": 3
   },
   "file_extension": ".py",
   "mimetype": "text/x-python",
   "name": "python",
   "nbconvert_exporter": "python",
   "pygments_lexer": "ipython3",
   "version": "3.7.10"
  }
 },
 "nbformat": 4,
 "nbformat_minor": 5
}

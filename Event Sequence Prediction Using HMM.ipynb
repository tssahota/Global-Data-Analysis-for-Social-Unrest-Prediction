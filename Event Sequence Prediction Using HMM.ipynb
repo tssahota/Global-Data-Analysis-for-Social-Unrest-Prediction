{
 "cells": [
  {
   "cell_type": "code",
   "execution_count": 3,
   "metadata": {},
   "outputs": [],
   "source": [
    "import os\n",
    "os.environ['GOOGLE_APPLICATION_CREDENTIALS'] ='cmpt733project-acc5de89927c.json'\n",
    "from google.cloud import bigquery\n",
    "import pandas as pd\n",
    "import pyarrow\n",
    "import numpy as np\n",
    "import pandas as pd\n",
    "import seaborn as sns\n",
    "import matplotlib.pyplot as plt\n",
    "from sklearn.preprocessing import LabelEncoder, OneHotEncoder\n",
    "import warnings\n",
    "warnings.filterwarnings(\"ignore\")\n",
    "from sklearn.model_selection import train_test_split\n",
    "from sklearn.svm import SVC\n",
    "from sklearn.metrics import confusion_matrix\n",
    "import statsmodels.api as sm\n",
    "from sklearn.linear_model import LinearRegression\n",
    "from sklearn.feature_selection import RFE\n",
    "from sklearn.ensemble import RandomForestClassifier, RandomForestRegressor, ExtraTreesRegressor, GradientBoostingRegressor\n",
    "from sklearn.metrics import accuracy_score\n",
    "from sklearn.linear_model import RidgeCV, LassoCV, Ridge, Lasso\n",
    "from sklearn.metrics import f1_score\n",
    "\n",
    "np.random.seed(123)"
   ]
  },
  {
   "cell_type": "code",
   "execution_count": 9,
   "metadata": {},
   "outputs": [],
   "source": [
    "bigquery_client = bigquery.Client()\n",
    "### ENTER SQL DATE as ---> YYYYMMDD format ###"
   ]
  },
  {
   "cell_type": "code",
   "execution_count": 10,
   "metadata": {},
   "outputs": [],
   "source": [
    "QUERY2 = \"\"\"\n",
    "SELECT \n",
    "*\n",
    "from `gdelt-bq.gdeltv2.events`\n",
    "where Year>=2000 and Year<=2020\n",
    "and (Actor1Name='AFRICA' or Actor1Name='CANADA' or Actor1Name='UNITED STATES' or Actor1Name='CHINA')\n",
    "limit 100000\n",
    "\"\"\"\n",
    "# gdelt-bq.gdeltv2.events ### OR ### gdelt-bq.gdeltv2.gkg"
   ]
  },
  {
   "cell_type": "code",
   "execution_count": null,
   "metadata": {},
   "outputs": [],
   "source": [
    "# query_job = bigquery_client.query(QUERY2)\n",
    "df = (\n",
    "    bigquery_client.query(QUERY2)\n",
    "    .result()\n",
    "    .to_dataframe()\n",
    ")"
   ]
  },
  {
   "cell_type": "code",
   "execution_count": 53,
   "metadata": {},
   "outputs": [],
   "source": [
    "# df.to_csv('GDELT20yrs.csv')\n",
    "# df = pd.read_csv('GDELT20yrs.csv') "
   ]
  },
  {
   "cell_type": "code",
   "execution_count": 54,
   "metadata": {},
   "outputs": [],
   "source": [
    "data = df\n",
    "data = data.iloc[:,1:-1]"
   ]
  },
  {
   "cell_type": "code",
   "execution_count": 55,
   "metadata": {},
   "outputs": [],
   "source": [
    "label_encoder = LabelEncoder()\n",
    "data.iloc[:,0] = label_encoder.fit_transform(data.iloc[:,0]).astype('float64')\n",
    "data = data.drop(['Actor1KnownGroupCode','Actor1EthnicCode','Actor1Type3Code'],axis=1)"
   ]
  },
  {
   "cell_type": "code",
   "execution_count": 56,
   "metadata": {},
   "outputs": [],
   "source": [
    "data = data[['SQLDATE','Year','IsRootEvent','QuadClass','NumMentions','NumSources','NumArticles',\n",
    "             'AvgTone','GoldsteinScale','Actor1Geo_Type','Actor1Geo_Lat','Actor1Geo_Long','Actor2Geo_Type','Actor2Geo_Lat',\n",
    "             'Actor2Geo_Long','ActionGeo_Type','ActionGeo_Lat','ActionGeo_Long']]\n",
    "data = data.dropna()\n",
    "X = data.drop(\"GoldsteinScale\",1)   #Feature Matrix\n",
    "y = data[\"GoldsteinScale\"] # Target variable"
   ]
  },
  {
   "cell_type": "code",
   "execution_count": 57,
   "metadata": {},
   "outputs": [
    {
     "data": {
      "text/plain": [
       "15       D\n",
       "16       A\n",
       "17       D\n",
       "18       A\n",
       "19       A\n",
       "        ..\n",
       "99995    A\n",
       "99996    A\n",
       "99997    B\n",
       "99998    B\n",
       "99999    A\n",
       "Name: ActionGeo_Type, Length: 63221, dtype: object"
      ]
     },
     "execution_count": 57,
     "metadata": {},
     "output_type": "execute_result"
    }
   ],
   "source": [
    "import mchmm as mc  # markovChain-HiddenMarkovModel library\n",
    "import pandas as pd\n",
    "\n",
    "d1 = data\n",
    "d1.ActionGeo_Type.replace([1,2,3,4,5], ['A','B','C','D','E'], inplace=True)\n",
    "# replace by letters for markov chain sequencing\n",
    "d1['ActionGeo_Type']"
   ]
  },
  {
   "cell_type": "code",
   "execution_count": null,
   "metadata": {},
   "outputs": [],
   "source": [
    "# markov chain for sequence of events ---> 'ActionGeo_Type' feature to get the type of events observed\n",
    "# types are -> 1,2,3,4,5\n",
    "# where -> \n",
    "\"\"\"\n",
    "1=no impact, \n",
    "2=low impact, \n",
    "3=medium impact, \n",
    "4=high impact, \n",
    "5=violent event\n",
    "\"\"\""
   ]
  },
  {
   "cell_type": "code",
   "execution_count": 59,
   "metadata": {},
   "outputs": [],
   "source": [
    "a = mc.MarkovChain().from_data(d1['ActionGeo_Type'])"
   ]
  },
  {
   "cell_type": "code",
   "execution_count": 60,
   "metadata": {},
   "outputs": [
    {
     "data": {
      "text/plain": [
       "array([[10152.,   692.,   695.,  1542.,    46.],\n",
       "       [  672., 12121.,  2288.,   495.,     8.],\n",
       "       [  691.,  2242., 18003.,   851.,    12.],\n",
       "       [ 1580.,   518.,   802.,  9406.,    85.],\n",
       "       [   33.,    11.,    11.,    96.,   168.]])"
      ]
     },
     "execution_count": 60,
     "metadata": {},
     "output_type": "execute_result"
    }
   ],
   "source": [
    "a.observed_matrix  # observed transition frequency matrix"
   ]
  },
  {
   "cell_type": "code",
   "execution_count": 61,
   "metadata": {},
   "outputs": [
    {
     "data": {
      "text/plain": [
       "array([[0.77336787, 0.05271578, 0.05294431, 0.11746781, 0.00350423],\n",
       "       [0.04312115, 0.77778491, 0.14681725, 0.03176335, 0.00051335],\n",
       "       [0.0316987 , 0.10284875, 0.82586357, 0.03903849, 0.00055048],\n",
       "       [0.1275119 , 0.04180454, 0.0647244 , 0.75909935, 0.00685982],\n",
       "       [0.10344828, 0.03448276, 0.03448276, 0.30094044, 0.52664577]])"
      ]
     },
     "execution_count": 61,
     "metadata": {},
     "output_type": "execute_result"
    }
   ],
   "source": [
    "a.observed_p_matrix  # observed transition probability matrix"
   ]
  },
  {
   "cell_type": "code",
   "execution_count": 62,
   "metadata": {},
   "outputs": [],
   "source": [
    "graph = a.graph_make(\n",
    "      format=\"png\",\n",
    "      graph_attr=[(\"rankdir\", \"LR\")],\n",
    "      node_attr=[(\"fontname\", \"Sans bold\"), (\"fontsize\", \"20\")],\n",
    "      edge_attr=[(\"fontname\", \"Sans bold\"), (\"fontsize\", \"12\")]\n",
    "    )"
   ]
  },
  {
   "cell_type": "code",
   "execution_count": 63,
   "metadata": {},
   "outputs": [
    {
     "data": {
      "image/svg+xml": [
       "<?xml version=\"1.0\" encoding=\"UTF-8\" standalone=\"no\"?>\r\n",
       "<!DOCTYPE svg PUBLIC \"-//W3C//DTD SVG 1.1//EN\"\r\n",
       " \"http://www.w3.org/Graphics/SVG/1.1/DTD/svg11.dtd\">\r\n",
       "<!-- Generated by graphviz version 2.47.0 (20210316.0004)\r\n",
       " -->\r\n",
       "<!-- Pages: 1 -->\r\n",
       "<svg width=\"530pt\" height=\"405pt\"\r\n",
       " viewBox=\"0.00 0.00 530.00 405.21\" xmlns=\"http://www.w3.org/2000/svg\" xmlns:xlink=\"http://www.w3.org/1999/xlink\">\r\n",
       "<g id=\"graph0\" class=\"graph\" transform=\"scale(1 1) rotate(0) translate(4 401.21)\">\r\n",
       "<polygon fill=\"white\" stroke=\"transparent\" points=\"-4,4 -4,-401.21 526,-401.21 526,4 -4,4\"/>\r\n",
       "<!-- A -->\r\n",
       "<g id=\"node1\" class=\"node\">\r\n",
       "<title>A</title>\r\n",
       "<ellipse fill=\"none\" stroke=\"black\" cx=\"27\" cy=\"-30.21\" rx=\"27\" ry=\"21.43\"/>\r\n",
       "<text text-anchor=\"middle\" x=\"27\" y=\"-25.21\" font-family=\"Sans bold\" font-size=\"20.00\">A</text>\r\n",
       "</g>\r\n",
       "<!-- A&#45;&gt;A -->\r\n",
       "<g id=\"edge1\" class=\"edge\">\r\n",
       "<title>A&#45;&gt;A</title>\r\n",
       "<path fill=\"none\" stroke=\"black\" d=\"M16.51,-49.99C14.89,-60.21 18.39,-69.43 27,-69.43 32.52,-69.43 35.93,-65.64 37.25,-60.24\"/>\r\n",
       "<polygon fill=\"black\" stroke=\"black\" points=\"40.76,-60.07 37.49,-49.99 33.76,-59.9 40.76,-60.07\"/>\r\n",
       "<text text-anchor=\"middle\" x=\"27\" y=\"-72.83\" font-family=\"Sans bold\" font-size=\"12.00\">0.77</text>\r\n",
       "</g>\r\n",
       "<!-- B -->\r\n",
       "<g id=\"node2\" class=\"node\">\r\n",
       "<title>B</title>\r\n",
       "<ellipse fill=\"none\" stroke=\"black\" cx=\"144\" cy=\"-175.21\" rx=\"27\" ry=\"21.43\"/>\r\n",
       "<text text-anchor=\"middle\" x=\"144\" y=\"-170.21\" font-family=\"Sans bold\" font-size=\"20.00\">B</text>\r\n",
       "</g>\r\n",
       "<!-- A&#45;&gt;B -->\r\n",
       "<g id=\"edge2\" class=\"edge\">\r\n",
       "<title>A&#45;&gt;B</title>\r\n",
       "<path fill=\"none\" stroke=\"black\" d=\"M42.18,-47.91C56.54,-65.85 79.37,-94.42 99,-119.21 106.78,-129.04 115.29,-139.85 122.74,-149.34\"/>\r\n",
       "<polygon fill=\"black\" stroke=\"black\" points=\"120.04,-151.57 128.96,-157.28 125.55,-147.25 120.04,-151.57\"/>\r\n",
       "<text text-anchor=\"middle\" x=\"85.5\" y=\"-122.61\" font-family=\"Sans bold\" font-size=\"12.00\">0.05</text>\r\n",
       "</g>\r\n",
       "<!-- C -->\r\n",
       "<g id=\"node3\" class=\"node\">\r\n",
       "<title>C</title>\r\n",
       "<ellipse fill=\"none\" stroke=\"black\" cx=\"495\" cy=\"-41.21\" rx=\"27\" ry=\"21.43\"/>\r\n",
       "<text text-anchor=\"middle\" x=\"495\" y=\"-36.21\" font-family=\"Sans bold\" font-size=\"20.00\">C</text>\r\n",
       "</g>\r\n",
       "<!-- A&#45;&gt;C -->\r\n",
       "<g id=\"edge3\" class=\"edge\">\r\n",
       "<title>A&#45;&gt;C</title>\r\n",
       "<path fill=\"none\" stroke=\"black\" d=\"M29.5,-51.73C33.82,-109.28 47.52,-265.41 72,-310.21 109.69,-379.2 156.05,-371.06 234,-381.21 339.09,-394.9 391.97,-368.89 450,-280.21 472.14,-246.38 485.79,-129.26 491.25,-72.51\"/>\r\n",
       "<polygon fill=\"black\" stroke=\"black\" points=\"494.76,-72.62 492.21,-62.33 487.79,-71.96 494.76,-72.62\"/>\r\n",
       "<text text-anchor=\"middle\" x=\"261\" y=\"-387.61\" font-family=\"Sans bold\" font-size=\"12.00\">0.05</text>\r\n",
       "</g>\r\n",
       "<!-- D -->\r\n",
       "<g id=\"node4\" class=\"node\">\r\n",
       "<title>D</title>\r\n",
       "<ellipse fill=\"none\" stroke=\"black\" cx=\"378\" cy=\"-136.21\" rx=\"27\" ry=\"21.43\"/>\r\n",
       "<text text-anchor=\"middle\" x=\"378\" y=\"-131.21\" font-family=\"Sans bold\" font-size=\"20.00\">D</text>\r\n",
       "</g>\r\n",
       "<!-- A&#45;&gt;D -->\r\n",
       "<g id=\"edge4\" class=\"edge\">\r\n",
       "<title>A&#45;&gt;D</title>\r\n",
       "<path fill=\"none\" stroke=\"black\" d=\"M32.59,-51.34C39.13,-79.4 52.55,-130.09 72,-170.21 103.95,-236.1 119.31,-263.73 189,-286.21 249.92,-305.86 281.83,-326.67 333,-288.21 352.3,-273.71 365.84,-207.45 372.43,-167.35\"/>\r\n",
       "<polygon fill=\"black\" stroke=\"black\" points=\"375.92,-167.71 374.03,-157.29 369.01,-166.62 375.92,-167.71\"/>\r\n",
       "<text text-anchor=\"middle\" x=\"202.5\" y=\"-297.61\" font-family=\"Sans bold\" font-size=\"12.00\">0.12</text>\r\n",
       "</g>\r\n",
       "<!-- E -->\r\n",
       "<g id=\"node5\" class=\"node\">\r\n",
       "<title>E</title>\r\n",
       "<ellipse fill=\"none\" stroke=\"black\" cx=\"261\" cy=\"-21.21\" rx=\"27\" ry=\"21.43\"/>\r\n",
       "<text text-anchor=\"middle\" x=\"261\" y=\"-16.21\" font-family=\"Sans bold\" font-size=\"20.00\">E</text>\r\n",
       "</g>\r\n",
       "<!-- A&#45;&gt;E -->\r\n",
       "<g id=\"edge5\" class=\"edge\">\r\n",
       "<title>A&#45;&gt;E</title>\r\n",
       "<path fill=\"none\" stroke=\"black\" d=\"M53.99,-33.06C90.4,-36.49 158.57,-40.9 216,-33.21 219.22,-32.78 222.53,-32.18 225.83,-31.48\"/>\r\n",
       "<polygon fill=\"black\" stroke=\"black\" points=\"226.68,-34.87 235.57,-29.11 225.03,-28.07 226.68,-34.87\"/>\r\n",
       "<text text-anchor=\"middle\" x=\"144\" y=\"-40.61\" font-family=\"Sans bold\" font-size=\"12.00\">0.0</text>\r\n",
       "</g>\r\n",
       "<!-- B&#45;&gt;A -->\r\n",
       "<g id=\"edge6\" class=\"edge\">\r\n",
       "<title>B&#45;&gt;A</title>\r\n",
       "<path fill=\"none\" stroke=\"black\" d=\"M119.65,-165.63C104.39,-158.37 84.97,-147.1 72,-132.21 54.06,-111.63 42.51,-82.61 35.76,-60.79\"/>\r\n",
       "<polygon fill=\"black\" stroke=\"black\" points=\"39.07,-59.64 32.91,-51.03 32.35,-61.61 39.07,-59.64\"/>\r\n",
       "<text text-anchor=\"middle\" x=\"85.5\" y=\"-156.61\" font-family=\"Sans bold\" font-size=\"12.00\">0.04</text>\r\n",
       "</g>\r\n",
       "<!-- B&#45;&gt;B -->\r\n",
       "<g id=\"edge7\" class=\"edge\">\r\n",
       "<title>B&#45;&gt;B</title>\r\n",
       "<path fill=\"none\" stroke=\"black\" d=\"M133.51,-194.99C131.89,-205.21 135.39,-214.43 144,-214.43 149.52,-214.43 152.93,-210.64 154.25,-205.24\"/>\r\n",
       "<polygon fill=\"black\" stroke=\"black\" points=\"157.76,-205.07 154.49,-194.99 150.76,-204.9 157.76,-205.07\"/>\r\n",
       "<text text-anchor=\"middle\" x=\"144\" y=\"-217.83\" font-family=\"Sans bold\" font-size=\"12.00\">0.78</text>\r\n",
       "</g>\r\n",
       "<!-- B&#45;&gt;C -->\r\n",
       "<g id=\"edge8\" class=\"edge\">\r\n",
       "<title>B&#45;&gt;C</title>\r\n",
       "<path fill=\"none\" stroke=\"black\" d=\"M165.34,-188.69C172.55,-192.94 180.9,-197.29 189,-200.21 279.31,-232.8 321.42,-244.46 405,-197.21 451.77,-170.78 475.9,-109.26 486.68,-71.86\"/>\r\n",
       "<polygon fill=\"black\" stroke=\"black\" points=\"490.11,-72.57 489.37,-62 483.36,-70.72 490.11,-72.57\"/>\r\n",
       "<text text-anchor=\"middle\" x=\"319.5\" y=\"-231.61\" font-family=\"Sans bold\" font-size=\"12.00\">0.15</text>\r\n",
       "</g>\r\n",
       "<!-- B&#45;&gt;D -->\r\n",
       "<g id=\"edge9\" class=\"edge\">\r\n",
       "<title>B&#45;&gt;D</title>\r\n",
       "<path fill=\"none\" stroke=\"black\" d=\"M171.07,-174.3C184.53,-173.6 201.2,-172.37 216,-170.21 224.11,-169.03 225.91,-167.52 234,-166.21 277.66,-159.18 290.3,-167.74 333,-156.21 337.19,-155.08 341.49,-153.59 345.67,-151.93\"/>\r\n",
       "<polygon fill=\"black\" stroke=\"black\" points=\"347.35,-155.02 355.14,-147.84 344.57,-148.59 347.35,-155.02\"/>\r\n",
       "<text text-anchor=\"middle\" x=\"261\" y=\"-169.61\" font-family=\"Sans bold\" font-size=\"12.00\">0.03</text>\r\n",
       "</g>\r\n",
       "<!-- B&#45;&gt;E -->\r\n",
       "<g id=\"edge10\" class=\"edge\">\r\n",
       "<title>B&#45;&gt;E</title>\r\n",
       "<path fill=\"none\" stroke=\"black\" d=\"M151.97,-154.88C159.29,-135.31 172.08,-105.49 189,-83.21 189.93,-81.98 214.46,-60.64 234.42,-43.34\"/>\r\n",
       "<polygon fill=\"black\" stroke=\"black\" points=\"236.8,-45.91 242.07,-36.72 232.22,-40.62 236.8,-45.91\"/>\r\n",
       "<text text-anchor=\"middle\" x=\"202.5\" y=\"-86.61\" font-family=\"Sans bold\" font-size=\"12.00\">0.0</text>\r\n",
       "</g>\r\n",
       "<!-- C&#45;&gt;A -->\r\n",
       "<g id=\"edge11\" class=\"edge\">\r\n",
       "<title>C&#45;&gt;A</title>\r\n",
       "<path fill=\"none\" stroke=\"black\" d=\"M492.65,-62.46C489.63,-96.35 480.04,-163.66 450,-211.21 392.68,-301.96 340.92,-328.64 234,-319.21 147.31,-311.57 107.19,-288.81 72,-209.21 50.21,-159.93 38.05,-98.04 32.28,-61.45\"/>\r\n",
       "<polygon fill=\"black\" stroke=\"black\" points=\"35.71,-60.75 30.75,-51.39 28.79,-61.8 35.71,-60.75\"/>\r\n",
       "<text text-anchor=\"middle\" x=\"261\" y=\"-323.61\" font-family=\"Sans bold\" font-size=\"12.00\">0.03</text>\r\n",
       "</g>\r\n",
       "<!-- C&#45;&gt;B -->\r\n",
       "<g id=\"edge12\" class=\"edge\">\r\n",
       "<title>C&#45;&gt;B</title>\r\n",
       "<path fill=\"none\" stroke=\"black\" d=\"M490.98,-62.27C486.08,-91.18 474.39,-143.93 450,-182.21 435.46,-205.03 428.51,-209.82 405,-223.21 338.8,-260.92 307.83,-254.03 234,-235.21 213.28,-229.93 207.03,-229.71 189,-218.21 181.23,-213.26 173.7,-206.76 167.14,-200.33\"/>\r\n",
       "<polygon fill=\"black\" stroke=\"black\" points=\"169.39,-197.62 159.91,-192.89 164.37,-202.5 169.39,-197.62\"/>\r\n",
       "<text text-anchor=\"middle\" x=\"319.5\" y=\"-253.61\" font-family=\"Sans bold\" font-size=\"12.00\">0.1</text>\r\n",
       "</g>\r\n",
       "<!-- C&#45;&gt;C -->\r\n",
       "<g id=\"edge13\" class=\"edge\">\r\n",
       "<title>C&#45;&gt;C</title>\r\n",
       "<path fill=\"none\" stroke=\"black\" d=\"M484.51,-60.99C482.89,-71.21 486.39,-80.43 495,-80.43 500.52,-80.43 503.93,-76.64 505.25,-71.24\"/>\r\n",
       "<polygon fill=\"black\" stroke=\"black\" points=\"508.76,-71.07 505.49,-60.99 501.76,-70.9 508.76,-71.07\"/>\r\n",
       "<text text-anchor=\"middle\" x=\"495\" y=\"-83.83\" font-family=\"Sans bold\" font-size=\"12.00\">0.83</text>\r\n",
       "</g>\r\n",
       "<!-- C&#45;&gt;D -->\r\n",
       "<g id=\"edge14\" class=\"edge\">\r\n",
       "<title>C&#45;&gt;D</title>\r\n",
       "<path fill=\"none\" stroke=\"black\" d=\"M473.38,-54.28C458.8,-63.86 439.07,-77.53 423,-91.21 415.54,-97.56 407.92,-104.97 401.15,-111.93\"/>\r\n",
       "<polygon fill=\"black\" stroke=\"black\" points=\"398.56,-109.58 394.2,-119.23 403.63,-114.41 398.56,-109.58\"/>\r\n",
       "<text text-anchor=\"middle\" x=\"436.5\" y=\"-94.61\" font-family=\"Sans bold\" font-size=\"12.00\">0.04</text>\r\n",
       "</g>\r\n",
       "<!-- C&#45;&gt;E -->\r\n",
       "<g id=\"edge15\" class=\"edge\">\r\n",
       "<title>C&#45;&gt;E</title>\r\n",
       "<path fill=\"none\" stroke=\"black\" d=\"M467.93,-38.97C426.46,-35.39 345.34,-28.4 298.23,-24.34\"/>\r\n",
       "<polygon fill=\"black\" stroke=\"black\" points=\"298.43,-20.84 288.16,-23.47 297.82,-27.81 298.43,-20.84\"/>\r\n",
       "<text text-anchor=\"middle\" x=\"378\" y=\"-37.61\" font-family=\"Sans bold\" font-size=\"12.00\">0.0</text>\r\n",
       "</g>\r\n",
       "<!-- D&#45;&gt;A -->\r\n",
       "<g id=\"edge16\" class=\"edge\">\r\n",
       "<title>D&#45;&gt;A</title>\r\n",
       "<path fill=\"none\" stroke=\"black\" d=\"M350.86,-135.75C337.38,-135.16 320.71,-133.9 306,-131.21 212.98,-114.24 109.95,-69.43 59.43,-45.61\"/>\r\n",
       "<polygon fill=\"black\" stroke=\"black\" points=\"60.87,-42.42 50.34,-41.28 57.86,-48.74 60.87,-42.42\"/>\r\n",
       "<text text-anchor=\"middle\" x=\"202.5\" y=\"-110.61\" font-family=\"Sans bold\" font-size=\"12.00\">0.13</text>\r\n",
       "</g>\r\n",
       "<!-- D&#45;&gt;B -->\r\n",
       "<g id=\"edge17\" class=\"edge\">\r\n",
       "<title>D&#45;&gt;B</title>\r\n",
       "<path fill=\"none\" stroke=\"black\" d=\"M360.89,-152.92C353.12,-159.98 343.27,-167.62 333,-172.21 274.33,-198.42 252.86,-192.38 189,-185.21 186.08,-184.89 183.07,-184.44 180.06,-183.92\"/>\r\n",
       "<polygon fill=\"black\" stroke=\"black\" points=\"180.46,-180.43 169.96,-181.9 179.09,-187.29 180.46,-180.43\"/>\r\n",
       "<text text-anchor=\"middle\" x=\"261\" y=\"-194.61\" font-family=\"Sans bold\" font-size=\"12.00\">0.04</text>\r\n",
       "</g>\r\n",
       "<!-- D&#45;&gt;C -->\r\n",
       "<g id=\"edge18\" class=\"edge\">\r\n",
       "<title>D&#45;&gt;C</title>\r\n",
       "<path fill=\"none\" stroke=\"black\" d=\"M403.5,-128.86C418.09,-123.63 436.37,-115.52 450,-104.21 461.54,-94.65 471.42,-81.34 478.89,-69.42\"/>\r\n",
       "<polygon fill=\"black\" stroke=\"black\" points=\"481.99,-71.04 484.11,-60.66 475.98,-67.46 481.99,-71.04\"/>\r\n",
       "<text text-anchor=\"middle\" x=\"436.5\" y=\"-122.61\" font-family=\"Sans bold\" font-size=\"12.00\">0.06</text>\r\n",
       "</g>\r\n",
       "<!-- D&#45;&gt;D -->\r\n",
       "<g id=\"edge19\" class=\"edge\">\r\n",
       "<title>D&#45;&gt;D</title>\r\n",
       "<path fill=\"none\" stroke=\"black\" d=\"M367.51,-155.99C365.89,-166.21 369.39,-175.43 378,-175.43 383.52,-175.43 386.93,-171.64 388.25,-166.24\"/>\r\n",
       "<polygon fill=\"black\" stroke=\"black\" points=\"391.76,-166.07 388.49,-155.99 384.76,-165.9 391.76,-166.07\"/>\r\n",
       "<text text-anchor=\"middle\" x=\"378\" y=\"-178.83\" font-family=\"Sans bold\" font-size=\"12.00\">0.76</text>\r\n",
       "</g>\r\n",
       "<!-- D&#45;&gt;E -->\r\n",
       "<g id=\"edge20\" class=\"edge\">\r\n",
       "<title>D&#45;&gt;E</title>\r\n",
       "<path fill=\"none\" stroke=\"black\" d=\"M353.9,-126.6C338.95,-119.54 319.78,-108.81 306,-95.21 293.09,-82.46 282.53,-65.16 274.99,-50.5\"/>\r\n",
       "<polygon fill=\"black\" stroke=\"black\" points=\"278.03,-48.75 270.48,-41.31 271.75,-51.83 278.03,-48.75\"/>\r\n",
       "<text text-anchor=\"middle\" x=\"319.5\" y=\"-118.61\" font-family=\"Sans bold\" font-size=\"12.00\">0.01</text>\r\n",
       "</g>\r\n",
       "<!-- E&#45;&gt;A -->\r\n",
       "<g id=\"edge21\" class=\"edge\">\r\n",
       "<title>E&#45;&gt;A</title>\r\n",
       "<path fill=\"none\" stroke=\"black\" d=\"M233.88,-19.67C205.19,-18.24 157.77,-16.7 117,-19.21 99.41,-20.3 79.97,-22.57 63.76,-24.77\"/>\r\n",
       "<polygon fill=\"black\" stroke=\"black\" points=\"63.04,-21.34 53.63,-26.2 64.02,-28.27 63.04,-21.34\"/>\r\n",
       "<text text-anchor=\"middle\" x=\"144\" y=\"-22.61\" font-family=\"Sans bold\" font-size=\"12.00\">0.1</text>\r\n",
       "</g>\r\n",
       "<!-- E&#45;&gt;B -->\r\n",
       "<g id=\"edge22\" class=\"edge\">\r\n",
       "<title>E&#45;&gt;B</title>\r\n",
       "<path fill=\"none\" stroke=\"black\" d=\"M255.95,-42.12C250.41,-66.13 238.48,-105.62 216,-132.21 205.64,-144.46 190.87,-154.19 177.48,-161.27\"/>\r\n",
       "<polygon fill=\"black\" stroke=\"black\" points=\"175.89,-158.15 168.5,-165.75 179.01,-164.42 175.89,-158.15\"/>\r\n",
       "<text text-anchor=\"middle\" x=\"202.5\" y=\"-156.61\" font-family=\"Sans bold\" font-size=\"12.00\">0.03</text>\r\n",
       "</g>\r\n",
       "<!-- E&#45;&gt;C -->\r\n",
       "<g id=\"edge23\" class=\"edge\">\r\n",
       "<title>E&#45;&gt;C</title>\r\n",
       "<path fill=\"none\" stroke=\"black\" d=\"M284.89,-31.23C302.57,-38.4 327.83,-47.41 351,-51.21 387.42,-57.19 429.63,-52.88 458.7,-48.21\"/>\r\n",
       "<polygon fill=\"black\" stroke=\"black\" points=\"459.51,-51.62 468.78,-46.48 458.33,-44.72 459.51,-51.62\"/>\r\n",
       "<text text-anchor=\"middle\" x=\"378\" y=\"-56.61\" font-family=\"Sans bold\" font-size=\"12.00\">0.03</text>\r\n",
       "</g>\r\n",
       "<!-- E&#45;&gt;D -->\r\n",
       "<g id=\"edge24\" class=\"edge\">\r\n",
       "<title>E&#45;&gt;D</title>\r\n",
       "<path fill=\"none\" stroke=\"black\" d=\"M279.78,-36.59C287.71,-43.34 297.23,-51.29 306,-58.21 317.72,-67.47 322.38,-67.71 333,-78.21 342.48,-87.59 351.62,-99.08 359.08,-109.36\"/>\r\n",
       "<polygon fill=\"black\" stroke=\"black\" points=\"356.3,-111.49 364.94,-117.63 362.02,-107.44 356.3,-111.49\"/>\r\n",
       "<text text-anchor=\"middle\" x=\"319.5\" y=\"-81.61\" font-family=\"Sans bold\" font-size=\"12.00\">0.3</text>\r\n",
       "</g>\r\n",
       "<!-- E&#45;&gt;E -->\r\n",
       "<g id=\"edge25\" class=\"edge\">\r\n",
       "<title>E&#45;&gt;E</title>\r\n",
       "<path fill=\"none\" stroke=\"black\" d=\"M250.51,-40.99C248.89,-51.21 252.39,-60.43 261,-60.43 266.52,-60.43 269.93,-56.64 271.25,-51.24\"/>\r\n",
       "<polygon fill=\"black\" stroke=\"black\" points=\"274.76,-51.07 271.49,-40.99 267.76,-50.9 274.76,-51.07\"/>\r\n",
       "<text text-anchor=\"middle\" x=\"261\" y=\"-63.83\" font-family=\"Sans bold\" font-size=\"12.00\">0.53</text>\r\n",
       "</g>\r\n",
       "</g>\r\n",
       "</svg>\r\n"
      ],
      "text/plain": [
       "<graphviz.dot.Digraph at 0x220feb07bb0>"
      ]
     },
     "execution_count": 63,
     "metadata": {},
     "output_type": "execute_result"
    }
   ],
   "source": [
    "graph  #  can visualize your Markov chain"
   ]
  },
  {
   "cell_type": "code",
   "execution_count": 64,
   "metadata": {},
   "outputs": [
    {
     "data": {
      "text/html": [
       "<div>\n",
       "<style scoped>\n",
       "    .dataframe tbody tr th:only-of-type {\n",
       "        vertical-align: middle;\n",
       "    }\n",
       "\n",
       "    .dataframe tbody tr th {\n",
       "        vertical-align: top;\n",
       "    }\n",
       "\n",
       "    .dataframe thead th {\n",
       "        text-align: right;\n",
       "    }\n",
       "</style>\n",
       "<table border=\"1\" class=\"dataframe\">\n",
       "  <thead>\n",
       "    <tr style=\"text-align: right;\">\n",
       "      <th></th>\n",
       "      <th>A</th>\n",
       "      <th>B</th>\n",
       "      <th>C</th>\n",
       "      <th>D</th>\n",
       "      <th>E</th>\n",
       "    </tr>\n",
       "  </thead>\n",
       "  <tbody>\n",
       "    <tr>\n",
       "      <th>A</th>\n",
       "      <td>10152</td>\n",
       "      <td>692</td>\n",
       "      <td>695</td>\n",
       "      <td>1542</td>\n",
       "      <td>46</td>\n",
       "    </tr>\n",
       "    <tr>\n",
       "      <th>B</th>\n",
       "      <td>672</td>\n",
       "      <td>12121</td>\n",
       "      <td>2288</td>\n",
       "      <td>495</td>\n",
       "      <td>8</td>\n",
       "    </tr>\n",
       "    <tr>\n",
       "      <th>C</th>\n",
       "      <td>691</td>\n",
       "      <td>2242</td>\n",
       "      <td>18003</td>\n",
       "      <td>851</td>\n",
       "      <td>12</td>\n",
       "    </tr>\n",
       "    <tr>\n",
       "      <th>D</th>\n",
       "      <td>1580</td>\n",
       "      <td>518</td>\n",
       "      <td>802</td>\n",
       "      <td>9406</td>\n",
       "      <td>85</td>\n",
       "    </tr>\n",
       "    <tr>\n",
       "      <th>E</th>\n",
       "      <td>33</td>\n",
       "      <td>11</td>\n",
       "      <td>11</td>\n",
       "      <td>96</td>\n",
       "      <td>168</td>\n",
       "    </tr>\n",
       "  </tbody>\n",
       "</table>\n",
       "</div>"
      ],
      "text/plain": [
       "       A      B      C     D    E\n",
       "A  10152    692    695  1542   46\n",
       "B    672  12121   2288   495    8\n",
       "C    691   2242  18003   851   12\n",
       "D   1580    518    802  9406   85\n",
       "E     33     11     11    96  168"
      ]
     },
     "execution_count": 64,
     "metadata": {},
     "output_type": "execute_result"
    }
   ],
   "source": [
    "pd.DataFrame(a.observed_matrix, index=a.states, columns=a.states, dtype=int) # pandas format of markov chain"
   ]
  },
  {
   "cell_type": "code",
   "execution_count": 65,
   "metadata": {},
   "outputs": [],
   "source": [
    "ids, states = a.simulate(10, start='A', seed=np.random.randint(0, 10, 10)) # simulating a Markov chain given the data"
   ]
  },
  {
   "cell_type": "code",
   "execution_count": 66,
   "metadata": {},
   "outputs": [
    {
     "data": {
      "text/plain": [
       "array([0, 2, 1, 3, 3, 0, 0, 0, 1, 1])"
      ]
     },
     "execution_count": 66,
     "metadata": {},
     "output_type": "execute_result"
    }
   ],
   "source": [
    "ids"
   ]
  },
  {
   "cell_type": "code",
   "execution_count": 67,
   "metadata": {},
   "outputs": [
    {
     "data": {
      "text/plain": [
       "array(['A', 'C', 'B', 'D', 'D', 'A', 'A', 'A', 'B', 'B'], dtype='<U1')"
      ]
     },
     "execution_count": 67,
     "metadata": {},
     "output_type": "execute_result"
    }
   ],
   "source": [
    "states"
   ]
  },
  {
   "cell_type": "code",
   "execution_count": 68,
   "metadata": {},
   "outputs": [
    {
     "data": {
      "text/plain": [
       "'ACBDDAAABB'"
      ]
     },
     "execution_count": 68,
     "metadata": {},
     "output_type": "execute_result"
    }
   ],
   "source": [
    "\"\".join(states)  # Simulated Markov chain "
   ]
  },
  {
   "cell_type": "code",
   "execution_count": null,
   "metadata": {},
   "outputs": [],
   "source": [
    "!pip install pomegranate"
   ]
  },
  {
   "cell_type": "code",
   "execution_count": 24,
   "metadata": {},
   "outputs": [],
   "source": [
    "import matplotlib.pyplot as plt\n",
    "import seaborn; seaborn.set_style('whitegrid')\n",
    "import numpy\n",
    "\n",
    "import pomegranate\n",
    "from pomegranate import *\n",
    "\n",
    "numpy.random.seed(0)\n",
    "numpy.set_printoptions(suppress=True)"
   ]
  },
  {
   "cell_type": "code",
   "execution_count": 91,
   "metadata": {},
   "outputs": [],
   "source": [
    "d1 = DiscreteDistribution({'A': 0.20, 'B': 0.20, 'C': 0.20, 'D': 0.20, 'E': 0.20}) # initialize with equal probability\n",
    "d2 = DiscreteDistribution({'A': 0.04, 'B': 0.15, 'C': 0.15, 'D': 0.13, 'E': 0.53}) # graph simulation probabilities"
   ]
  },
  {
   "cell_type": "code",
   "execution_count": 92,
   "metadata": {},
   "outputs": [],
   "source": [
    "s1 = State(d1, name='IS') # INITIAL STATE\n",
    "s2 = State(d2, name='EvS') # EVENT SEQUENCE"
   ]
  },
  {
   "cell_type": "code",
   "execution_count": 93,
   "metadata": {},
   "outputs": [],
   "source": [
    "model = HiddenMarkovModel()\n",
    "model.add_states(s1, s2)"
   ]
  },
  {
   "cell_type": "code",
   "execution_count": 94,
   "metadata": {},
   "outputs": [],
   "source": [
    "model.add_transition(model.start, s1, 0.5)\n",
    "model.add_transition(model.start, s2, 0.5)\n",
    "model.add_transition(s1, s1, 0.9)\n",
    "model.add_transition(s1, s2, 0.1)\n",
    "model.add_transition(s2, s1, 0.1)\n",
    "model.add_transition(s2, s2, 0.9)"
   ]
  },
  {
   "cell_type": "code",
   "execution_count": 95,
   "metadata": {},
   "outputs": [],
   "source": [
    "model.bake()  #  to finalize the internal structure of hmm"
   ]
  },
  {
   "cell_type": "code",
   "execution_count": 96,
   "metadata": {},
   "outputs": [
    {
     "name": "stdout",
     "output_type": "stream",
     "text": [
      "{\n",
      "    \"class\" : \"HiddenMarkovModel\",\n",
      "    \"name\" : \"None\",\n",
      "    \"start\" : {\n",
      "        \"class\" : \"State\",\n",
      "        \"distribution\" : null,\n",
      "        \"name\" : \"None-start\",\n",
      "        \"weight\" : 1.0\n",
      "    },\n",
      "    \"end\" : {\n",
      "        \"class\" : \"State\",\n",
      "        \"distribution\" : null,\n",
      "        \"name\" : \"None-end\",\n",
      "        \"weight\" : 1.0\n",
      "    },\n",
      "    \"states\" : [\n",
      "        {\n",
      "            \"class\" : \"State\",\n",
      "            \"distribution\" : {\n",
      "                \"class\" : \"Distribution\",\n",
      "                \"dtype\" : \"str\",\n",
      "                \"name\" : \"DiscreteDistribution\",\n",
      "                \"parameters\" : [\n",
      "                    {\n",
      "                        \"A\" : 0.04,\n",
      "                        \"B\" : 0.15,\n",
      "                        \"C\" : 0.15,\n",
      "                        \"D\" : 0.13,\n",
      "                        \"E\" : 0.53\n",
      "                    }\n",
      "                ],\n",
      "                \"frozen\" : false\n",
      "            },\n",
      "            \"name\" : \"EvS\",\n",
      "            \"weight\" : 1.0\n",
      "        },\n",
      "        {\n",
      "            \"class\" : \"State\",\n",
      "            \"distribution\" : {\n",
      "                \"class\" : \"Distribution\",\n",
      "                \"dtype\" : \"str\",\n",
      "                \"name\" : \"DiscreteDistribution\",\n",
      "                \"parameters\" : [\n",
      "                    {\n",
      "                        \"A\" : 0.2,\n",
      "                        \"B\" : 0.2,\n",
      "                        \"C\" : 0.2,\n",
      "                        \"D\" : 0.2,\n",
      "                        \"E\" : 0.2\n",
      "                    }\n",
      "                ],\n",
      "                \"frozen\" : false\n",
      "            },\n",
      "            \"name\" : \"IS\",\n",
      "            \"weight\" : 1.0\n",
      "        },\n",
      "        {\n",
      "            \"class\" : \"State\",\n",
      "            \"distribution\" : null,\n",
      "            \"name\" : \"None-start\",\n",
      "            \"weight\" : 1.0\n",
      "        },\n",
      "        {\n",
      "            \"class\" : \"State\",\n",
      "            \"distribution\" : null,\n",
      "            \"name\" : \"None-end\",\n",
      "            \"weight\" : 1.0\n",
      "        }\n",
      "    ],\n",
      "    \"end_index\" : 3,\n",
      "    \"start_index\" : 2,\n",
      "    \"silent_index\" : 2,\n",
      "    \"edges\" : [\n",
      "        [\n",
      "            2,\n",
      "            1,\n",
      "            0.5,\n",
      "            0.5,\n",
      "            null\n",
      "        ],\n",
      "        [\n",
      "            2,\n",
      "            0,\n",
      "            0.5,\n",
      "            0.5,\n",
      "            null\n",
      "        ],\n",
      "        [\n",
      "            1,\n",
      "            1,\n",
      "            0.9,\n",
      "            0.9,\n",
      "            null\n",
      "        ],\n",
      "        [\n",
      "            1,\n",
      "            0,\n",
      "            0.10000000000000003,\n",
      "            0.1,\n",
      "            null\n",
      "        ],\n",
      "        [\n",
      "            0,\n",
      "            1,\n",
      "            0.10000000000000003,\n",
      "            0.1,\n",
      "            null\n",
      "        ],\n",
      "        [\n",
      "            0,\n",
      "            0,\n",
      "            0.9,\n",
      "            0.9,\n",
      "            null\n",
      "        ]\n",
      "    ],\n",
      "    \"distribution ties\" : []\n",
      "}\n"
     ]
    }
   ],
   "source": [
    "print(model.to_json())"
   ]
  },
  {
   "cell_type": "code",
   "execution_count": 97,
   "metadata": {},
   "outputs": [
    {
     "name": "stdout",
     "output_type": "stream",
     "text": [
      "HMM Demo: \n",
      "\n",
      "Simulated Markov Chain sequence: ACBDDAAABB\n",
      "hmm pred for Simulated Sequence: 1111111111 \n",
      "\n",
      "Random sequence: AEEAEEAEACEEECECADC\n",
      "hmm pred for Random Sequence: 1001001110000001111\n"
     ]
    }
   ],
   "source": [
    "simulated_seq = numpy.array(list('ACBDDAAABB')) \n",
    "random_seq = numpy.array(list('AEEAEEAEACEEECECADC'))\n",
    "\n",
    "hmm_sim_pred = model.predict(simulated_seq)\n",
    "hmm_rand_pred = model.predict(random_seq)\n",
    "\n",
    "print(\"HMM Demo: \\n\")\n",
    "print(\"Simulated Markov Chain sequence: {}\".format(''.join(simulated_seq)))\n",
    "print(\"hmm pred for Simulated Sequence: {}\".format(''.join(map( str, hmm_sim_pred))),\"\\n\")\n",
    "\n",
    "print(\"Random sequence: {}\".format(''.join(random_seq)))\n",
    "print(\"hmm pred for Random Sequence: {}\".format(''.join(map( str, hmm_rand_pred))))"
   ]
  },
  {
   "cell_type": "code",
   "execution_count": 98,
   "metadata": {},
   "outputs": [
    {
     "name": "stdout",
     "output_type": "stream",
     "text": [
      "[[0.06096483 0.93903517]\n",
      " [0.05592209 0.94407791]\n",
      " [0.04379965 0.95620035]\n",
      " [0.02962074 0.97037926]\n",
      " [0.00997081 0.99002919]\n",
      " [0.00826728 0.99173272]\n",
      " [0.0189055  0.9810945 ]\n",
      " [0.07688521 0.92311479]\n",
      " [0.13797337 0.86202663]]\n"
     ]
    }
   ],
   "source": [
    "print(model.predict_proba(simulated_seq)[1:])  # transition probabilities for the states in the Simulated sequence"
   ]
  },
  {
   "cell_type": "code",
   "execution_count": 99,
   "metadata": {},
   "outputs": [
    {
     "name": "stdout",
     "output_type": "stream",
     "text": [
      "[[0.50708342 0.49291658]\n",
      " [0.53326834 0.46673166]\n",
      " [0.44379938 0.55620062]\n",
      " [0.55187557 0.44812443]\n",
      " [0.54092948 0.45907052]]\n"
     ]
    }
   ],
   "source": [
    "print(model.predict_proba(random_seq)[1:6])  # transition probabilities for the states in the Random sequence"
   ]
  },
  {
   "cell_type": "code",
   "execution_count": 100,
   "metadata": {},
   "outputs": [
    {
     "name": "stdout",
     "output_type": "stream",
     "text": [
      "[[0.22393482 0.14000678 0.         0.        ]\n",
      " [0.21837466 8.41768375 0.         0.        ]\n",
      " [0.05960548 0.94039452 0.         0.        ]\n",
      " [0.         0.         0.         0.        ]]\n",
      "[[7.82874056 1.29201391 0.         0.        ]\n",
      " [1.19899047 7.68025505 0.         0.        ]\n",
      " [0.33669777 0.66330223 0.         0.        ]\n",
      " [0.         0.         0.         0.        ]]\n"
     ]
    }
   ],
   "source": [
    "\"\"\"\n",
    "using the forward-backward algorithm to just calculate posterior probabilities for each observation, \n",
    "we can count the number of transitions that are predicted to occur between the hidden states\n",
    "\"\"\"\n",
    "trans_sim, ems_sim = model.forward_backward(simulated_seq)\n",
    "print(trans_sim)\n",
    " \n",
    "trans_rand, ems_rand = model.forward_backward(random_seq)\n",
    "print(trans_rand)"
   ]
  },
  {
   "cell_type": "code",
   "execution_count": 107,
   "metadata": {},
   "outputs": [
    {
     "name": "stdout",
     "output_type": "stream",
     "text": [
      "Sequence: 'ACBDDAAABB'  -- Log Probability: -17.735770945821383 -- Path: IS IS IS IS IS IS IS IS IS\n",
      "Sequence: 'CCE'  -- Log Probability: -5.33298645408333 -- Path: EvS EvS\n",
      "Sequence: 'EEAC'  -- Log Probability: -7.394981082159444 -- Path: EvS EvS EvS\n",
      "Sequence: 'AAACBB'  -- Log Probability: -10.876577233453677 -- Path: IS IS IS IS IS\n"
     ]
    }
   ],
   "source": [
    "for sequence in map( list, ('ACBDDAAABB', 'CCE', 'EEAC', 'AAACBB') ):\n",
    "    logp, path = model.viterbi( sequence )\n",
    "    print(\"Sequence: '{}'  -- Log Probability: {} -- Path: {}\".format(\n",
    "        ''.join( sequence ), logp, \" \".join( state.name for idx, state in path[1:-1] ) ))"
   ]
  },
  {
   "cell_type": "code",
   "execution_count": 112,
   "metadata": {},
   "outputs": [
    {
     "name": "stdout",
     "output_type": "stream",
     "text": [
      "Sequence: A, Log Probability: -2.3025850929940455\n",
      "ACDEEC\n",
      "A\n",
      "\n",
      "Sequence: DA, Log Probability: -4.017383521085972\n",
      "-ACDEEC\n",
      "DA\n",
      "\n",
      "Sequence: AC, Log Probability: -4.017383521085972\n",
      "-ACDEEC\n",
      "AC\n",
      "\n",
      "Sequence: AE, Log Probability: -4.017383521085972\n",
      "-ACDEEC\n",
      "AE\n",
      "\n",
      "Sequence: AECC, Log Probability: -7.446980377269825\n",
      "---ACDEEC\n",
      "AECC\n",
      "\n",
      "Sequence: ACEDB, Log Probability: -9.16177880536175\n",
      "----ACDEEC\n",
      "ACEDB\n",
      "\n",
      "Sequence: ABBB, Log Probability: -7.446980377269825\n",
      "---ACDEEC\n",
      "ABBB\n",
      "\n"
     ]
    }
   ],
   "source": [
    "\n",
    "def path_to_alignment( x, y, path ):\n",
    "    \"\"\"\n",
    "    To take two sequences, and insert dashes appropriately to make them appear aligned. \n",
    "    \"\"\"\n",
    "    for i, (index, state) in enumerate( path[1:-1] ):\n",
    "        name = state.name \n",
    "        if name.startswith( 'A' ):\n",
    "            y = y[:i] + '-' + y[i:]\n",
    "        elif name.startswith( 'I' ):\n",
    "            x = x[:i] + '-' + x[i:]\n",
    "    return x, y\n",
    "\n",
    "for sequence in map( list, ('A', 'DA', 'AC', 'AE', 'AECC', 'ACEDB', 'ABBB') ):\n",
    "    logp, path = model.viterbi( sequence ) # applying viterbi algorithm to get the possible seq\n",
    "    x, y = path_to_alignment( 'ACDEEC', ''.join(sequence), path )\n",
    "    print(\"Sequence: {}, Log Probability: {}\".format( ''.join(sequence), logp ))\n",
    "    print(\"{}\\n{}\".format( x, y ))\n",
    "    print()"
   ]
  },
  {
   "cell_type": "code",
   "execution_count": null,
   "metadata": {},
   "outputs": [],
   "source": []
  }
 ],
 "metadata": {
  "kernelspec": {
   "display_name": "Python 3",
   "language": "python",
   "name": "python3"
  },
  "language_info": {
   "codemirror_mode": {
    "name": "ipython",
    "version": 3
   },
   "file_extension": ".py",
   "mimetype": "text/x-python",
   "name": "python",
   "nbconvert_exporter": "python",
   "pygments_lexer": "ipython3",
   "version": "3.8.5"
  }
 },
 "nbformat": 4,
 "nbformat_minor": 4
}

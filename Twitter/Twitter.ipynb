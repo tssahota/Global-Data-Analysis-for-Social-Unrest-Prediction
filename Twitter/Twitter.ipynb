{
 "cells": [
  {
   "cell_type": "code",
   "execution_count": 59,
   "id": "8389f440",
   "metadata": {},
   "outputs": [
    {
     "name": "stderr",
     "output_type": "stream",
     "text": [
      "[nltk_data] Downloading package stopwords to\n",
      "[nltk_data]     /Users/harman/nltk_data...\n",
      "[nltk_data]   Package stopwords is already up-to-date!\n"
     ]
    }
   ],
   "source": [
    "import tweepy\n",
    "import os\n",
    "import json\n",
    "# import sys\n",
    "import geocoder\n",
    "import csv\n",
    "import datetime\n",
    "import re\n",
    "import nltk\n",
    "from nltk.corpus import stopwords\n",
    "import pandas as pd\n",
    "import matplotlib.pyplot as plt\n",
    "import seaborn as sns\n",
    "import itertools\n",
    "import collections\n",
    "import string\n",
    "import numpy as np\n",
    "import plotly.offline as py\n",
    "import plotly.graph_objects as go\n",
    "import networkx as nx\n",
    "import pickle\n",
    "import warnings\n",
    "warnings.filterwarnings(\"ignore\")\n",
    "\n",
    "sns.set(font_scale=1.5)\n",
    "sns.set_style(\"whitegrid\")\n",
    "\n",
    "nltk.download('stopwords')\n",
    "stop_words = set(stopwords.words('english'))\n",
    "stop_words.add('rt')\n"
   ]
  },
  {
   "cell_type": "code",
   "execution_count": 60,
   "id": "2dcf8e09",
   "metadata": {},
   "outputs": [],
   "source": [
    "def remove_url(txt):\n",
    "#     return \" \".join(re.sub(\"([^0-9A-Za-z \\t])|(\\w+:\\/\\/\\S+)\", \"\", txt).split())\n",
    "    return \" \".join(re.sub(r\"http\\S+\", \"\", txt).split())\n",
    "\n",
    "def remove_stop_words(words_in_tweet):\n",
    "    tweets_cleaned = [[word for word in tweet_words if not word in stop_words]\n",
    "                  for tweet_words in words_in_tweet]\n",
    "    return tweets_cleaned\n",
    "\n",
    "def get_count_of_keywords(tweet_words):\n",
    "    count = 0\n",
    "    for w in tweet_words:\n",
    "        if w in keywords:\n",
    "            count = count + 1\n",
    "    return count\n",
    "\n",
    "def preprocess_clean_tweets(tweets):\n",
    "    tweets_lower_case = [tweet.lower().split() for tweet in tweets]\n",
    "    tweets_words_cleaned = remove_stop_words(tweets_lower_case)\n",
    "    return tweets_words_cleaned\n",
    "\n",
    "def analyse_tweets(all_tweets, hashtag):\n",
    "    tweets_url_cleaned = [remove_url(tweet) for tweet in all_tweets]\n",
    "    related_hashtags = {}\n",
    "    for tweet in tweets_url_cleaned:\n",
    "        tag_list = []\n",
    "        for i in tweet.split():\n",
    "            if i.find(\"#\") > -1 and i != hashtag:\n",
    "                i = i[i.find('#'):]\n",
    "                if i[1:].find(\"#\") > 0:\n",
    "                    splits = i.split('#')\n",
    "                    for sp in splits:\n",
    "                        if len(sp) > 0:\n",
    "                            if (sp.rfind('\\'') == len(sp) - 1) or (sp.rfind('\\\"')  == len(sp) - 1) or (sp.rfind('.')  == len(sp) - 1):\n",
    "                                sp = sp[:-1]\n",
    "                            tag_list.append(\"#\"+sp)\n",
    "                else:\n",
    "                    if (i.rfind('\\'') == len(i) - 1) or (i.rfind('\\\"')  == len(i) - 1) or (i.rfind('.')  == len(i) - 1):\n",
    "                                i = i[:-1]\n",
    "                    tag_list.append(i)\n",
    "        if len(tag_list) > 0:\n",
    "            for tag in tag_list:\n",
    "                if hashtag in tag:\n",
    "                    continue\n",
    "                if tag in related_hashtags:\n",
    "                    related_hashtags[tag] += 1\n",
    "                else:\n",
    "                    related_hashtags[tag] = 1\n",
    "    tweet_words = preprocess_clean_tweets(tweets_url_cleaned)\n",
    "    # Flatten list of words in clean tweets\n",
    "    tweet_words_flattened = list(itertools.chain(*tweet_words))\n",
    "    count_keywords = get_count_of_keywords(tweet_words_flattened)\n",
    "    return count_keywords, related_hashtags\n",
    "\n",
    "def create_graph(graph, title):\n",
    "# Custom function to create an edge between node x and node y, with a given text and width\n",
    "    def make_edge(x, y, text, width):\n",
    "        return  go.Scatter(x         = x,\n",
    "                           y         = y,\n",
    "                           line      = dict(width = width,\n",
    "                                       color = 'cornflowerblue'),\n",
    "#                            hoverinfo = 'text',\n",
    "#                            text      = ([text]),\n",
    "                           mode      = 'lines')\n",
    "\n",
    "    edge_trace = []\n",
    "    for edge in graph.edges(): \n",
    "        char_1 = edge[0]\n",
    "        char_2 = edge[1]\n",
    "        x0, y0 = pos_[char_1]\n",
    "        x1, y1 = pos_[char_2]\n",
    "    #     text   = char_1 + '--' + char_2 + ': ' + str(graph.edges()[edge]['weight'])\n",
    "\n",
    "        trace  = make_edge([x0, x1, None], [y0, y1, None], text, \n",
    "                           width = 0.3*graph.edges()[edge]['weight']**1.75)\n",
    "        edge_trace.append(trace)\n",
    "\n",
    "    # Make a node trace\n",
    "    node_trace = go.Scatter(x         = [],\n",
    "                            y         = [],\n",
    "                            text      = [],\n",
    "                            textposition = \"top center\",\n",
    "                            textfont_size = 8,\n",
    "                            mode      = 'markers+text',\n",
    "                            hoverinfo = 'none',\n",
    "                            marker    = dict(color = [],\n",
    "                                             size  = [],\n",
    "                                             line  = None))\n",
    "    # For each node in midsummer, get the position and size and add to the node_trace\n",
    "    for node in graph.nodes():\n",
    "        x, y = pos_[node]\n",
    "        node_trace['x'] += tuple([x])\n",
    "        node_trace['y'] += tuple([y])\n",
    "        node_trace['marker']['color'] += tuple(['cornflowerblue'])\n",
    "        node_trace['marker']['size'] += tuple([5*graph.nodes()[node]['size']])\n",
    "        node_trace['text'] += tuple(['<b>' + node + '</b>'])\n",
    "\n",
    "\n",
    "    # Customize layout\n",
    "    layout = go.Layout(\n",
    "        paper_bgcolor='rgba(0,0,0,0)', # transparent background\n",
    "        plot_bgcolor='rgba(0,0,0,0)', # transparent 2nd background\n",
    "        xaxis =  {'showgrid': False, 'zeroline': False}, # no gridlines\n",
    "        yaxis = {'showgrid': False, 'zeroline': False}, # no gridlines\n",
    "    )\n",
    "    # Create figure\n",
    "    fig = go.Figure(layout = layout )\n",
    "    fig.update_layout(title_text=title, title_x=0.5)\n",
    "    # Add all edge traces\n",
    "    for trace in edge_trace:\n",
    "        fig.add_trace(trace)\n",
    "    # Add node trace mulitple times for \n",
    "    fig.add_trace(node_trace)\n",
    "    fig.add_trace(node_trace)\n",
    "    fig.add_trace(node_trace)\n",
    "    # Remove legend\n",
    "    fig.update_layout(showlegend = False)\n",
    "    # Remove tick labels\n",
    "    fig.update_xaxes(showticklabels = False)\n",
    "    fig.update_yaxes(showticklabels = False)\n",
    "    # Show figure\n",
    "    fig.show()"
   ]
  },
  {
   "cell_type": "code",
   "execution_count": 73,
   "id": "41ce4556",
   "metadata": {},
   "outputs": [],
   "source": [
    "keywords = ['protest', 'protests', 'protesting', 'uprising', 'insurgence', 'insurrection', 'rebellion', 'revolt', \n",
    "            'insurgency', 'distubance', 'riot', 'rioting', 'riots', 'unrest', 'coup', 'treason', \n",
    "            'violence', 'demonstration', 'uproar', 'disorder','arrest','criminal','criminals','revolution'\n",
    "           ]\n",
    "\n",
    "# API Keys and Tokens\n",
    "consumer_key = ''\n",
    "consumer_secret = ''\n",
    "access_token = ''\n",
    "access_token_secret = ''\n",
    "\n",
    "# Authorization and Authentication\n",
    "auth = tweepy.OAuthHandler(consumer_key, consumer_secret)\n",
    "auth.set_access_token(access_token, access_token_secret)\n",
    "api = tweepy.API(auth)\n",
    "\n",
    "# Trends for Specific Country\n",
    "loc = 'India'   \n",
    "g = geocoder.osm(loc)\n",
    "\n",
    "# Switch to use Twitter api \n",
    "online = False"
   ]
  },
  {
   "cell_type": "code",
   "execution_count": 76,
   "id": "4c8c23a7",
   "metadata": {},
   "outputs": [
    {
     "name": "stdout",
     "output_type": "stream",
     "text": [
      "{'#DelhiPolice_TorturingFarmers': 6, 'Dainik Bhaskar Defaming SSR': 1, 'Terrorists': 1}\n",
      "{'#DelhiPolice_TorturingFarmers': {'#FarmersProtest': 9, '#Farmers_vs_BikauModi': 1, '#DoYouKnow': 1}, 'Dainik Bhaskar Defaming SSR': {'#ClubhouseJournos': 1, '#JusticeForSushantSinghRajput': 1, '#JusticeForDishaSalian': 1}, 'Terrorists': {'#Apr12Coup': 20, '#WhatsHappeningInMyanmar': 19, '#SaveBalochRefugees': 1, '#Mandalay': 1, '#Myanmar': 8, '#WhatsHappeninglnMyanmar': 6, '#MilkTeaAlliance': 8, '#MyayPhyu': 1, '#Taunggyi': 1, '#Apr11Coup': 4, '#Tamu,': 3, '#FlashStrikeMyanmar': 1, '#Turkey': 1, '#TurkeyIsATerrorState': 1, '#UkraineRussia': 1, '#UkraineWar': 1, '#Donbass': 1, '#BreakingNews': 1, '#Parents': 1, '#terrorists': 1, '#encounter:': 1, '#FreeRealityWinner': 1, '#GOPSedition': 1, '#TrumpTreason': 1, '#BlueLivesMatter': 1, '#LockThemAllUp': 1, '#jessicawatkins': 1, '#rileywilliams': 1, '#ashlibabbit': 1, '#locktrumpup': 1, '#TheSaraCarterShow': 1}}\n"
     ]
    }
   ],
   "source": [
    "hashtag_tweet_dict = {}\n",
    "hashtag_tweet_keyword_count = {}\n",
    "related_hashtag_dict = {}\n",
    "\n",
    "if online:\n",
    "    closest_loc = api.trends_closest(g.lat, g.lng)\n",
    "    trends = api.trends_place(closest_loc[0]['woeid'])\n",
    "    current_datetime = datetime.datetime.now().strftime(\"%Y%m%d-%H%M%S\")\n",
    "    # writing a JSON file that has the latest trends for that location\n",
    "    with open(\"twitter_{}_trend_\".format(loc)+current_datetime+\".json\",\"w\") as wp:\n",
    "        wp.write(json.dumps(trends, indent=1))\n",
    "\n",
    "    hashtags_count = len(trends[0]['trends'])\n",
    "\n",
    "    for i in range(0, hashtags_count):\n",
    "        hashtag = trends[0]['trends'][i]['name']\n",
    "        tweet_vol = trends[0]['trends'][i]['tweet_volume']\n",
    "        if tweet_vol is None:\n",
    "            continue\n",
    "        query = hashtag\n",
    "        all_tweets = []\n",
    "        for tweet in tweepy.Cursor(api.search,q=query,\n",
    "                                   lang=\"en\",tweet_mode='extended').items(50):\n",
    "            try:\n",
    "                text = tweet.retweeted_status.full_text\n",
    "            except AttributeError:\n",
    "                text = tweet.full_text\n",
    "            all_tweets.append(text)\n",
    "        hashtag_tweet_dict[hashtag] = all_tweets\n",
    "    f = open(\"tweets_\"+loc+\"_\"+current_datetime+'.pkl',\"wb\")\n",
    "    pickle.dump(hashtag_tweet_dict,f)\n",
    "    f.close()\n",
    "else:\n",
    "    trend_file = 'twitter_India_trend_20210411-194605.json'\n",
    "    with open(trend_file) as f:\n",
    "          trends = json.load(f)\n",
    "    tweets_file = open(\"tweets_India_20210411-194605.pkl\", \"rb\")\n",
    "    hashtag_tweet_dict = pickle.load(tweets_file)\n",
    "\n",
    "for tag in hashtag_tweet_dict.keys():\n",
    "    tweets = hashtag_tweet_dict[tag]\n",
    "    keyword_count, related_hashtags = analyse_tweets(tweets, tag)\n",
    "    if keyword_count > 0:\n",
    "        hashtag_tweet_keyword_count[tag] = keyword_count\n",
    "        related_hashtag_dict[tag] = related_hashtags\n",
    "print(hashtag_tweet_keyword_count)\n",
    "print(related_hashtag_dict)"
   ]
  },
  {
   "cell_type": "code",
   "execution_count": 85,
   "id": "459f8aba",
   "metadata": {},
   "outputs": [
    {
     "name": "stdout",
     "output_type": "stream",
     "text": [
      "Continue making graphs\n",
      "49\n"
     ]
    }
   ],
   "source": [
    "if len(hashtag_tweet_keyword_count.keys()) == 0:\n",
    "    print(\"No Data Found\")\n",
    "else:\n",
    "    print(\"Continue making graphs\")"
   ]
  },
  {
   "cell_type": "code",
   "execution_count": 86,
   "id": "94ccd6fb",
   "metadata": {},
   "outputs": [
    {
     "data": {
      "application/vnd.plotly.v1+json": {
       "config": {
        "plotlyServerURL": "https://plot.ly"
       },
       "data": [
        {
         "line": {
          "color": "cornflowerblue",
          "width": 0.06983892433179516
         },
         "mode": "lines",
         "type": "scatter",
         "x": [
          1,
          0,
          null
         ],
         "y": [
          1.1590888104312498e-09,
          0,
          null
         ]
        },
        {
         "line": {
          "color": "cornflowerblue",
          "width": 0.7901372317725844
         },
         "mode": "lines",
         "type": "scatter",
         "x": [
          0.9659258131471902,
          0,
          null
         ],
         "y": [
          0.2588190415600929,
          0,
          null
         ]
        },
        {
         "line": {
          "color": "cornflowerblue",
          "width": 2.373858087231902
         },
         "mode": "lines",
         "type": "scatter",
         "x": [
          0.866025389915538,
          0,
          null
         ],
         "y": [
          0.4999999949089345,
          0,
          null
         ]
        },
        {
         "line": {
          "color": "cornflowerblue",
          "width": 2.103871021408325
         },
         "mode": "lines",
         "type": "scatter",
         "x": [
          0.707106772746186,
          0,
          null
         ],
         "y": [
          0.7071067614049663,
          0,
          null
         ]
        },
        {
         "line": {
          "color": "cornflowerblue",
          "width": 0.1419898319013745
         },
         "mode": "lines",
         "type": "scatter",
         "x": [
          0.49999997644783223,
          0,
          null
         ],
         "y": [
          0.8660254381789624,
          0,
          null
         ]
        },
        {
         "line": {
          "color": "cornflowerblue",
          "width": 1.1676025889217487
         },
         "mode": "lines",
         "type": "scatter",
         "x": [
          0.2588190827036347,
          0,
          null
         ],
         "y": [
          0.9659258018059704,
          0,
          null
         ]
        },
        {
         "line": {
          "color": "cornflowerblue",
          "width": 0.3471303265603352
         },
         "mode": "lines",
         "type": "scatter",
         "x": [
          -3.121107918252761e-08,
          0,
          null
         ],
         "y": [
          0.9999999886587801,
          0,
          null
         ]
        },
        {
         "line": {
          "color": "cornflowerblue",
          "width": 3.5901603889824414
         },
         "mode": "lines",
         "type": "scatter",
         "x": [
          -0.2588189980983735,
          0,
          null
         ],
         "y": [
          0.9659258018059704,
          0,
          null
         ]
        },
        {
         "line": {
          "color": "cornflowerblue",
          "width": 2.9551577001410805
         },
         "mode": "lines",
         "type": "scatter",
         "x": [
          -0.5000000408541811,
          0,
          null
         ],
         "y": [
          0.8660253785743184,
          0,
          null
         ]
        },
        {
         "line": {
          "color": "cornflowerblue",
          "width": 1.3795334909138406
         },
         "mode": "lines",
         "type": "scatter",
         "x": [
          -0.707106747745569,
          0,
          null
         ],
         "y": [
          0.7071067614049663,
          0,
          null
         ]
        },
        {
         "line": {
          "color": "cornflowerblue",
          "width": 1.6064315679519983
         },
         "mode": "lines",
         "type": "scatter",
         "x": [
          -0.866025364914921,
          0,
          null
         ],
         "y": [
          0.5000000545135785,
          0,
          null
         ]
        },
        {
         "line": {
          "color": "cornflowerblue",
          "width": 3.266043262792943
         },
         "mode": "lines",
         "type": "scatter",
         "x": [
          -0.9659257881465731,
          0,
          null
         ],
         "y": [
          0.25881913096705894,
          0,
          null
         ]
        },
        {
         "line": {
          "color": "cornflowerblue",
          "width": 4.640179068927566
         },
         "mode": "lines",
         "type": "scatter",
         "x": [
          -0.9999999749993828,
          0,
          null
         ],
         "y": [
          -8.626368667023292e-08,
          0,
          null
         ]
        },
        {
         "line": {
          "color": "cornflowerblue",
          "width": 0.9710004715050174
         },
         "mode": "lines",
         "type": "scatter",
         "x": [
          -0.9659257881465731,
          0,
          null
         ],
         "y": [
          -0.2588190690442373,
          0,
          null
         ]
        },
        {
         "line": {
          "color": "cornflowerblue",
          "width": 4.277389658132821
         },
         "mode": "lines",
         "type": "scatter",
         "x": [
          -0.866025424519565,
          0,
          null
         ],
         "y": [
          -0.49999996278843484,
          0,
          null
         ]
        },
        {
         "line": {
          "color": "cornflowerblue",
          "width": 2.6576942630242386
         },
         "mode": "lines",
         "type": "scatter",
         "x": [
          -0.707106807350213,
          0,
          null
         ],
         "y": [
          -0.7071066994821447,
          0,
          null
         ]
        },
        {
         "line": {
          "color": "cornflowerblue",
          "width": 0.020763236429876864
         },
         "mode": "lines",
         "type": "scatter",
         "x": [
          -0.49999989184257104,
          0,
          null
         ],
         "y": [
          -0.8660254358607847,
          0,
          null
         ]
        },
        {
         "line": {
          "color": "cornflowerblue",
          "width": 0.23490920446312785
         },
         "mode": "lines",
         "type": "scatter",
         "x": [
          0,
          0.7071066535368979,
          null
         ],
         "y": [
          0,
          -0.7071068782960768,
          null
         ]
        },
        {
         "line": {
          "color": "cornflowerblue",
          "width": 0.47759496259337336
         },
         "mode": "lines",
         "type": "scatter",
         "x": [
          0,
          0.25881899329666863,
          null
         ],
         "y": [
          0,
          -0.9659257994877928,
          null
         ]
        },
        {
         "line": {
          "color": "cornflowerblue",
          "width": 0.6254845969267057
         },
         "mode": "lines",
         "type": "scatter",
         "x": [
          0,
          0.866025330310894,
          null
         ],
         "y": [
          0,
          -0.5000001714046889,
          null
         ]
        },
        {
         "line": {
          "color": "cornflowerblue",
          "width": 1.847974251803045
         },
         "mode": "lines",
         "type": "scatter",
         "x": [
          0,
          0.9659258727518342,
          null
         ],
         "y": [
          0,
          -0.2588188306256612,
          null
         ]
        },
        {
         "line": {
          "color": "cornflowerblue",
          "width": 3.92733132586102
         },
         "mode": "lines",
         "type": "scatter",
         "x": [
          0,
          2.4425189047242842e-08,
          null
         ],
         "y": [
          0,
          -0.9999999863406025,
          null
         ]
        },
        {
         "line": {
          "color": "cornflowerblue",
          "width": 5.015552287323165
         },
         "mode": "lines",
         "type": "scatter",
         "x": [
          0,
          0.4999999168431882,
          null
         ],
         "y": [
          0,
          -0.8660254358607847,
          null
         ]
        },
        {
         "hoverinfo": "none",
         "marker": {
          "color": [
           "cornflowerblue",
           "cornflowerblue",
           "cornflowerblue",
           "cornflowerblue",
           "cornflowerblue",
           "cornflowerblue",
           "cornflowerblue",
           "cornflowerblue",
           "cornflowerblue",
           "cornflowerblue",
           "cornflowerblue",
           "cornflowerblue",
           "cornflowerblue",
           "cornflowerblue",
           "cornflowerblue",
           "cornflowerblue",
           "cornflowerblue",
           "cornflowerblue",
           "cornflowerblue",
           "cornflowerblue",
           "cornflowerblue",
           "cornflowerblue",
           "cornflowerblue",
           "cornflowerblue"
          ],
          "size": [
           7.173913043478261,
           13.695652173913043,
           21.304347826086953,
           20.21739130434782,
           8.26086956521739,
           15.869565217391305,
           10.434782608695652,
           25.652173913043477,
           23.478260869565215,
           16.956521739130434,
           18.043478260869566,
           24.565217391304344,
           28.913043478260867,
           14.782608695652172,
           27.82608695652174,
           22.391304347826086,
           6.086956521739131,
           50,
           26.73913043478261,
           11.521739130434783,
           30,
           9.347826086956522,
           12.60869565217391,
           19.130434782608695
          ]
         },
         "mode": "markers+text",
         "text": [
          "<b>Singh Ji Insan</b>",
          "<b>Buenos Aires</b>",
          "<b>STREAM DYNAMITE</b>",
          "<b>May Allah</b>",
          "<b>Conor</b>",
          "<b>Hire</b>",
          "<b>Stay Blessed</b>",
          "<b>श्री राम</b>",
          "<b>Hideki Matsuyama</b>",
          "<b>Natanz</b>",
          "<b>Happy Morning</b>",
          "<b>Dainik Bhaskar Defaming SSR</b>",
          "<b>Terrorists</b>",
          "<b>#DelhiPolice_TorturingFarmers</b>",
          "<b>Hindu</b>",
          "<b>HAVE A GREAT DAY</b>",
          "<b>#SpreadKindness</b>",
          "<b>India</b>",
          "<b>Cavani</b>",
          "<b>Samad</b>",
          "<b>Jose</b>",
          "<b>Good Morning Friends</b>",
          "<b>Saint Dr.</b>",
          "<b>Almighty</b>"
         ],
         "textfont": {
          "size": 8
         },
         "textposition": "top center",
         "type": "scatter",
         "x": [
          1,
          0.9659258131471902,
          0.866025389915538,
          0.707106772746186,
          0.49999997644783223,
          0.2588190827036347,
          -3.121107918252761e-08,
          -0.2588189980983735,
          -0.5000000408541811,
          -0.707106747745569,
          -0.866025364914921,
          -0.9659257881465731,
          -0.9999999749993828,
          -0.9659257881465731,
          -0.866025424519565,
          -0.707106807350213,
          -0.49999989184257104,
          0,
          2.4425189047242842e-08,
          0.25881899329666863,
          0.4999999168431882,
          0.7071066535368979,
          0.866025330310894,
          0.9659258727518342
         ],
         "y": [
          1.1590888104312498e-09,
          0.2588190415600929,
          0.4999999949089345,
          0.7071067614049663,
          0.8660254381789624,
          0.9659258018059704,
          0.9999999886587801,
          0.9659258018059704,
          0.8660253785743184,
          0.7071067614049663,
          0.5000000545135785,
          0.25881913096705894,
          -8.626368667023292e-08,
          -0.2588190690442373,
          -0.49999996278843484,
          -0.7071066994821447,
          -0.8660254358607847,
          0,
          -0.9999999863406025,
          -0.9659257994877928,
          -0.8660254358607847,
          -0.7071068782960768,
          -0.5000001714046889,
          -0.2588188306256612
         ]
        },
        {
         "hoverinfo": "none",
         "marker": {
          "color": [
           "cornflowerblue",
           "cornflowerblue",
           "cornflowerblue",
           "cornflowerblue",
           "cornflowerblue",
           "cornflowerblue",
           "cornflowerblue",
           "cornflowerblue",
           "cornflowerblue",
           "cornflowerblue",
           "cornflowerblue",
           "cornflowerblue",
           "cornflowerblue",
           "cornflowerblue",
           "cornflowerblue",
           "cornflowerblue",
           "cornflowerblue",
           "cornflowerblue",
           "cornflowerblue",
           "cornflowerblue",
           "cornflowerblue",
           "cornflowerblue",
           "cornflowerblue",
           "cornflowerblue"
          ],
          "size": [
           7.173913043478261,
           13.695652173913043,
           21.304347826086953,
           20.21739130434782,
           8.26086956521739,
           15.869565217391305,
           10.434782608695652,
           25.652173913043477,
           23.478260869565215,
           16.956521739130434,
           18.043478260869566,
           24.565217391304344,
           28.913043478260867,
           14.782608695652172,
           27.82608695652174,
           22.391304347826086,
           6.086956521739131,
           50,
           26.73913043478261,
           11.521739130434783,
           30,
           9.347826086956522,
           12.60869565217391,
           19.130434782608695
          ]
         },
         "mode": "markers+text",
         "text": [
          "<b>Singh Ji Insan</b>",
          "<b>Buenos Aires</b>",
          "<b>STREAM DYNAMITE</b>",
          "<b>May Allah</b>",
          "<b>Conor</b>",
          "<b>Hire</b>",
          "<b>Stay Blessed</b>",
          "<b>श्री राम</b>",
          "<b>Hideki Matsuyama</b>",
          "<b>Natanz</b>",
          "<b>Happy Morning</b>",
          "<b>Dainik Bhaskar Defaming SSR</b>",
          "<b>Terrorists</b>",
          "<b>#DelhiPolice_TorturingFarmers</b>",
          "<b>Hindu</b>",
          "<b>HAVE A GREAT DAY</b>",
          "<b>#SpreadKindness</b>",
          "<b>India</b>",
          "<b>Cavani</b>",
          "<b>Samad</b>",
          "<b>Jose</b>",
          "<b>Good Morning Friends</b>",
          "<b>Saint Dr.</b>",
          "<b>Almighty</b>"
         ],
         "textfont": {
          "size": 8
         },
         "textposition": "top center",
         "type": "scatter",
         "x": [
          1,
          0.9659258131471902,
          0.866025389915538,
          0.707106772746186,
          0.49999997644783223,
          0.2588190827036347,
          -3.121107918252761e-08,
          -0.2588189980983735,
          -0.5000000408541811,
          -0.707106747745569,
          -0.866025364914921,
          -0.9659257881465731,
          -0.9999999749993828,
          -0.9659257881465731,
          -0.866025424519565,
          -0.707106807350213,
          -0.49999989184257104,
          0,
          2.4425189047242842e-08,
          0.25881899329666863,
          0.4999999168431882,
          0.7071066535368979,
          0.866025330310894,
          0.9659258727518342
         ],
         "y": [
          1.1590888104312498e-09,
          0.2588190415600929,
          0.4999999949089345,
          0.7071067614049663,
          0.8660254381789624,
          0.9659258018059704,
          0.9999999886587801,
          0.9659258018059704,
          0.8660253785743184,
          0.7071067614049663,
          0.5000000545135785,
          0.25881913096705894,
          -8.626368667023292e-08,
          -0.2588190690442373,
          -0.49999996278843484,
          -0.7071066994821447,
          -0.8660254358607847,
          0,
          -0.9999999863406025,
          -0.9659257994877928,
          -0.8660254358607847,
          -0.7071068782960768,
          -0.5000001714046889,
          -0.2588188306256612
         ]
        },
        {
         "hoverinfo": "none",
         "marker": {
          "color": [
           "cornflowerblue",
           "cornflowerblue",
           "cornflowerblue",
           "cornflowerblue",
           "cornflowerblue",
           "cornflowerblue",
           "cornflowerblue",
           "cornflowerblue",
           "cornflowerblue",
           "cornflowerblue",
           "cornflowerblue",
           "cornflowerblue",
           "cornflowerblue",
           "cornflowerblue",
           "cornflowerblue",
           "cornflowerblue",
           "cornflowerblue",
           "cornflowerblue",
           "cornflowerblue",
           "cornflowerblue",
           "cornflowerblue",
           "cornflowerblue",
           "cornflowerblue",
           "cornflowerblue"
          ],
          "size": [
           7.173913043478261,
           13.695652173913043,
           21.304347826086953,
           20.21739130434782,
           8.26086956521739,
           15.869565217391305,
           10.434782608695652,
           25.652173913043477,
           23.478260869565215,
           16.956521739130434,
           18.043478260869566,
           24.565217391304344,
           28.913043478260867,
           14.782608695652172,
           27.82608695652174,
           22.391304347826086,
           6.086956521739131,
           50,
           26.73913043478261,
           11.521739130434783,
           30,
           9.347826086956522,
           12.60869565217391,
           19.130434782608695
          ]
         },
         "mode": "markers+text",
         "text": [
          "<b>Singh Ji Insan</b>",
          "<b>Buenos Aires</b>",
          "<b>STREAM DYNAMITE</b>",
          "<b>May Allah</b>",
          "<b>Conor</b>",
          "<b>Hire</b>",
          "<b>Stay Blessed</b>",
          "<b>श्री राम</b>",
          "<b>Hideki Matsuyama</b>",
          "<b>Natanz</b>",
          "<b>Happy Morning</b>",
          "<b>Dainik Bhaskar Defaming SSR</b>",
          "<b>Terrorists</b>",
          "<b>#DelhiPolice_TorturingFarmers</b>",
          "<b>Hindu</b>",
          "<b>HAVE A GREAT DAY</b>",
          "<b>#SpreadKindness</b>",
          "<b>India</b>",
          "<b>Cavani</b>",
          "<b>Samad</b>",
          "<b>Jose</b>",
          "<b>Good Morning Friends</b>",
          "<b>Saint Dr.</b>",
          "<b>Almighty</b>"
         ],
         "textfont": {
          "size": 8
         },
         "textposition": "top center",
         "type": "scatter",
         "x": [
          1,
          0.9659258131471902,
          0.866025389915538,
          0.707106772746186,
          0.49999997644783223,
          0.2588190827036347,
          -3.121107918252761e-08,
          -0.2588189980983735,
          -0.5000000408541811,
          -0.707106747745569,
          -0.866025364914921,
          -0.9659257881465731,
          -0.9999999749993828,
          -0.9659257881465731,
          -0.866025424519565,
          -0.707106807350213,
          -0.49999989184257104,
          0,
          2.4425189047242842e-08,
          0.25881899329666863,
          0.4999999168431882,
          0.7071066535368979,
          0.866025330310894,
          0.9659258727518342
         ],
         "y": [
          1.1590888104312498e-09,
          0.2588190415600929,
          0.4999999949089345,
          0.7071067614049663,
          0.8660254381789624,
          0.9659258018059704,
          0.9999999886587801,
          0.9659258018059704,
          0.8660253785743184,
          0.7071067614049663,
          0.5000000545135785,
          0.25881913096705894,
          -8.626368667023292e-08,
          -0.2588190690442373,
          -0.49999996278843484,
          -0.7071066994821447,
          -0.8660254358607847,
          0,
          -0.9999999863406025,
          -0.9659257994877928,
          -0.8660254358607847,
          -0.7071068782960768,
          -0.5000001714046889,
          -0.2588188306256612
         ]
        }
       ],
       "layout": {
        "paper_bgcolor": "rgba(0,0,0,0)",
        "plot_bgcolor": "rgba(0,0,0,0)",
        "showlegend": false,
        "template": {
         "data": {
          "bar": [
           {
            "error_x": {
             "color": "#2a3f5f"
            },
            "error_y": {
             "color": "#2a3f5f"
            },
            "marker": {
             "line": {
              "color": "#E5ECF6",
              "width": 0.5
             }
            },
            "type": "bar"
           }
          ],
          "barpolar": [
           {
            "marker": {
             "line": {
              "color": "#E5ECF6",
              "width": 0.5
             }
            },
            "type": "barpolar"
           }
          ],
          "carpet": [
           {
            "aaxis": {
             "endlinecolor": "#2a3f5f",
             "gridcolor": "white",
             "linecolor": "white",
             "minorgridcolor": "white",
             "startlinecolor": "#2a3f5f"
            },
            "baxis": {
             "endlinecolor": "#2a3f5f",
             "gridcolor": "white",
             "linecolor": "white",
             "minorgridcolor": "white",
             "startlinecolor": "#2a3f5f"
            },
            "type": "carpet"
           }
          ],
          "choropleth": [
           {
            "colorbar": {
             "outlinewidth": 0,
             "ticks": ""
            },
            "type": "choropleth"
           }
          ],
          "contour": [
           {
            "colorbar": {
             "outlinewidth": 0,
             "ticks": ""
            },
            "colorscale": [
             [
              0,
              "#0d0887"
             ],
             [
              0.1111111111111111,
              "#46039f"
             ],
             [
              0.2222222222222222,
              "#7201a8"
             ],
             [
              0.3333333333333333,
              "#9c179e"
             ],
             [
              0.4444444444444444,
              "#bd3786"
             ],
             [
              0.5555555555555556,
              "#d8576b"
             ],
             [
              0.6666666666666666,
              "#ed7953"
             ],
             [
              0.7777777777777778,
              "#fb9f3a"
             ],
             [
              0.8888888888888888,
              "#fdca26"
             ],
             [
              1,
              "#f0f921"
             ]
            ],
            "type": "contour"
           }
          ],
          "contourcarpet": [
           {
            "colorbar": {
             "outlinewidth": 0,
             "ticks": ""
            },
            "type": "contourcarpet"
           }
          ],
          "heatmap": [
           {
            "colorbar": {
             "outlinewidth": 0,
             "ticks": ""
            },
            "colorscale": [
             [
              0,
              "#0d0887"
             ],
             [
              0.1111111111111111,
              "#46039f"
             ],
             [
              0.2222222222222222,
              "#7201a8"
             ],
             [
              0.3333333333333333,
              "#9c179e"
             ],
             [
              0.4444444444444444,
              "#bd3786"
             ],
             [
              0.5555555555555556,
              "#d8576b"
             ],
             [
              0.6666666666666666,
              "#ed7953"
             ],
             [
              0.7777777777777778,
              "#fb9f3a"
             ],
             [
              0.8888888888888888,
              "#fdca26"
             ],
             [
              1,
              "#f0f921"
             ]
            ],
            "type": "heatmap"
           }
          ],
          "heatmapgl": [
           {
            "colorbar": {
             "outlinewidth": 0,
             "ticks": ""
            },
            "colorscale": [
             [
              0,
              "#0d0887"
             ],
             [
              0.1111111111111111,
              "#46039f"
             ],
             [
              0.2222222222222222,
              "#7201a8"
             ],
             [
              0.3333333333333333,
              "#9c179e"
             ],
             [
              0.4444444444444444,
              "#bd3786"
             ],
             [
              0.5555555555555556,
              "#d8576b"
             ],
             [
              0.6666666666666666,
              "#ed7953"
             ],
             [
              0.7777777777777778,
              "#fb9f3a"
             ],
             [
              0.8888888888888888,
              "#fdca26"
             ],
             [
              1,
              "#f0f921"
             ]
            ],
            "type": "heatmapgl"
           }
          ],
          "histogram": [
           {
            "marker": {
             "colorbar": {
              "outlinewidth": 0,
              "ticks": ""
             }
            },
            "type": "histogram"
           }
          ],
          "histogram2d": [
           {
            "colorbar": {
             "outlinewidth": 0,
             "ticks": ""
            },
            "colorscale": [
             [
              0,
              "#0d0887"
             ],
             [
              0.1111111111111111,
              "#46039f"
             ],
             [
              0.2222222222222222,
              "#7201a8"
             ],
             [
              0.3333333333333333,
              "#9c179e"
             ],
             [
              0.4444444444444444,
              "#bd3786"
             ],
             [
              0.5555555555555556,
              "#d8576b"
             ],
             [
              0.6666666666666666,
              "#ed7953"
             ],
             [
              0.7777777777777778,
              "#fb9f3a"
             ],
             [
              0.8888888888888888,
              "#fdca26"
             ],
             [
              1,
              "#f0f921"
             ]
            ],
            "type": "histogram2d"
           }
          ],
          "histogram2dcontour": [
           {
            "colorbar": {
             "outlinewidth": 0,
             "ticks": ""
            },
            "colorscale": [
             [
              0,
              "#0d0887"
             ],
             [
              0.1111111111111111,
              "#46039f"
             ],
             [
              0.2222222222222222,
              "#7201a8"
             ],
             [
              0.3333333333333333,
              "#9c179e"
             ],
             [
              0.4444444444444444,
              "#bd3786"
             ],
             [
              0.5555555555555556,
              "#d8576b"
             ],
             [
              0.6666666666666666,
              "#ed7953"
             ],
             [
              0.7777777777777778,
              "#fb9f3a"
             ],
             [
              0.8888888888888888,
              "#fdca26"
             ],
             [
              1,
              "#f0f921"
             ]
            ],
            "type": "histogram2dcontour"
           }
          ],
          "mesh3d": [
           {
            "colorbar": {
             "outlinewidth": 0,
             "ticks": ""
            },
            "type": "mesh3d"
           }
          ],
          "parcoords": [
           {
            "line": {
             "colorbar": {
              "outlinewidth": 0,
              "ticks": ""
             }
            },
            "type": "parcoords"
           }
          ],
          "pie": [
           {
            "automargin": true,
            "type": "pie"
           }
          ],
          "scatter": [
           {
            "marker": {
             "colorbar": {
              "outlinewidth": 0,
              "ticks": ""
             }
            },
            "type": "scatter"
           }
          ],
          "scatter3d": [
           {
            "line": {
             "colorbar": {
              "outlinewidth": 0,
              "ticks": ""
             }
            },
            "marker": {
             "colorbar": {
              "outlinewidth": 0,
              "ticks": ""
             }
            },
            "type": "scatter3d"
           }
          ],
          "scattercarpet": [
           {
            "marker": {
             "colorbar": {
              "outlinewidth": 0,
              "ticks": ""
             }
            },
            "type": "scattercarpet"
           }
          ],
          "scattergeo": [
           {
            "marker": {
             "colorbar": {
              "outlinewidth": 0,
              "ticks": ""
             }
            },
            "type": "scattergeo"
           }
          ],
          "scattergl": [
           {
            "marker": {
             "colorbar": {
              "outlinewidth": 0,
              "ticks": ""
             }
            },
            "type": "scattergl"
           }
          ],
          "scattermapbox": [
           {
            "marker": {
             "colorbar": {
              "outlinewidth": 0,
              "ticks": ""
             }
            },
            "type": "scattermapbox"
           }
          ],
          "scatterpolar": [
           {
            "marker": {
             "colorbar": {
              "outlinewidth": 0,
              "ticks": ""
             }
            },
            "type": "scatterpolar"
           }
          ],
          "scatterpolargl": [
           {
            "marker": {
             "colorbar": {
              "outlinewidth": 0,
              "ticks": ""
             }
            },
            "type": "scatterpolargl"
           }
          ],
          "scatterternary": [
           {
            "marker": {
             "colorbar": {
              "outlinewidth": 0,
              "ticks": ""
             }
            },
            "type": "scatterternary"
           }
          ],
          "surface": [
           {
            "colorbar": {
             "outlinewidth": 0,
             "ticks": ""
            },
            "colorscale": [
             [
              0,
              "#0d0887"
             ],
             [
              0.1111111111111111,
              "#46039f"
             ],
             [
              0.2222222222222222,
              "#7201a8"
             ],
             [
              0.3333333333333333,
              "#9c179e"
             ],
             [
              0.4444444444444444,
              "#bd3786"
             ],
             [
              0.5555555555555556,
              "#d8576b"
             ],
             [
              0.6666666666666666,
              "#ed7953"
             ],
             [
              0.7777777777777778,
              "#fb9f3a"
             ],
             [
              0.8888888888888888,
              "#fdca26"
             ],
             [
              1,
              "#f0f921"
             ]
            ],
            "type": "surface"
           }
          ],
          "table": [
           {
            "cells": {
             "fill": {
              "color": "#EBF0F8"
             },
             "line": {
              "color": "white"
             }
            },
            "header": {
             "fill": {
              "color": "#C8D4E3"
             },
             "line": {
              "color": "white"
             }
            },
            "type": "table"
           }
          ]
         },
         "layout": {
          "annotationdefaults": {
           "arrowcolor": "#2a3f5f",
           "arrowhead": 0,
           "arrowwidth": 1
          },
          "autotypenumbers": "strict",
          "coloraxis": {
           "colorbar": {
            "outlinewidth": 0,
            "ticks": ""
           }
          },
          "colorscale": {
           "diverging": [
            [
             0,
             "#8e0152"
            ],
            [
             0.1,
             "#c51b7d"
            ],
            [
             0.2,
             "#de77ae"
            ],
            [
             0.3,
             "#f1b6da"
            ],
            [
             0.4,
             "#fde0ef"
            ],
            [
             0.5,
             "#f7f7f7"
            ],
            [
             0.6,
             "#e6f5d0"
            ],
            [
             0.7,
             "#b8e186"
            ],
            [
             0.8,
             "#7fbc41"
            ],
            [
             0.9,
             "#4d9221"
            ],
            [
             1,
             "#276419"
            ]
           ],
           "sequential": [
            [
             0,
             "#0d0887"
            ],
            [
             0.1111111111111111,
             "#46039f"
            ],
            [
             0.2222222222222222,
             "#7201a8"
            ],
            [
             0.3333333333333333,
             "#9c179e"
            ],
            [
             0.4444444444444444,
             "#bd3786"
            ],
            [
             0.5555555555555556,
             "#d8576b"
            ],
            [
             0.6666666666666666,
             "#ed7953"
            ],
            [
             0.7777777777777778,
             "#fb9f3a"
            ],
            [
             0.8888888888888888,
             "#fdca26"
            ],
            [
             1,
             "#f0f921"
            ]
           ],
           "sequentialminus": [
            [
             0,
             "#0d0887"
            ],
            [
             0.1111111111111111,
             "#46039f"
            ],
            [
             0.2222222222222222,
             "#7201a8"
            ],
            [
             0.3333333333333333,
             "#9c179e"
            ],
            [
             0.4444444444444444,
             "#bd3786"
            ],
            [
             0.5555555555555556,
             "#d8576b"
            ],
            [
             0.6666666666666666,
             "#ed7953"
            ],
            [
             0.7777777777777778,
             "#fb9f3a"
            ],
            [
             0.8888888888888888,
             "#fdca26"
            ],
            [
             1,
             "#f0f921"
            ]
           ]
          },
          "colorway": [
           "#636efa",
           "#EF553B",
           "#00cc96",
           "#ab63fa",
           "#FFA15A",
           "#19d3f3",
           "#FF6692",
           "#B6E880",
           "#FF97FF",
           "#FECB52"
          ],
          "font": {
           "color": "#2a3f5f"
          },
          "geo": {
           "bgcolor": "white",
           "lakecolor": "white",
           "landcolor": "#E5ECF6",
           "showlakes": true,
           "showland": true,
           "subunitcolor": "white"
          },
          "hoverlabel": {
           "align": "left"
          },
          "hovermode": "closest",
          "mapbox": {
           "style": "light"
          },
          "paper_bgcolor": "white",
          "plot_bgcolor": "#E5ECF6",
          "polar": {
           "angularaxis": {
            "gridcolor": "white",
            "linecolor": "white",
            "ticks": ""
           },
           "bgcolor": "#E5ECF6",
           "radialaxis": {
            "gridcolor": "white",
            "linecolor": "white",
            "ticks": ""
           }
          },
          "scene": {
           "xaxis": {
            "backgroundcolor": "#E5ECF6",
            "gridcolor": "white",
            "gridwidth": 2,
            "linecolor": "white",
            "showbackground": true,
            "ticks": "",
            "zerolinecolor": "white"
           },
           "yaxis": {
            "backgroundcolor": "#E5ECF6",
            "gridcolor": "white",
            "gridwidth": 2,
            "linecolor": "white",
            "showbackground": true,
            "ticks": "",
            "zerolinecolor": "white"
           },
           "zaxis": {
            "backgroundcolor": "#E5ECF6",
            "gridcolor": "white",
            "gridwidth": 2,
            "linecolor": "white",
            "showbackground": true,
            "ticks": "",
            "zerolinecolor": "white"
           }
          },
          "shapedefaults": {
           "line": {
            "color": "#2a3f5f"
           }
          },
          "ternary": {
           "aaxis": {
            "gridcolor": "white",
            "linecolor": "white",
            "ticks": ""
           },
           "baxis": {
            "gridcolor": "white",
            "linecolor": "white",
            "ticks": ""
           },
           "bgcolor": "#E5ECF6",
           "caxis": {
            "gridcolor": "white",
            "linecolor": "white",
            "ticks": ""
           }
          },
          "title": {
           "x": 0.05
          },
          "xaxis": {
           "automargin": true,
           "gridcolor": "white",
           "linecolor": "white",
           "ticks": "",
           "title": {
            "standoff": 15
           },
           "zerolinecolor": "white",
           "zerolinewidth": 2
          },
          "yaxis": {
           "automargin": true,
           "gridcolor": "white",
           "linecolor": "white",
           "ticks": "",
           "title": {
            "standoff": 15
           },
           "zerolinecolor": "white",
           "zerolinewidth": 2
          }
         }
        },
        "title": {
         "text": "TRENDING HASHTAGS",
         "x": 0.5
        },
        "xaxis": {
         "showgrid": false,
         "showticklabels": false,
         "zeroline": false
        },
        "yaxis": {
         "showgrid": false,
         "showticklabels": false,
         "zeroline": false
        }
       }
      },
      "text/html": [
       "<div>                            <div id=\"154a777a-ac98-4370-983c-c30441cee685\" class=\"plotly-graph-div\" style=\"height:525px; width:100%;\"></div>            <script type=\"text/javascript\">                require([\"plotly\"], function(Plotly) {                    window.PLOTLYENV=window.PLOTLYENV || {};                                    if (document.getElementById(\"154a777a-ac98-4370-983c-c30441cee685\")) {                    Plotly.newPlot(                        \"154a777a-ac98-4370-983c-c30441cee685\",                        [{\"line\": {\"color\": \"cornflowerblue\", \"width\": 0.06983892433179516}, \"mode\": \"lines\", \"type\": \"scatter\", \"x\": [1.0, 0, null], \"y\": [1.1590888104312498e-09, 0, null]}, {\"line\": {\"color\": \"cornflowerblue\", \"width\": 0.7901372317725844}, \"mode\": \"lines\", \"type\": \"scatter\", \"x\": [0.9659258131471902, 0, null], \"y\": [0.2588190415600929, 0, null]}, {\"line\": {\"color\": \"cornflowerblue\", \"width\": 2.373858087231902}, \"mode\": \"lines\", \"type\": \"scatter\", \"x\": [0.866025389915538, 0, null], \"y\": [0.4999999949089345, 0, null]}, {\"line\": {\"color\": \"cornflowerblue\", \"width\": 2.103871021408325}, \"mode\": \"lines\", \"type\": \"scatter\", \"x\": [0.707106772746186, 0, null], \"y\": [0.7071067614049663, 0, null]}, {\"line\": {\"color\": \"cornflowerblue\", \"width\": 0.1419898319013745}, \"mode\": \"lines\", \"type\": \"scatter\", \"x\": [0.49999997644783223, 0, null], \"y\": [0.8660254381789624, 0, null]}, {\"line\": {\"color\": \"cornflowerblue\", \"width\": 1.1676025889217487}, \"mode\": \"lines\", \"type\": \"scatter\", \"x\": [0.2588190827036347, 0, null], \"y\": [0.9659258018059704, 0, null]}, {\"line\": {\"color\": \"cornflowerblue\", \"width\": 0.3471303265603352}, \"mode\": \"lines\", \"type\": \"scatter\", \"x\": [-3.121107918252761e-08, 0, null], \"y\": [0.9999999886587801, 0, null]}, {\"line\": {\"color\": \"cornflowerblue\", \"width\": 3.5901603889824414}, \"mode\": \"lines\", \"type\": \"scatter\", \"x\": [-0.2588189980983735, 0, null], \"y\": [0.9659258018059704, 0, null]}, {\"line\": {\"color\": \"cornflowerblue\", \"width\": 2.9551577001410805}, \"mode\": \"lines\", \"type\": \"scatter\", \"x\": [-0.5000000408541811, 0, null], \"y\": [0.8660253785743184, 0, null]}, {\"line\": {\"color\": \"cornflowerblue\", \"width\": 1.3795334909138406}, \"mode\": \"lines\", \"type\": \"scatter\", \"x\": [-0.707106747745569, 0, null], \"y\": [0.7071067614049663, 0, null]}, {\"line\": {\"color\": \"cornflowerblue\", \"width\": 1.6064315679519983}, \"mode\": \"lines\", \"type\": \"scatter\", \"x\": [-0.866025364914921, 0, null], \"y\": [0.5000000545135785, 0, null]}, {\"line\": {\"color\": \"cornflowerblue\", \"width\": 3.266043262792943}, \"mode\": \"lines\", \"type\": \"scatter\", \"x\": [-0.9659257881465731, 0, null], \"y\": [0.25881913096705894, 0, null]}, {\"line\": {\"color\": \"cornflowerblue\", \"width\": 4.640179068927566}, \"mode\": \"lines\", \"type\": \"scatter\", \"x\": [-0.9999999749993828, 0, null], \"y\": [-8.626368667023292e-08, 0, null]}, {\"line\": {\"color\": \"cornflowerblue\", \"width\": 0.9710004715050174}, \"mode\": \"lines\", \"type\": \"scatter\", \"x\": [-0.9659257881465731, 0, null], \"y\": [-0.2588190690442373, 0, null]}, {\"line\": {\"color\": \"cornflowerblue\", \"width\": 4.277389658132821}, \"mode\": \"lines\", \"type\": \"scatter\", \"x\": [-0.866025424519565, 0, null], \"y\": [-0.49999996278843484, 0, null]}, {\"line\": {\"color\": \"cornflowerblue\", \"width\": 2.6576942630242386}, \"mode\": \"lines\", \"type\": \"scatter\", \"x\": [-0.707106807350213, 0, null], \"y\": [-0.7071066994821447, 0, null]}, {\"line\": {\"color\": \"cornflowerblue\", \"width\": 0.020763236429876864}, \"mode\": \"lines\", \"type\": \"scatter\", \"x\": [-0.49999989184257104, 0, null], \"y\": [-0.8660254358607847, 0, null]}, {\"line\": {\"color\": \"cornflowerblue\", \"width\": 0.23490920446312785}, \"mode\": \"lines\", \"type\": \"scatter\", \"x\": [0, 0.7071066535368979, null], \"y\": [0, -0.7071068782960768, null]}, {\"line\": {\"color\": \"cornflowerblue\", \"width\": 0.47759496259337336}, \"mode\": \"lines\", \"type\": \"scatter\", \"x\": [0, 0.25881899329666863, null], \"y\": [0, -0.9659257994877928, null]}, {\"line\": {\"color\": \"cornflowerblue\", \"width\": 0.6254845969267057}, \"mode\": \"lines\", \"type\": \"scatter\", \"x\": [0, 0.866025330310894, null], \"y\": [0, -0.5000001714046889, null]}, {\"line\": {\"color\": \"cornflowerblue\", \"width\": 1.847974251803045}, \"mode\": \"lines\", \"type\": \"scatter\", \"x\": [0, 0.9659258727518342, null], \"y\": [0, -0.2588188306256612, null]}, {\"line\": {\"color\": \"cornflowerblue\", \"width\": 3.92733132586102}, \"mode\": \"lines\", \"type\": \"scatter\", \"x\": [0, 2.4425189047242842e-08, null], \"y\": [0, -0.9999999863406025, null]}, {\"line\": {\"color\": \"cornflowerblue\", \"width\": 5.015552287323165}, \"mode\": \"lines\", \"type\": \"scatter\", \"x\": [0, 0.4999999168431882, null], \"y\": [0, -0.8660254358607847, null]}, {\"hoverinfo\": \"none\", \"marker\": {\"color\": [\"cornflowerblue\", \"cornflowerblue\", \"cornflowerblue\", \"cornflowerblue\", \"cornflowerblue\", \"cornflowerblue\", \"cornflowerblue\", \"cornflowerblue\", \"cornflowerblue\", \"cornflowerblue\", \"cornflowerblue\", \"cornflowerblue\", \"cornflowerblue\", \"cornflowerblue\", \"cornflowerblue\", \"cornflowerblue\", \"cornflowerblue\", \"cornflowerblue\", \"cornflowerblue\", \"cornflowerblue\", \"cornflowerblue\", \"cornflowerblue\", \"cornflowerblue\", \"cornflowerblue\"], \"size\": [7.173913043478261, 13.695652173913043, 21.304347826086953, 20.21739130434782, 8.26086956521739, 15.869565217391305, 10.434782608695652, 25.652173913043477, 23.478260869565215, 16.956521739130434, 18.043478260869566, 24.565217391304344, 28.913043478260867, 14.782608695652172, 27.82608695652174, 22.391304347826086, 6.086956521739131, 50, 26.73913043478261, 11.521739130434783, 30.0, 9.347826086956522, 12.60869565217391, 19.130434782608695]}, \"mode\": \"markers+text\", \"text\": [\"<b>Singh Ji Insan</b>\", \"<b>Buenos Aires</b>\", \"<b>STREAM DYNAMITE</b>\", \"<b>May Allah</b>\", \"<b>Conor</b>\", \"<b>Hire</b>\", \"<b>Stay Blessed</b>\", \"<b>\\u0936\\u094d\\u0930\\u0940 \\u0930\\u093e\\u092e</b>\", \"<b>Hideki Matsuyama</b>\", \"<b>Natanz</b>\", \"<b>Happy Morning</b>\", \"<b>Dainik Bhaskar Defaming SSR</b>\", \"<b>Terrorists</b>\", \"<b>#DelhiPolice_TorturingFarmers</b>\", \"<b>Hindu</b>\", \"<b>HAVE A GREAT DAY</b>\", \"<b>#SpreadKindness</b>\", \"<b>India</b>\", \"<b>Cavani</b>\", \"<b>Samad</b>\", \"<b>Jose</b>\", \"<b>Good Morning Friends</b>\", \"<b>Saint Dr.</b>\", \"<b>Almighty</b>\"], \"textfont\": {\"size\": 8}, \"textposition\": \"top center\", \"type\": \"scatter\", \"x\": [1.0, 0.9659258131471902, 0.866025389915538, 0.707106772746186, 0.49999997644783223, 0.2588190827036347, -3.121107918252761e-08, -0.2588189980983735, -0.5000000408541811, -0.707106747745569, -0.866025364914921, -0.9659257881465731, -0.9999999749993828, -0.9659257881465731, -0.866025424519565, -0.707106807350213, -0.49999989184257104, 0, 2.4425189047242842e-08, 0.25881899329666863, 0.4999999168431882, 0.7071066535368979, 0.866025330310894, 0.9659258727518342], \"y\": [1.1590888104312498e-09, 0.2588190415600929, 0.4999999949089345, 0.7071067614049663, 0.8660254381789624, 0.9659258018059704, 0.9999999886587801, 0.9659258018059704, 0.8660253785743184, 0.7071067614049663, 0.5000000545135785, 0.25881913096705894, -8.626368667023292e-08, -0.2588190690442373, -0.49999996278843484, -0.7071066994821447, -0.8660254358607847, 0, -0.9999999863406025, -0.9659257994877928, -0.8660254358607847, -0.7071068782960768, -0.5000001714046889, -0.2588188306256612]}, {\"hoverinfo\": \"none\", \"marker\": {\"color\": [\"cornflowerblue\", \"cornflowerblue\", \"cornflowerblue\", \"cornflowerblue\", \"cornflowerblue\", \"cornflowerblue\", \"cornflowerblue\", \"cornflowerblue\", \"cornflowerblue\", \"cornflowerblue\", \"cornflowerblue\", \"cornflowerblue\", \"cornflowerblue\", \"cornflowerblue\", \"cornflowerblue\", \"cornflowerblue\", \"cornflowerblue\", \"cornflowerblue\", \"cornflowerblue\", \"cornflowerblue\", \"cornflowerblue\", \"cornflowerblue\", \"cornflowerblue\", \"cornflowerblue\"], \"size\": [7.173913043478261, 13.695652173913043, 21.304347826086953, 20.21739130434782, 8.26086956521739, 15.869565217391305, 10.434782608695652, 25.652173913043477, 23.478260869565215, 16.956521739130434, 18.043478260869566, 24.565217391304344, 28.913043478260867, 14.782608695652172, 27.82608695652174, 22.391304347826086, 6.086956521739131, 50, 26.73913043478261, 11.521739130434783, 30.0, 9.347826086956522, 12.60869565217391, 19.130434782608695]}, \"mode\": \"markers+text\", \"text\": [\"<b>Singh Ji Insan</b>\", \"<b>Buenos Aires</b>\", \"<b>STREAM DYNAMITE</b>\", \"<b>May Allah</b>\", \"<b>Conor</b>\", \"<b>Hire</b>\", \"<b>Stay Blessed</b>\", \"<b>\\u0936\\u094d\\u0930\\u0940 \\u0930\\u093e\\u092e</b>\", \"<b>Hideki Matsuyama</b>\", \"<b>Natanz</b>\", \"<b>Happy Morning</b>\", \"<b>Dainik Bhaskar Defaming SSR</b>\", \"<b>Terrorists</b>\", \"<b>#DelhiPolice_TorturingFarmers</b>\", \"<b>Hindu</b>\", \"<b>HAVE A GREAT DAY</b>\", \"<b>#SpreadKindness</b>\", \"<b>India</b>\", \"<b>Cavani</b>\", \"<b>Samad</b>\", \"<b>Jose</b>\", \"<b>Good Morning Friends</b>\", \"<b>Saint Dr.</b>\", \"<b>Almighty</b>\"], \"textfont\": {\"size\": 8}, \"textposition\": \"top center\", \"type\": \"scatter\", \"x\": [1.0, 0.9659258131471902, 0.866025389915538, 0.707106772746186, 0.49999997644783223, 0.2588190827036347, -3.121107918252761e-08, -0.2588189980983735, -0.5000000408541811, -0.707106747745569, -0.866025364914921, -0.9659257881465731, -0.9999999749993828, -0.9659257881465731, -0.866025424519565, -0.707106807350213, -0.49999989184257104, 0, 2.4425189047242842e-08, 0.25881899329666863, 0.4999999168431882, 0.7071066535368979, 0.866025330310894, 0.9659258727518342], \"y\": [1.1590888104312498e-09, 0.2588190415600929, 0.4999999949089345, 0.7071067614049663, 0.8660254381789624, 0.9659258018059704, 0.9999999886587801, 0.9659258018059704, 0.8660253785743184, 0.7071067614049663, 0.5000000545135785, 0.25881913096705894, -8.626368667023292e-08, -0.2588190690442373, -0.49999996278843484, -0.7071066994821447, -0.8660254358607847, 0, -0.9999999863406025, -0.9659257994877928, -0.8660254358607847, -0.7071068782960768, -0.5000001714046889, -0.2588188306256612]}, {\"hoverinfo\": \"none\", \"marker\": {\"color\": [\"cornflowerblue\", \"cornflowerblue\", \"cornflowerblue\", \"cornflowerblue\", \"cornflowerblue\", \"cornflowerblue\", \"cornflowerblue\", \"cornflowerblue\", \"cornflowerblue\", \"cornflowerblue\", \"cornflowerblue\", \"cornflowerblue\", \"cornflowerblue\", \"cornflowerblue\", \"cornflowerblue\", \"cornflowerblue\", \"cornflowerblue\", \"cornflowerblue\", \"cornflowerblue\", \"cornflowerblue\", \"cornflowerblue\", \"cornflowerblue\", \"cornflowerblue\", \"cornflowerblue\"], \"size\": [7.173913043478261, 13.695652173913043, 21.304347826086953, 20.21739130434782, 8.26086956521739, 15.869565217391305, 10.434782608695652, 25.652173913043477, 23.478260869565215, 16.956521739130434, 18.043478260869566, 24.565217391304344, 28.913043478260867, 14.782608695652172, 27.82608695652174, 22.391304347826086, 6.086956521739131, 50, 26.73913043478261, 11.521739130434783, 30.0, 9.347826086956522, 12.60869565217391, 19.130434782608695]}, \"mode\": \"markers+text\", \"text\": [\"<b>Singh Ji Insan</b>\", \"<b>Buenos Aires</b>\", \"<b>STREAM DYNAMITE</b>\", \"<b>May Allah</b>\", \"<b>Conor</b>\", \"<b>Hire</b>\", \"<b>Stay Blessed</b>\", \"<b>\\u0936\\u094d\\u0930\\u0940 \\u0930\\u093e\\u092e</b>\", \"<b>Hideki Matsuyama</b>\", \"<b>Natanz</b>\", \"<b>Happy Morning</b>\", \"<b>Dainik Bhaskar Defaming SSR</b>\", \"<b>Terrorists</b>\", \"<b>#DelhiPolice_TorturingFarmers</b>\", \"<b>Hindu</b>\", \"<b>HAVE A GREAT DAY</b>\", \"<b>#SpreadKindness</b>\", \"<b>India</b>\", \"<b>Cavani</b>\", \"<b>Samad</b>\", \"<b>Jose</b>\", \"<b>Good Morning Friends</b>\", \"<b>Saint Dr.</b>\", \"<b>Almighty</b>\"], \"textfont\": {\"size\": 8}, \"textposition\": \"top center\", \"type\": \"scatter\", \"x\": [1.0, 0.9659258131471902, 0.866025389915538, 0.707106772746186, 0.49999997644783223, 0.2588190827036347, -3.121107918252761e-08, -0.2588189980983735, -0.5000000408541811, -0.707106747745569, -0.866025364914921, -0.9659257881465731, -0.9999999749993828, -0.9659257881465731, -0.866025424519565, -0.707106807350213, -0.49999989184257104, 0, 2.4425189047242842e-08, 0.25881899329666863, 0.4999999168431882, 0.7071066535368979, 0.866025330310894, 0.9659258727518342], \"y\": [1.1590888104312498e-09, 0.2588190415600929, 0.4999999949089345, 0.7071067614049663, 0.8660254381789624, 0.9659258018059704, 0.9999999886587801, 0.9659258018059704, 0.8660253785743184, 0.7071067614049663, 0.5000000545135785, 0.25881913096705894, -8.626368667023292e-08, -0.2588190690442373, -0.49999996278843484, -0.7071066994821447, -0.8660254358607847, 0, -0.9999999863406025, -0.9659257994877928, -0.8660254358607847, -0.7071068782960768, -0.5000001714046889, -0.2588188306256612]}],                        {\"paper_bgcolor\": \"rgba(0,0,0,0)\", \"plot_bgcolor\": \"rgba(0,0,0,0)\", \"showlegend\": false, \"template\": {\"data\": {\"bar\": [{\"error_x\": {\"color\": \"#2a3f5f\"}, \"error_y\": {\"color\": \"#2a3f5f\"}, \"marker\": {\"line\": {\"color\": \"#E5ECF6\", \"width\": 0.5}}, \"type\": \"bar\"}], \"barpolar\": [{\"marker\": {\"line\": {\"color\": \"#E5ECF6\", \"width\": 0.5}}, \"type\": \"barpolar\"}], \"carpet\": [{\"aaxis\": {\"endlinecolor\": \"#2a3f5f\", \"gridcolor\": \"white\", \"linecolor\": \"white\", \"minorgridcolor\": \"white\", \"startlinecolor\": \"#2a3f5f\"}, \"baxis\": {\"endlinecolor\": \"#2a3f5f\", \"gridcolor\": \"white\", \"linecolor\": \"white\", \"minorgridcolor\": \"white\", \"startlinecolor\": \"#2a3f5f\"}, \"type\": \"carpet\"}], \"choropleth\": [{\"colorbar\": {\"outlinewidth\": 0, \"ticks\": \"\"}, \"type\": \"choropleth\"}], \"contour\": [{\"colorbar\": {\"outlinewidth\": 0, \"ticks\": \"\"}, \"colorscale\": [[0.0, \"#0d0887\"], [0.1111111111111111, \"#46039f\"], [0.2222222222222222, \"#7201a8\"], [0.3333333333333333, \"#9c179e\"], [0.4444444444444444, \"#bd3786\"], [0.5555555555555556, \"#d8576b\"], [0.6666666666666666, \"#ed7953\"], [0.7777777777777778, \"#fb9f3a\"], [0.8888888888888888, \"#fdca26\"], [1.0, \"#f0f921\"]], \"type\": \"contour\"}], \"contourcarpet\": [{\"colorbar\": {\"outlinewidth\": 0, \"ticks\": \"\"}, \"type\": \"contourcarpet\"}], \"heatmap\": [{\"colorbar\": {\"outlinewidth\": 0, \"ticks\": \"\"}, \"colorscale\": [[0.0, \"#0d0887\"], [0.1111111111111111, \"#46039f\"], [0.2222222222222222, \"#7201a8\"], [0.3333333333333333, \"#9c179e\"], [0.4444444444444444, \"#bd3786\"], [0.5555555555555556, \"#d8576b\"], [0.6666666666666666, \"#ed7953\"], [0.7777777777777778, \"#fb9f3a\"], [0.8888888888888888, \"#fdca26\"], [1.0, \"#f0f921\"]], \"type\": \"heatmap\"}], \"heatmapgl\": [{\"colorbar\": {\"outlinewidth\": 0, \"ticks\": \"\"}, \"colorscale\": [[0.0, \"#0d0887\"], [0.1111111111111111, \"#46039f\"], [0.2222222222222222, \"#7201a8\"], [0.3333333333333333, \"#9c179e\"], [0.4444444444444444, \"#bd3786\"], [0.5555555555555556, \"#d8576b\"], [0.6666666666666666, \"#ed7953\"], [0.7777777777777778, \"#fb9f3a\"], [0.8888888888888888, \"#fdca26\"], [1.0, \"#f0f921\"]], \"type\": \"heatmapgl\"}], \"histogram\": [{\"marker\": {\"colorbar\": {\"outlinewidth\": 0, \"ticks\": \"\"}}, \"type\": \"histogram\"}], \"histogram2d\": [{\"colorbar\": {\"outlinewidth\": 0, \"ticks\": \"\"}, \"colorscale\": [[0.0, \"#0d0887\"], [0.1111111111111111, \"#46039f\"], [0.2222222222222222, \"#7201a8\"], [0.3333333333333333, \"#9c179e\"], [0.4444444444444444, \"#bd3786\"], [0.5555555555555556, \"#d8576b\"], [0.6666666666666666, \"#ed7953\"], [0.7777777777777778, \"#fb9f3a\"], [0.8888888888888888, \"#fdca26\"], [1.0, \"#f0f921\"]], \"type\": \"histogram2d\"}], \"histogram2dcontour\": [{\"colorbar\": {\"outlinewidth\": 0, \"ticks\": \"\"}, \"colorscale\": [[0.0, \"#0d0887\"], [0.1111111111111111, \"#46039f\"], [0.2222222222222222, \"#7201a8\"], [0.3333333333333333, \"#9c179e\"], [0.4444444444444444, \"#bd3786\"], [0.5555555555555556, \"#d8576b\"], [0.6666666666666666, \"#ed7953\"], [0.7777777777777778, \"#fb9f3a\"], [0.8888888888888888, \"#fdca26\"], [1.0, \"#f0f921\"]], \"type\": \"histogram2dcontour\"}], \"mesh3d\": [{\"colorbar\": {\"outlinewidth\": 0, \"ticks\": \"\"}, \"type\": \"mesh3d\"}], \"parcoords\": [{\"line\": {\"colorbar\": {\"outlinewidth\": 0, \"ticks\": \"\"}}, \"type\": \"parcoords\"}], \"pie\": [{\"automargin\": true, \"type\": \"pie\"}], \"scatter\": [{\"marker\": {\"colorbar\": {\"outlinewidth\": 0, \"ticks\": \"\"}}, \"type\": \"scatter\"}], \"scatter3d\": [{\"line\": {\"colorbar\": {\"outlinewidth\": 0, \"ticks\": \"\"}}, \"marker\": {\"colorbar\": {\"outlinewidth\": 0, \"ticks\": \"\"}}, \"type\": \"scatter3d\"}], \"scattercarpet\": [{\"marker\": {\"colorbar\": {\"outlinewidth\": 0, \"ticks\": \"\"}}, \"type\": \"scattercarpet\"}], \"scattergeo\": [{\"marker\": {\"colorbar\": {\"outlinewidth\": 0, \"ticks\": \"\"}}, \"type\": \"scattergeo\"}], \"scattergl\": [{\"marker\": {\"colorbar\": {\"outlinewidth\": 0, \"ticks\": \"\"}}, \"type\": \"scattergl\"}], \"scattermapbox\": [{\"marker\": {\"colorbar\": {\"outlinewidth\": 0, \"ticks\": \"\"}}, \"type\": \"scattermapbox\"}], \"scatterpolar\": [{\"marker\": {\"colorbar\": {\"outlinewidth\": 0, \"ticks\": \"\"}}, \"type\": \"scatterpolar\"}], \"scatterpolargl\": [{\"marker\": {\"colorbar\": {\"outlinewidth\": 0, \"ticks\": \"\"}}, \"type\": \"scatterpolargl\"}], \"scatterternary\": [{\"marker\": {\"colorbar\": {\"outlinewidth\": 0, \"ticks\": \"\"}}, \"type\": \"scatterternary\"}], \"surface\": [{\"colorbar\": {\"outlinewidth\": 0, \"ticks\": \"\"}, \"colorscale\": [[0.0, \"#0d0887\"], [0.1111111111111111, \"#46039f\"], [0.2222222222222222, \"#7201a8\"], [0.3333333333333333, \"#9c179e\"], [0.4444444444444444, \"#bd3786\"], [0.5555555555555556, \"#d8576b\"], [0.6666666666666666, \"#ed7953\"], [0.7777777777777778, \"#fb9f3a\"], [0.8888888888888888, \"#fdca26\"], [1.0, \"#f0f921\"]], \"type\": \"surface\"}], \"table\": [{\"cells\": {\"fill\": {\"color\": \"#EBF0F8\"}, \"line\": {\"color\": \"white\"}}, \"header\": {\"fill\": {\"color\": \"#C8D4E3\"}, \"line\": {\"color\": \"white\"}}, \"type\": \"table\"}]}, \"layout\": {\"annotationdefaults\": {\"arrowcolor\": \"#2a3f5f\", \"arrowhead\": 0, \"arrowwidth\": 1}, \"autotypenumbers\": \"strict\", \"coloraxis\": {\"colorbar\": {\"outlinewidth\": 0, \"ticks\": \"\"}}, \"colorscale\": {\"diverging\": [[0, \"#8e0152\"], [0.1, \"#c51b7d\"], [0.2, \"#de77ae\"], [0.3, \"#f1b6da\"], [0.4, \"#fde0ef\"], [0.5, \"#f7f7f7\"], [0.6, \"#e6f5d0\"], [0.7, \"#b8e186\"], [0.8, \"#7fbc41\"], [0.9, \"#4d9221\"], [1, \"#276419\"]], \"sequential\": [[0.0, \"#0d0887\"], [0.1111111111111111, \"#46039f\"], [0.2222222222222222, \"#7201a8\"], [0.3333333333333333, \"#9c179e\"], [0.4444444444444444, \"#bd3786\"], [0.5555555555555556, \"#d8576b\"], [0.6666666666666666, \"#ed7953\"], [0.7777777777777778, \"#fb9f3a\"], [0.8888888888888888, \"#fdca26\"], [1.0, \"#f0f921\"]], \"sequentialminus\": [[0.0, \"#0d0887\"], [0.1111111111111111, \"#46039f\"], [0.2222222222222222, \"#7201a8\"], [0.3333333333333333, \"#9c179e\"], [0.4444444444444444, \"#bd3786\"], [0.5555555555555556, \"#d8576b\"], [0.6666666666666666, \"#ed7953\"], [0.7777777777777778, \"#fb9f3a\"], [0.8888888888888888, \"#fdca26\"], [1.0, \"#f0f921\"]]}, \"colorway\": [\"#636efa\", \"#EF553B\", \"#00cc96\", \"#ab63fa\", \"#FFA15A\", \"#19d3f3\", \"#FF6692\", \"#B6E880\", \"#FF97FF\", \"#FECB52\"], \"font\": {\"color\": \"#2a3f5f\"}, \"geo\": {\"bgcolor\": \"white\", \"lakecolor\": \"white\", \"landcolor\": \"#E5ECF6\", \"showlakes\": true, \"showland\": true, \"subunitcolor\": \"white\"}, \"hoverlabel\": {\"align\": \"left\"}, \"hovermode\": \"closest\", \"mapbox\": {\"style\": \"light\"}, \"paper_bgcolor\": \"white\", \"plot_bgcolor\": \"#E5ECF6\", \"polar\": {\"angularaxis\": {\"gridcolor\": \"white\", \"linecolor\": \"white\", \"ticks\": \"\"}, \"bgcolor\": \"#E5ECF6\", \"radialaxis\": {\"gridcolor\": \"white\", \"linecolor\": \"white\", \"ticks\": \"\"}}, \"scene\": {\"xaxis\": {\"backgroundcolor\": \"#E5ECF6\", \"gridcolor\": \"white\", \"gridwidth\": 2, \"linecolor\": \"white\", \"showbackground\": true, \"ticks\": \"\", \"zerolinecolor\": \"white\"}, \"yaxis\": {\"backgroundcolor\": \"#E5ECF6\", \"gridcolor\": \"white\", \"gridwidth\": 2, \"linecolor\": \"white\", \"showbackground\": true, \"ticks\": \"\", \"zerolinecolor\": \"white\"}, \"zaxis\": {\"backgroundcolor\": \"#E5ECF6\", \"gridcolor\": \"white\", \"gridwidth\": 2, \"linecolor\": \"white\", \"showbackground\": true, \"ticks\": \"\", \"zerolinecolor\": \"white\"}}, \"shapedefaults\": {\"line\": {\"color\": \"#2a3f5f\"}}, \"ternary\": {\"aaxis\": {\"gridcolor\": \"white\", \"linecolor\": \"white\", \"ticks\": \"\"}, \"baxis\": {\"gridcolor\": \"white\", \"linecolor\": \"white\", \"ticks\": \"\"}, \"bgcolor\": \"#E5ECF6\", \"caxis\": {\"gridcolor\": \"white\", \"linecolor\": \"white\", \"ticks\": \"\"}}, \"title\": {\"x\": 0.05}, \"xaxis\": {\"automargin\": true, \"gridcolor\": \"white\", \"linecolor\": \"white\", \"ticks\": \"\", \"title\": {\"standoff\": 15}, \"zerolinecolor\": \"white\", \"zerolinewidth\": 2}, \"yaxis\": {\"automargin\": true, \"gridcolor\": \"white\", \"linecolor\": \"white\", \"ticks\": \"\", \"title\": {\"standoff\": 15}, \"zerolinecolor\": \"white\", \"zerolinewidth\": 2}}}, \"title\": {\"text\": \"TRENDING HASHTAGS\", \"x\": 0.5}, \"xaxis\": {\"showgrid\": false, \"showticklabels\": false, \"zeroline\": false}, \"yaxis\": {\"showgrid\": false, \"showticklabels\": false, \"zeroline\": false}},                        {\"responsive\": true}                    ).then(function(){\n",
       "                            \n",
       "var gd = document.getElementById('154a777a-ac98-4370-983c-c30441cee685');\n",
       "var x = new MutationObserver(function (mutations, observer) {{\n",
       "        var display = window.getComputedStyle(gd).display;\n",
       "        if (!display || display === 'none') {{\n",
       "            console.log([gd, 'removed!']);\n",
       "            Plotly.purge(gd);\n",
       "            observer.disconnect();\n",
       "        }}\n",
       "}});\n",
       "\n",
       "// Listen for the removal of the full notebook cells\n",
       "var notebookContainer = gd.closest('#notebook-container');\n",
       "if (notebookContainer) {{\n",
       "    x.observe(notebookContainer, {childList: true});\n",
       "}}\n",
       "\n",
       "// Listen for the clearing of the current output cell\n",
       "var outputEl = gd.closest('.output');\n",
       "if (outputEl) {{\n",
       "    x.observe(outputEl, {childList: true});\n",
       "}}\n",
       "\n",
       "                        })                };                });            </script>        </div>"
      ]
     },
     "metadata": {},
     "output_type": "display_data"
    }
   ],
   "source": [
    "##MAKING GRAPH OF TRENDING HASHTAGS OF COUNTRY\n",
    "trending_hashtags = {}\n",
    "hashtags_count = len(trends[0]['trends']) \n",
    "for i in range(0, hashtags_count):\n",
    "    if trends[0]['trends'][i]['tweet_volume'] is not None:\n",
    "        trending_hashtags[trends[0]['trends'][i]['name']] = trends[0]['trends'][i]['tweet_volume']\n",
    "\n",
    "trending_hashtags = sorted(trending_hashtags.items(), key = lambda kv:(kv[1], kv[0]))\n",
    "\n",
    "G = nx.Graph()\n",
    "G.add_node('India', size=10)\n",
    "count=1\n",
    "max_size = 5\n",
    "factor = max_size/len(trending_hashtags)\n",
    "for trend in trending_hashtags:\n",
    "    G.add_node(trend[0], size=count*factor+1)\n",
    "    G.add_edge('India', trend[0], weight = count*factor)\n",
    "    count = count + 1\n",
    "\n",
    "nodes = list(G.nodes(data=True))\n",
    "edges = list(G.edges(data=True))\n",
    "np.random.shuffle(nodes)\n",
    "\n",
    "graph=nx.Graph()\n",
    "graph.add_nodes_from(nodes)\n",
    "graph.add_edges_from(edges)\n",
    "pos_ = nx.circular_layout(graph, scale = 1)\n",
    "pos_['India'] =  np.array([0, 0])\n",
    "title = 'TRENDING HASHTAGS'\n",
    "create_graph(graph, title)"
   ]
  },
  {
   "cell_type": "code",
   "execution_count": 88,
   "id": "1e86f97c",
   "metadata": {},
   "outputs": [
    {
     "data": {
      "application/vnd.plotly.v1+json": {
       "config": {
        "plotlyServerURL": "https://plot.ly"
       },
       "data": [
        {
         "line": {
          "color": "cornflowerblue",
          "width": 5.015552287323165
         },
         "mode": "lines",
         "type": "scatter",
         "x": [
          0.999999986090933,
          0,
          null
         ],
         "y": [
          2.1855693665697608e-08,
          0,
          null
         ]
        },
        {
         "line": {
          "color": "cornflowerblue",
          "width": 2.4669426816409508
         },
         "mode": "lines",
         "type": "scatter",
         "x": [
          -3.576476059301554e-08,
          0,
          null
         ],
         "y": [
          1,
          0,
          null
         ]
        },
        {
         "line": {
          "color": "cornflowerblue",
          "width": 0.7334264473278278
         },
         "mode": "lines",
         "type": "scatter",
         "x": [
          -0.9999999701976796,
          0,
          null
         ],
         "y": [
          -6.556708099709282e-08,
          0,
          null
         ]
        },
        {
         "hoverinfo": "none",
         "marker": {
          "color": [
           "cornflowerblue",
           "cornflowerblue",
           "cornflowerblue",
           "cornflowerblue"
          ],
          "size": [
           30,
           21.66666666666667,
           13.333333333333336,
           50
          ]
         },
         "mode": "markers+text",
         "text": [
          "<b>#FarmersProtest</b>",
          "<b>#Farmers_vs_BikauModi</b>",
          "<b>#DoYouKnow</b>",
          "<b>#DelhiPolice_TorturingFarmers</b>"
         ],
         "textfont": {
          "size": 8
         },
         "textposition": "top center",
         "type": "scatter",
         "x": [
          0.999999986090933,
          -3.576476059301554e-08,
          -0.9999999701976796,
          0
         ],
         "y": [
          2.1855693665697608e-08,
          1,
          -6.556708099709282e-08,
          0
         ]
        },
        {
         "hoverinfo": "none",
         "marker": {
          "color": [
           "cornflowerblue",
           "cornflowerblue",
           "cornflowerblue",
           "cornflowerblue"
          ],
          "size": [
           30,
           21.66666666666667,
           13.333333333333336,
           50
          ]
         },
         "mode": "markers+text",
         "text": [
          "<b>#FarmersProtest</b>",
          "<b>#Farmers_vs_BikauModi</b>",
          "<b>#DoYouKnow</b>",
          "<b>#DelhiPolice_TorturingFarmers</b>"
         ],
         "textfont": {
          "size": 8
         },
         "textposition": "top center",
         "type": "scatter",
         "x": [
          0.999999986090933,
          -3.576476059301554e-08,
          -0.9999999701976796,
          0
         ],
         "y": [
          2.1855693665697608e-08,
          1,
          -6.556708099709282e-08,
          0
         ]
        },
        {
         "hoverinfo": "none",
         "marker": {
          "color": [
           "cornflowerblue",
           "cornflowerblue",
           "cornflowerblue",
           "cornflowerblue"
          ],
          "size": [
           30,
           21.66666666666667,
           13.333333333333336,
           50
          ]
         },
         "mode": "markers+text",
         "text": [
          "<b>#FarmersProtest</b>",
          "<b>#Farmers_vs_BikauModi</b>",
          "<b>#DoYouKnow</b>",
          "<b>#DelhiPolice_TorturingFarmers</b>"
         ],
         "textfont": {
          "size": 8
         },
         "textposition": "top center",
         "type": "scatter",
         "x": [
          0.999999986090933,
          -3.576476059301554e-08,
          -0.9999999701976796,
          0
         ],
         "y": [
          2.1855693665697608e-08,
          1,
          -6.556708099709282e-08,
          0
         ]
        }
       ],
       "layout": {
        "paper_bgcolor": "rgba(0,0,0,0)",
        "plot_bgcolor": "rgba(0,0,0,0)",
        "showlegend": false,
        "template": {
         "data": {
          "bar": [
           {
            "error_x": {
             "color": "#2a3f5f"
            },
            "error_y": {
             "color": "#2a3f5f"
            },
            "marker": {
             "line": {
              "color": "#E5ECF6",
              "width": 0.5
             }
            },
            "type": "bar"
           }
          ],
          "barpolar": [
           {
            "marker": {
             "line": {
              "color": "#E5ECF6",
              "width": 0.5
             }
            },
            "type": "barpolar"
           }
          ],
          "carpet": [
           {
            "aaxis": {
             "endlinecolor": "#2a3f5f",
             "gridcolor": "white",
             "linecolor": "white",
             "minorgridcolor": "white",
             "startlinecolor": "#2a3f5f"
            },
            "baxis": {
             "endlinecolor": "#2a3f5f",
             "gridcolor": "white",
             "linecolor": "white",
             "minorgridcolor": "white",
             "startlinecolor": "#2a3f5f"
            },
            "type": "carpet"
           }
          ],
          "choropleth": [
           {
            "colorbar": {
             "outlinewidth": 0,
             "ticks": ""
            },
            "type": "choropleth"
           }
          ],
          "contour": [
           {
            "colorbar": {
             "outlinewidth": 0,
             "ticks": ""
            },
            "colorscale": [
             [
              0,
              "#0d0887"
             ],
             [
              0.1111111111111111,
              "#46039f"
             ],
             [
              0.2222222222222222,
              "#7201a8"
             ],
             [
              0.3333333333333333,
              "#9c179e"
             ],
             [
              0.4444444444444444,
              "#bd3786"
             ],
             [
              0.5555555555555556,
              "#d8576b"
             ],
             [
              0.6666666666666666,
              "#ed7953"
             ],
             [
              0.7777777777777778,
              "#fb9f3a"
             ],
             [
              0.8888888888888888,
              "#fdca26"
             ],
             [
              1,
              "#f0f921"
             ]
            ],
            "type": "contour"
           }
          ],
          "contourcarpet": [
           {
            "colorbar": {
             "outlinewidth": 0,
             "ticks": ""
            },
            "type": "contourcarpet"
           }
          ],
          "heatmap": [
           {
            "colorbar": {
             "outlinewidth": 0,
             "ticks": ""
            },
            "colorscale": [
             [
              0,
              "#0d0887"
             ],
             [
              0.1111111111111111,
              "#46039f"
             ],
             [
              0.2222222222222222,
              "#7201a8"
             ],
             [
              0.3333333333333333,
              "#9c179e"
             ],
             [
              0.4444444444444444,
              "#bd3786"
             ],
             [
              0.5555555555555556,
              "#d8576b"
             ],
             [
              0.6666666666666666,
              "#ed7953"
             ],
             [
              0.7777777777777778,
              "#fb9f3a"
             ],
             [
              0.8888888888888888,
              "#fdca26"
             ],
             [
              1,
              "#f0f921"
             ]
            ],
            "type": "heatmap"
           }
          ],
          "heatmapgl": [
           {
            "colorbar": {
             "outlinewidth": 0,
             "ticks": ""
            },
            "colorscale": [
             [
              0,
              "#0d0887"
             ],
             [
              0.1111111111111111,
              "#46039f"
             ],
             [
              0.2222222222222222,
              "#7201a8"
             ],
             [
              0.3333333333333333,
              "#9c179e"
             ],
             [
              0.4444444444444444,
              "#bd3786"
             ],
             [
              0.5555555555555556,
              "#d8576b"
             ],
             [
              0.6666666666666666,
              "#ed7953"
             ],
             [
              0.7777777777777778,
              "#fb9f3a"
             ],
             [
              0.8888888888888888,
              "#fdca26"
             ],
             [
              1,
              "#f0f921"
             ]
            ],
            "type": "heatmapgl"
           }
          ],
          "histogram": [
           {
            "marker": {
             "colorbar": {
              "outlinewidth": 0,
              "ticks": ""
             }
            },
            "type": "histogram"
           }
          ],
          "histogram2d": [
           {
            "colorbar": {
             "outlinewidth": 0,
             "ticks": ""
            },
            "colorscale": [
             [
              0,
              "#0d0887"
             ],
             [
              0.1111111111111111,
              "#46039f"
             ],
             [
              0.2222222222222222,
              "#7201a8"
             ],
             [
              0.3333333333333333,
              "#9c179e"
             ],
             [
              0.4444444444444444,
              "#bd3786"
             ],
             [
              0.5555555555555556,
              "#d8576b"
             ],
             [
              0.6666666666666666,
              "#ed7953"
             ],
             [
              0.7777777777777778,
              "#fb9f3a"
             ],
             [
              0.8888888888888888,
              "#fdca26"
             ],
             [
              1,
              "#f0f921"
             ]
            ],
            "type": "histogram2d"
           }
          ],
          "histogram2dcontour": [
           {
            "colorbar": {
             "outlinewidth": 0,
             "ticks": ""
            },
            "colorscale": [
             [
              0,
              "#0d0887"
             ],
             [
              0.1111111111111111,
              "#46039f"
             ],
             [
              0.2222222222222222,
              "#7201a8"
             ],
             [
              0.3333333333333333,
              "#9c179e"
             ],
             [
              0.4444444444444444,
              "#bd3786"
             ],
             [
              0.5555555555555556,
              "#d8576b"
             ],
             [
              0.6666666666666666,
              "#ed7953"
             ],
             [
              0.7777777777777778,
              "#fb9f3a"
             ],
             [
              0.8888888888888888,
              "#fdca26"
             ],
             [
              1,
              "#f0f921"
             ]
            ],
            "type": "histogram2dcontour"
           }
          ],
          "mesh3d": [
           {
            "colorbar": {
             "outlinewidth": 0,
             "ticks": ""
            },
            "type": "mesh3d"
           }
          ],
          "parcoords": [
           {
            "line": {
             "colorbar": {
              "outlinewidth": 0,
              "ticks": ""
             }
            },
            "type": "parcoords"
           }
          ],
          "pie": [
           {
            "automargin": true,
            "type": "pie"
           }
          ],
          "scatter": [
           {
            "marker": {
             "colorbar": {
              "outlinewidth": 0,
              "ticks": ""
             }
            },
            "type": "scatter"
           }
          ],
          "scatter3d": [
           {
            "line": {
             "colorbar": {
              "outlinewidth": 0,
              "ticks": ""
             }
            },
            "marker": {
             "colorbar": {
              "outlinewidth": 0,
              "ticks": ""
             }
            },
            "type": "scatter3d"
           }
          ],
          "scattercarpet": [
           {
            "marker": {
             "colorbar": {
              "outlinewidth": 0,
              "ticks": ""
             }
            },
            "type": "scattercarpet"
           }
          ],
          "scattergeo": [
           {
            "marker": {
             "colorbar": {
              "outlinewidth": 0,
              "ticks": ""
             }
            },
            "type": "scattergeo"
           }
          ],
          "scattergl": [
           {
            "marker": {
             "colorbar": {
              "outlinewidth": 0,
              "ticks": ""
             }
            },
            "type": "scattergl"
           }
          ],
          "scattermapbox": [
           {
            "marker": {
             "colorbar": {
              "outlinewidth": 0,
              "ticks": ""
             }
            },
            "type": "scattermapbox"
           }
          ],
          "scatterpolar": [
           {
            "marker": {
             "colorbar": {
              "outlinewidth": 0,
              "ticks": ""
             }
            },
            "type": "scatterpolar"
           }
          ],
          "scatterpolargl": [
           {
            "marker": {
             "colorbar": {
              "outlinewidth": 0,
              "ticks": ""
             }
            },
            "type": "scatterpolargl"
           }
          ],
          "scatterternary": [
           {
            "marker": {
             "colorbar": {
              "outlinewidth": 0,
              "ticks": ""
             }
            },
            "type": "scatterternary"
           }
          ],
          "surface": [
           {
            "colorbar": {
             "outlinewidth": 0,
             "ticks": ""
            },
            "colorscale": [
             [
              0,
              "#0d0887"
             ],
             [
              0.1111111111111111,
              "#46039f"
             ],
             [
              0.2222222222222222,
              "#7201a8"
             ],
             [
              0.3333333333333333,
              "#9c179e"
             ],
             [
              0.4444444444444444,
              "#bd3786"
             ],
             [
              0.5555555555555556,
              "#d8576b"
             ],
             [
              0.6666666666666666,
              "#ed7953"
             ],
             [
              0.7777777777777778,
              "#fb9f3a"
             ],
             [
              0.8888888888888888,
              "#fdca26"
             ],
             [
              1,
              "#f0f921"
             ]
            ],
            "type": "surface"
           }
          ],
          "table": [
           {
            "cells": {
             "fill": {
              "color": "#EBF0F8"
             },
             "line": {
              "color": "white"
             }
            },
            "header": {
             "fill": {
              "color": "#C8D4E3"
             },
             "line": {
              "color": "white"
             }
            },
            "type": "table"
           }
          ]
         },
         "layout": {
          "annotationdefaults": {
           "arrowcolor": "#2a3f5f",
           "arrowhead": 0,
           "arrowwidth": 1
          },
          "autotypenumbers": "strict",
          "coloraxis": {
           "colorbar": {
            "outlinewidth": 0,
            "ticks": ""
           }
          },
          "colorscale": {
           "diverging": [
            [
             0,
             "#8e0152"
            ],
            [
             0.1,
             "#c51b7d"
            ],
            [
             0.2,
             "#de77ae"
            ],
            [
             0.3,
             "#f1b6da"
            ],
            [
             0.4,
             "#fde0ef"
            ],
            [
             0.5,
             "#f7f7f7"
            ],
            [
             0.6,
             "#e6f5d0"
            ],
            [
             0.7,
             "#b8e186"
            ],
            [
             0.8,
             "#7fbc41"
            ],
            [
             0.9,
             "#4d9221"
            ],
            [
             1,
             "#276419"
            ]
           ],
           "sequential": [
            [
             0,
             "#0d0887"
            ],
            [
             0.1111111111111111,
             "#46039f"
            ],
            [
             0.2222222222222222,
             "#7201a8"
            ],
            [
             0.3333333333333333,
             "#9c179e"
            ],
            [
             0.4444444444444444,
             "#bd3786"
            ],
            [
             0.5555555555555556,
             "#d8576b"
            ],
            [
             0.6666666666666666,
             "#ed7953"
            ],
            [
             0.7777777777777778,
             "#fb9f3a"
            ],
            [
             0.8888888888888888,
             "#fdca26"
            ],
            [
             1,
             "#f0f921"
            ]
           ],
           "sequentialminus": [
            [
             0,
             "#0d0887"
            ],
            [
             0.1111111111111111,
             "#46039f"
            ],
            [
             0.2222222222222222,
             "#7201a8"
            ],
            [
             0.3333333333333333,
             "#9c179e"
            ],
            [
             0.4444444444444444,
             "#bd3786"
            ],
            [
             0.5555555555555556,
             "#d8576b"
            ],
            [
             0.6666666666666666,
             "#ed7953"
            ],
            [
             0.7777777777777778,
             "#fb9f3a"
            ],
            [
             0.8888888888888888,
             "#fdca26"
            ],
            [
             1,
             "#f0f921"
            ]
           ]
          },
          "colorway": [
           "#636efa",
           "#EF553B",
           "#00cc96",
           "#ab63fa",
           "#FFA15A",
           "#19d3f3",
           "#FF6692",
           "#B6E880",
           "#FF97FF",
           "#FECB52"
          ],
          "font": {
           "color": "#2a3f5f"
          },
          "geo": {
           "bgcolor": "white",
           "lakecolor": "white",
           "landcolor": "#E5ECF6",
           "showlakes": true,
           "showland": true,
           "subunitcolor": "white"
          },
          "hoverlabel": {
           "align": "left"
          },
          "hovermode": "closest",
          "mapbox": {
           "style": "light"
          },
          "paper_bgcolor": "white",
          "plot_bgcolor": "#E5ECF6",
          "polar": {
           "angularaxis": {
            "gridcolor": "white",
            "linecolor": "white",
            "ticks": ""
           },
           "bgcolor": "#E5ECF6",
           "radialaxis": {
            "gridcolor": "white",
            "linecolor": "white",
            "ticks": ""
           }
          },
          "scene": {
           "xaxis": {
            "backgroundcolor": "#E5ECF6",
            "gridcolor": "white",
            "gridwidth": 2,
            "linecolor": "white",
            "showbackground": true,
            "ticks": "",
            "zerolinecolor": "white"
           },
           "yaxis": {
            "backgroundcolor": "#E5ECF6",
            "gridcolor": "white",
            "gridwidth": 2,
            "linecolor": "white",
            "showbackground": true,
            "ticks": "",
            "zerolinecolor": "white"
           },
           "zaxis": {
            "backgroundcolor": "#E5ECF6",
            "gridcolor": "white",
            "gridwidth": 2,
            "linecolor": "white",
            "showbackground": true,
            "ticks": "",
            "zerolinecolor": "white"
           }
          },
          "shapedefaults": {
           "line": {
            "color": "#2a3f5f"
           }
          },
          "ternary": {
           "aaxis": {
            "gridcolor": "white",
            "linecolor": "white",
            "ticks": ""
           },
           "baxis": {
            "gridcolor": "white",
            "linecolor": "white",
            "ticks": ""
           },
           "bgcolor": "#E5ECF6",
           "caxis": {
            "gridcolor": "white",
            "linecolor": "white",
            "ticks": ""
           }
          },
          "title": {
           "x": 0.05
          },
          "xaxis": {
           "automargin": true,
           "gridcolor": "white",
           "linecolor": "white",
           "ticks": "",
           "title": {
            "standoff": 15
           },
           "zerolinecolor": "white",
           "zerolinewidth": 2
          },
          "yaxis": {
           "automargin": true,
           "gridcolor": "white",
           "linecolor": "white",
           "ticks": "",
           "title": {
            "standoff": 15
           },
           "zerolinecolor": "white",
           "zerolinewidth": 2
          }
         }
        },
        "title": {
         "text": "RELATED HASHTAGS",
         "x": 0.5
        },
        "xaxis": {
         "showgrid": false,
         "showticklabels": false,
         "zeroline": false
        },
        "yaxis": {
         "showgrid": false,
         "showticklabels": false,
         "zeroline": false
        }
       }
      },
      "text/html": [
       "<div>                            <div id=\"fc322cd6-1b67-43d0-b7b2-5a6b22d60a0c\" class=\"plotly-graph-div\" style=\"height:525px; width:100%;\"></div>            <script type=\"text/javascript\">                require([\"plotly\"], function(Plotly) {                    window.PLOTLYENV=window.PLOTLYENV || {};                                    if (document.getElementById(\"fc322cd6-1b67-43d0-b7b2-5a6b22d60a0c\")) {                    Plotly.newPlot(                        \"fc322cd6-1b67-43d0-b7b2-5a6b22d60a0c\",                        [{\"line\": {\"color\": \"cornflowerblue\", \"width\": 5.015552287323165}, \"mode\": \"lines\", \"type\": \"scatter\", \"x\": [0.999999986090933, 0, null], \"y\": [2.1855693665697608e-08, 0, null]}, {\"line\": {\"color\": \"cornflowerblue\", \"width\": 2.4669426816409508}, \"mode\": \"lines\", \"type\": \"scatter\", \"x\": [-3.576476059301554e-08, 0, null], \"y\": [1.0, 0, null]}, {\"line\": {\"color\": \"cornflowerblue\", \"width\": 0.7334264473278278}, \"mode\": \"lines\", \"type\": \"scatter\", \"x\": [-0.9999999701976796, 0, null], \"y\": [-6.556708099709282e-08, 0, null]}, {\"hoverinfo\": \"none\", \"marker\": {\"color\": [\"cornflowerblue\", \"cornflowerblue\", \"cornflowerblue\", \"cornflowerblue\"], \"size\": [30.0, 21.66666666666667, 13.333333333333336, 50]}, \"mode\": \"markers+text\", \"text\": [\"<b>#FarmersProtest</b>\", \"<b>#Farmers_vs_BikauModi</b>\", \"<b>#DoYouKnow</b>\", \"<b>#DelhiPolice_TorturingFarmers</b>\"], \"textfont\": {\"size\": 8}, \"textposition\": \"top center\", \"type\": \"scatter\", \"x\": [0.999999986090933, -3.576476059301554e-08, -0.9999999701976796, 0], \"y\": [2.1855693665697608e-08, 1.0, -6.556708099709282e-08, 0]}, {\"hoverinfo\": \"none\", \"marker\": {\"color\": [\"cornflowerblue\", \"cornflowerblue\", \"cornflowerblue\", \"cornflowerblue\"], \"size\": [30.0, 21.66666666666667, 13.333333333333336, 50]}, \"mode\": \"markers+text\", \"text\": [\"<b>#FarmersProtest</b>\", \"<b>#Farmers_vs_BikauModi</b>\", \"<b>#DoYouKnow</b>\", \"<b>#DelhiPolice_TorturingFarmers</b>\"], \"textfont\": {\"size\": 8}, \"textposition\": \"top center\", \"type\": \"scatter\", \"x\": [0.999999986090933, -3.576476059301554e-08, -0.9999999701976796, 0], \"y\": [2.1855693665697608e-08, 1.0, -6.556708099709282e-08, 0]}, {\"hoverinfo\": \"none\", \"marker\": {\"color\": [\"cornflowerblue\", \"cornflowerblue\", \"cornflowerblue\", \"cornflowerblue\"], \"size\": [30.0, 21.66666666666667, 13.333333333333336, 50]}, \"mode\": \"markers+text\", \"text\": [\"<b>#FarmersProtest</b>\", \"<b>#Farmers_vs_BikauModi</b>\", \"<b>#DoYouKnow</b>\", \"<b>#DelhiPolice_TorturingFarmers</b>\"], \"textfont\": {\"size\": 8}, \"textposition\": \"top center\", \"type\": \"scatter\", \"x\": [0.999999986090933, -3.576476059301554e-08, -0.9999999701976796, 0], \"y\": [2.1855693665697608e-08, 1.0, -6.556708099709282e-08, 0]}],                        {\"paper_bgcolor\": \"rgba(0,0,0,0)\", \"plot_bgcolor\": \"rgba(0,0,0,0)\", \"showlegend\": false, \"template\": {\"data\": {\"bar\": [{\"error_x\": {\"color\": \"#2a3f5f\"}, \"error_y\": {\"color\": \"#2a3f5f\"}, \"marker\": {\"line\": {\"color\": \"#E5ECF6\", \"width\": 0.5}}, \"type\": \"bar\"}], \"barpolar\": [{\"marker\": {\"line\": {\"color\": \"#E5ECF6\", \"width\": 0.5}}, \"type\": \"barpolar\"}], \"carpet\": [{\"aaxis\": {\"endlinecolor\": \"#2a3f5f\", \"gridcolor\": \"white\", \"linecolor\": \"white\", \"minorgridcolor\": \"white\", \"startlinecolor\": \"#2a3f5f\"}, \"baxis\": {\"endlinecolor\": \"#2a3f5f\", \"gridcolor\": \"white\", \"linecolor\": \"white\", \"minorgridcolor\": \"white\", \"startlinecolor\": \"#2a3f5f\"}, \"type\": \"carpet\"}], \"choropleth\": [{\"colorbar\": {\"outlinewidth\": 0, \"ticks\": \"\"}, \"type\": \"choropleth\"}], \"contour\": [{\"colorbar\": {\"outlinewidth\": 0, \"ticks\": \"\"}, \"colorscale\": [[0.0, \"#0d0887\"], [0.1111111111111111, \"#46039f\"], [0.2222222222222222, \"#7201a8\"], [0.3333333333333333, \"#9c179e\"], [0.4444444444444444, \"#bd3786\"], [0.5555555555555556, \"#d8576b\"], [0.6666666666666666, \"#ed7953\"], [0.7777777777777778, \"#fb9f3a\"], [0.8888888888888888, \"#fdca26\"], [1.0, \"#f0f921\"]], \"type\": \"contour\"}], \"contourcarpet\": [{\"colorbar\": {\"outlinewidth\": 0, \"ticks\": \"\"}, \"type\": \"contourcarpet\"}], \"heatmap\": [{\"colorbar\": {\"outlinewidth\": 0, \"ticks\": \"\"}, \"colorscale\": [[0.0, \"#0d0887\"], [0.1111111111111111, \"#46039f\"], [0.2222222222222222, \"#7201a8\"], [0.3333333333333333, \"#9c179e\"], [0.4444444444444444, \"#bd3786\"], [0.5555555555555556, \"#d8576b\"], [0.6666666666666666, \"#ed7953\"], [0.7777777777777778, \"#fb9f3a\"], [0.8888888888888888, \"#fdca26\"], [1.0, \"#f0f921\"]], \"type\": \"heatmap\"}], \"heatmapgl\": [{\"colorbar\": {\"outlinewidth\": 0, \"ticks\": \"\"}, \"colorscale\": [[0.0, \"#0d0887\"], [0.1111111111111111, \"#46039f\"], [0.2222222222222222, \"#7201a8\"], [0.3333333333333333, \"#9c179e\"], [0.4444444444444444, \"#bd3786\"], [0.5555555555555556, \"#d8576b\"], [0.6666666666666666, \"#ed7953\"], [0.7777777777777778, \"#fb9f3a\"], [0.8888888888888888, \"#fdca26\"], [1.0, \"#f0f921\"]], \"type\": \"heatmapgl\"}], \"histogram\": [{\"marker\": {\"colorbar\": {\"outlinewidth\": 0, \"ticks\": \"\"}}, \"type\": \"histogram\"}], \"histogram2d\": [{\"colorbar\": {\"outlinewidth\": 0, \"ticks\": \"\"}, \"colorscale\": [[0.0, \"#0d0887\"], [0.1111111111111111, \"#46039f\"], [0.2222222222222222, \"#7201a8\"], [0.3333333333333333, \"#9c179e\"], [0.4444444444444444, \"#bd3786\"], [0.5555555555555556, \"#d8576b\"], [0.6666666666666666, \"#ed7953\"], [0.7777777777777778, \"#fb9f3a\"], [0.8888888888888888, \"#fdca26\"], [1.0, \"#f0f921\"]], \"type\": \"histogram2d\"}], \"histogram2dcontour\": [{\"colorbar\": {\"outlinewidth\": 0, \"ticks\": \"\"}, \"colorscale\": [[0.0, \"#0d0887\"], [0.1111111111111111, \"#46039f\"], [0.2222222222222222, \"#7201a8\"], [0.3333333333333333, \"#9c179e\"], [0.4444444444444444, \"#bd3786\"], [0.5555555555555556, \"#d8576b\"], [0.6666666666666666, \"#ed7953\"], [0.7777777777777778, \"#fb9f3a\"], [0.8888888888888888, \"#fdca26\"], [1.0, \"#f0f921\"]], \"type\": \"histogram2dcontour\"}], \"mesh3d\": [{\"colorbar\": {\"outlinewidth\": 0, \"ticks\": \"\"}, \"type\": \"mesh3d\"}], \"parcoords\": [{\"line\": {\"colorbar\": {\"outlinewidth\": 0, \"ticks\": \"\"}}, \"type\": \"parcoords\"}], \"pie\": [{\"automargin\": true, \"type\": \"pie\"}], \"scatter\": [{\"marker\": {\"colorbar\": {\"outlinewidth\": 0, \"ticks\": \"\"}}, \"type\": \"scatter\"}], \"scatter3d\": [{\"line\": {\"colorbar\": {\"outlinewidth\": 0, \"ticks\": \"\"}}, \"marker\": {\"colorbar\": {\"outlinewidth\": 0, \"ticks\": \"\"}}, \"type\": \"scatter3d\"}], \"scattercarpet\": [{\"marker\": {\"colorbar\": {\"outlinewidth\": 0, \"ticks\": \"\"}}, \"type\": \"scattercarpet\"}], \"scattergeo\": [{\"marker\": {\"colorbar\": {\"outlinewidth\": 0, \"ticks\": \"\"}}, \"type\": \"scattergeo\"}], \"scattergl\": [{\"marker\": {\"colorbar\": {\"outlinewidth\": 0, \"ticks\": \"\"}}, \"type\": \"scattergl\"}], \"scattermapbox\": [{\"marker\": {\"colorbar\": {\"outlinewidth\": 0, \"ticks\": \"\"}}, \"type\": \"scattermapbox\"}], \"scatterpolar\": [{\"marker\": {\"colorbar\": {\"outlinewidth\": 0, \"ticks\": \"\"}}, \"type\": \"scatterpolar\"}], \"scatterpolargl\": [{\"marker\": {\"colorbar\": {\"outlinewidth\": 0, \"ticks\": \"\"}}, \"type\": \"scatterpolargl\"}], \"scatterternary\": [{\"marker\": {\"colorbar\": {\"outlinewidth\": 0, \"ticks\": \"\"}}, \"type\": \"scatterternary\"}], \"surface\": [{\"colorbar\": {\"outlinewidth\": 0, \"ticks\": \"\"}, \"colorscale\": [[0.0, \"#0d0887\"], [0.1111111111111111, \"#46039f\"], [0.2222222222222222, \"#7201a8\"], [0.3333333333333333, \"#9c179e\"], [0.4444444444444444, \"#bd3786\"], [0.5555555555555556, \"#d8576b\"], [0.6666666666666666, \"#ed7953\"], [0.7777777777777778, \"#fb9f3a\"], [0.8888888888888888, \"#fdca26\"], [1.0, \"#f0f921\"]], \"type\": \"surface\"}], \"table\": [{\"cells\": {\"fill\": {\"color\": \"#EBF0F8\"}, \"line\": {\"color\": \"white\"}}, \"header\": {\"fill\": {\"color\": \"#C8D4E3\"}, \"line\": {\"color\": \"white\"}}, \"type\": \"table\"}]}, \"layout\": {\"annotationdefaults\": {\"arrowcolor\": \"#2a3f5f\", \"arrowhead\": 0, \"arrowwidth\": 1}, \"autotypenumbers\": \"strict\", \"coloraxis\": {\"colorbar\": {\"outlinewidth\": 0, \"ticks\": \"\"}}, \"colorscale\": {\"diverging\": [[0, \"#8e0152\"], [0.1, \"#c51b7d\"], [0.2, \"#de77ae\"], [0.3, \"#f1b6da\"], [0.4, \"#fde0ef\"], [0.5, \"#f7f7f7\"], [0.6, \"#e6f5d0\"], [0.7, \"#b8e186\"], [0.8, \"#7fbc41\"], [0.9, \"#4d9221\"], [1, \"#276419\"]], \"sequential\": [[0.0, \"#0d0887\"], [0.1111111111111111, \"#46039f\"], [0.2222222222222222, \"#7201a8\"], [0.3333333333333333, \"#9c179e\"], [0.4444444444444444, \"#bd3786\"], [0.5555555555555556, \"#d8576b\"], [0.6666666666666666, \"#ed7953\"], [0.7777777777777778, \"#fb9f3a\"], [0.8888888888888888, \"#fdca26\"], [1.0, \"#f0f921\"]], \"sequentialminus\": [[0.0, \"#0d0887\"], [0.1111111111111111, \"#46039f\"], [0.2222222222222222, \"#7201a8\"], [0.3333333333333333, \"#9c179e\"], [0.4444444444444444, \"#bd3786\"], [0.5555555555555556, \"#d8576b\"], [0.6666666666666666, \"#ed7953\"], [0.7777777777777778, \"#fb9f3a\"], [0.8888888888888888, \"#fdca26\"], [1.0, \"#f0f921\"]]}, \"colorway\": [\"#636efa\", \"#EF553B\", \"#00cc96\", \"#ab63fa\", \"#FFA15A\", \"#19d3f3\", \"#FF6692\", \"#B6E880\", \"#FF97FF\", \"#FECB52\"], \"font\": {\"color\": \"#2a3f5f\"}, \"geo\": {\"bgcolor\": \"white\", \"lakecolor\": \"white\", \"landcolor\": \"#E5ECF6\", \"showlakes\": true, \"showland\": true, \"subunitcolor\": \"white\"}, \"hoverlabel\": {\"align\": \"left\"}, \"hovermode\": \"closest\", \"mapbox\": {\"style\": \"light\"}, \"paper_bgcolor\": \"white\", \"plot_bgcolor\": \"#E5ECF6\", \"polar\": {\"angularaxis\": {\"gridcolor\": \"white\", \"linecolor\": \"white\", \"ticks\": \"\"}, \"bgcolor\": \"#E5ECF6\", \"radialaxis\": {\"gridcolor\": \"white\", \"linecolor\": \"white\", \"ticks\": \"\"}}, \"scene\": {\"xaxis\": {\"backgroundcolor\": \"#E5ECF6\", \"gridcolor\": \"white\", \"gridwidth\": 2, \"linecolor\": \"white\", \"showbackground\": true, \"ticks\": \"\", \"zerolinecolor\": \"white\"}, \"yaxis\": {\"backgroundcolor\": \"#E5ECF6\", \"gridcolor\": \"white\", \"gridwidth\": 2, \"linecolor\": \"white\", \"showbackground\": true, \"ticks\": \"\", \"zerolinecolor\": \"white\"}, \"zaxis\": {\"backgroundcolor\": \"#E5ECF6\", \"gridcolor\": \"white\", \"gridwidth\": 2, \"linecolor\": \"white\", \"showbackground\": true, \"ticks\": \"\", \"zerolinecolor\": \"white\"}}, \"shapedefaults\": {\"line\": {\"color\": \"#2a3f5f\"}}, \"ternary\": {\"aaxis\": {\"gridcolor\": \"white\", \"linecolor\": \"white\", \"ticks\": \"\"}, \"baxis\": {\"gridcolor\": \"white\", \"linecolor\": \"white\", \"ticks\": \"\"}, \"bgcolor\": \"#E5ECF6\", \"caxis\": {\"gridcolor\": \"white\", \"linecolor\": \"white\", \"ticks\": \"\"}}, \"title\": {\"x\": 0.05}, \"xaxis\": {\"automargin\": true, \"gridcolor\": \"white\", \"linecolor\": \"white\", \"ticks\": \"\", \"title\": {\"standoff\": 15}, \"zerolinecolor\": \"white\", \"zerolinewidth\": 2}, \"yaxis\": {\"automargin\": true, \"gridcolor\": \"white\", \"linecolor\": \"white\", \"ticks\": \"\", \"title\": {\"standoff\": 15}, \"zerolinecolor\": \"white\", \"zerolinewidth\": 2}}}, \"title\": {\"text\": \"RELATED HASHTAGS\", \"x\": 0.5}, \"xaxis\": {\"showgrid\": false, \"showticklabels\": false, \"zeroline\": false}, \"yaxis\": {\"showgrid\": false, \"showticklabels\": false, \"zeroline\": false}},                        {\"responsive\": true}                    ).then(function(){\n",
       "                            \n",
       "var gd = document.getElementById('fc322cd6-1b67-43d0-b7b2-5a6b22d60a0c');\n",
       "var x = new MutationObserver(function (mutations, observer) {{\n",
       "        var display = window.getComputedStyle(gd).display;\n",
       "        if (!display || display === 'none') {{\n",
       "            console.log([gd, 'removed!']);\n",
       "            Plotly.purge(gd);\n",
       "            observer.disconnect();\n",
       "        }}\n",
       "}});\n",
       "\n",
       "// Listen for the removal of the full notebook cells\n",
       "var notebookContainer = gd.closest('#notebook-container');\n",
       "if (notebookContainer) {{\n",
       "    x.observe(notebookContainer, {childList: true});\n",
       "}}\n",
       "\n",
       "// Listen for the clearing of the current output cell\n",
       "var outputEl = gd.closest('.output');\n",
       "if (outputEl) {{\n",
       "    x.observe(outputEl, {childList: true});\n",
       "}}\n",
       "\n",
       "                        })                };                });            </script>        </div>"
      ]
     },
     "metadata": {},
     "output_type": "display_data"
    }
   ],
   "source": [
    "## MAKING GRAPH FOR RELATED HASHTAGS OF HASHTAG WITH MOST UNREST\n",
    "sorted_keyword_dict = sorted(hashtag_tweet_keyword_count.items(), key = lambda kv:(kv[1], kv[0]), reverse=True)\n",
    "\n",
    "hashtag = sorted_keyword_dict[0][0]\n",
    "related_hashtags = related_hashtag_dict[hashtag]\n",
    "related_hashtags = sorted(related_hashtags.items(), key = lambda kv:(kv[1], kv[0]))\n",
    "G = nx.Graph()\n",
    "G.add_node(hashtag, size=10)\n",
    "count=1\n",
    "max_size = 5\n",
    "factor = max_size/len(related_hashtags)\n",
    "for tag in related_hashtags:\n",
    "    G.add_node(tag[0], size=count*factor+1)\n",
    "    G.add_edge(hashtag, tag[0], weight = count*factor)\n",
    "    count = count + 1\n",
    "\n",
    "nodes = list(G.nodes(data=True))\n",
    "edges = list(G.edges(data=True))\n",
    "np.random.shuffle(nodes)\n",
    "\n",
    "graph=nx.Graph()\n",
    "graph.add_nodes_from(nodes)\n",
    "graph.add_edges_from(edges)\n",
    "pos_ = nx.circular_layout(graph, scale = 1)\n",
    "pos_[hashtag] =  np.array([0, 0])\n",
    "title = 'RELATED HASHTAGS'\n",
    "create_graph(graph, title)"
   ]
  },
  {
   "cell_type": "code",
   "execution_count": null,
   "id": "e6dd4534",
   "metadata": {},
   "outputs": [],
   "source": []
  }
 ],
 "metadata": {
  "kernelspec": {
   "display_name": "Python 3",
   "language": "python",
   "name": "python3"
  },
  "language_info": {
   "codemirror_mode": {
    "name": "ipython",
    "version": 3
   },
   "file_extension": ".py",
   "mimetype": "text/x-python",
   "name": "python",
   "nbconvert_exporter": "python",
   "pygments_lexer": "ipython3",
   "version": "3.7.10"
  }
 },
 "nbformat": 4,
 "nbformat_minor": 5
}

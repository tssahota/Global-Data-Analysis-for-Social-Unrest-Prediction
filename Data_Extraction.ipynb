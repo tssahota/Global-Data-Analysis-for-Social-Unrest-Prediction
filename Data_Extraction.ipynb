{
  "nbformat": 4,
  "nbformat_minor": 0,
  "metadata": {
    "colab": {
      "name": "Data Extraction.ipynb",
      "provenance": [],
      "collapsed_sections": []
    },
    "kernelspec": {
      "name": "python3",
      "display_name": "Python 3"
    },
    "language_info": {
      "name": "python"
    }
  },
  "cells": [
    {
      "cell_type": "code",
      "metadata": {
        "id": "otBo7_7jfEIV"
      },
      "source": [
        "import os\n",
        "# Note set your own os.environment with your credentials\n",  
        "#os.environ['GOOGLE_APPLICATION_CREDENTIALS'] ='sapient-pen-301821-54255d2566a6.json'\n",
        "from google.cloud import bigquery\n",
        "import pandas as pd\n",
        "import pyarrow\n",
        "import numpy as np\n",
        "import pandas as pd\n",
        "import seaborn as sns\n",
        "import matplotlib.pyplot as plt\n",
        "import gc\n",
        "\n",
        "bigquery_client = bigquery.Client()"
      ],
      "execution_count": null,
      "outputs": []
    },
    {
      "cell_type": "code",
      "metadata": {
        "id": "aO274DxbfHaT"
      },
      "source": [
        "QUERY = \"\"\"\n",
        "SELECT \n",
        "*\n",
        "from `gdelt-bq.full.events`\n",
        "limit 1\n",
        "\"\"\""
      ],
      "execution_count": null,
      "outputs": []
    },
    {
      "cell_type": "code",
      "metadata": {
        "id": "THL_t5_lfHi_"
      },
      "source": [
        "# query_job = bigquery_client.query(QUERY)\n",
        "df = (\n",
        "    bigquery_client.query(QUERY2)\n",
        "    .result()\n",
        "    .to_dataframe()\n",
        ")"
      ],
      "execution_count": null,
      "outputs": []
    },
    {
      "cell_type": "code",
      "metadata": {
        "colab": {
          "base_uri": "https://localhost:8080/"
        },
        "id": "3FdIMzSQfPcI",
        "outputId": "ded578e0-6a06-4f9f-da0e-5b10beff5e89"
      },
      "source": [
        "df.info()"
      ],
      "execution_count": null,
      "outputs": [
        {
          "output_type": "stream",
          "text": [
            "<class 'pandas.core.frame.DataFrame'>\n",
            "RangeIndex: 1 entries, 0 to 0\n",
            "Data columns (total 58 columns):\n",
            " #   Column                 Non-Null Count  Dtype  \n",
            "---  ------                 --------------  -----  \n",
            " 0   GLOBALEVENTID          1 non-null      int64  \n",
            " 1   SQLDATE                1 non-null      int64  \n",
            " 2   MonthYear              1 non-null      int64  \n",
            " 3   Year                   1 non-null      int64  \n",
            " 4   FractionDate           1 non-null      float64\n",
            " 5   Actor1Code             1 non-null      object \n",
            " 6   Actor1Name             1 non-null      object \n",
            " 7   Actor1CountryCode      0 non-null      object \n",
            " 8   Actor1KnownGroupCode   0 non-null      object \n",
            " 9   Actor1EthnicCode       0 non-null      object \n",
            " 10  Actor1Religion1Code    0 non-null      object \n",
            " 11  Actor1Religion2Code    0 non-null      object \n",
            " 12  Actor1Type1Code        1 non-null      object \n",
            " 13  Actor1Type2Code        0 non-null      object \n",
            " 14  Actor1Type3Code        0 non-null      object \n",
            " 15  Actor2Code             0 non-null      object \n",
            " 16  Actor2Name             0 non-null      object \n",
            " 17  Actor2CountryCode      0 non-null      object \n",
            " 18  Actor2KnownGroupCode   0 non-null      object \n",
            " 19  Actor2EthnicCode       0 non-null      object \n",
            " 20  Actor2Religion1Code    0 non-null      object \n",
            " 21  Actor2Religion2Code    0 non-null      object \n",
            " 22  Actor2Type1Code        0 non-null      object \n",
            " 23  Actor2Type2Code        0 non-null      object \n",
            " 24  Actor2Type3Code        0 non-null      object \n",
            " 25  IsRootEvent            1 non-null      int64  \n",
            " 26  EventCode              1 non-null      object \n",
            " 27  EventBaseCode          1 non-null      object \n",
            " 28  EventRootCode          1 non-null      object \n",
            " 29  QuadClass              1 non-null      int64  \n",
            " 30  GoldsteinScale         1 non-null      float64\n",
            " 31  NumMentions            1 non-null      int64  \n",
            " 32  NumSources             1 non-null      int64  \n",
            " 33  NumArticles            1 non-null      int64  \n",
            " 34  AvgTone                1 non-null      float64\n",
            " 35  Actor1Geo_Type         1 non-null      int64  \n",
            " 36  Actor1Geo_FullName     0 non-null      object \n",
            " 37  Actor1Geo_CountryCode  0 non-null      object \n",
            " 38  Actor1Geo_ADM1Code     0 non-null      object \n",
            " 39  Actor1Geo_Lat          0 non-null      object \n",
            " 40  Actor1Geo_Long         0 non-null      object \n",
            " 41  Actor1Geo_FeatureID    0 non-null      object \n",
            " 42  Actor2Geo_Type         1 non-null      int64  \n",
            " 43  Actor2Geo_FullName     0 non-null      object \n",
            " 44  Actor2Geo_CountryCode  0 non-null      object \n",
            " 45  Actor2Geo_ADM1Code     0 non-null      object \n",
            " 46  Actor2Geo_Lat          0 non-null      object \n",
            " 47  Actor2Geo_Long         0 non-null      object \n",
            " 48  Actor2Geo_FeatureID    0 non-null      object \n",
            " 49  ActionGeo_Type         1 non-null      int64  \n",
            " 50  ActionGeo_FullName     0 non-null      object \n",
            " 51  ActionGeo_CountryCode  0 non-null      object \n",
            " 52  ActionGeo_ADM1Code     0 non-null      object \n",
            " 53  ActionGeo_Lat          0 non-null      object \n",
            " 54  ActionGeo_Long         0 non-null      object \n",
            " 55  ActionGeo_FeatureID    0 non-null      object \n",
            " 56  DATEADDED              1 non-null      int64  \n",
            " 57  SOURCEURL              1 non-null      object \n",
            "dtypes: float64(3), int64(13), object(42)\n",
            "memory usage: 592.0+ bytes\n"
          ],
          "name": "stdout"
        }
      ]
    },
    {
      "cell_type": "code",
      "metadata": {
        "colab": {
          "base_uri": "https://localhost:8080/"
        },
        "id": "NRU4OUZubJYx",
        "outputId": "82985b6e-2a43-475f-bc68-715c89f7195f"
      },
      "source": [
        "from google.colab import drive\n",
        "drive.mount('/content/drive')"
      ],
      "execution_count": null,
      "outputs": [
        {
          "output_type": "stream",
          "text": [
            "Drive already mounted at /content/drive; to attempt to forcibly remount, call drive.mount(\"/content/drive\", force_remount=True).\n"
          ],
          "name": "stdout"
        }
      ]
    },
    {
      "cell_type": "code",
      "metadata": {
        "id": "bd1WGiDMnQtz"
      },
      "source": [
        ""
      ],
      "execution_count": null,
      "outputs": []
    },
    {
      "cell_type": "code",
      "metadata": {
        "colab": {
          "base_uri": "https://localhost:8080/"
        },
        "id": "EACPfJzwgQ0d",
        "outputId": "07fb432d-6723-4dd3-ec2b-6432d7b8f8eb"
      },
      "source": [
        "df1 = pd.read_csv('/content/drive/MyDrive/GDELT_Full/GDELT_1979.csv') \n",
        "df2 = pd.read_csv('/content/drive/MyDrive/GDELT_Full/GDELT_1990.csv') \n",
        "df3 = pd.read_csv('/content/drive/MyDrive/GDELT_Full/GDELT_2000.csv') \n",
        "df4 = pd.read_csv('/content/drive/MyDrive/GDELT_Full/GDELT_2010.csv') \n",
        "df5 = pd.read_csv('/content/drive/MyDrive/GDELT_Full/GDELT_2017.csv') \n",
        "df6 = pd.read_csv('/content/drive/MyDrive/GDELT_Full/GDELT_2018.csv') \n",
        "df7 = pd.read_csv('/content/drive/MyDrive/GDELT_Full/GDELT_2019.csv') \n",
        "df8 = pd.read_csv('/content/drive/MyDrive/GDELT_Full/GDELT_2020.csv') \n",
        "df = pd.concat([df1,df2,df3,df4,df5,df6,df7,df8])"
      ],
      "execution_count": null,
      "outputs": [
        {
          "output_type": "stream",
          "text": [
            "/usr/local/lib/python3.7/dist-packages/IPython/core/interactiveshell.py:2718: DtypeWarning: Columns (9) have mixed types.Specify dtype option on import or set low_memory=False.\n",
            "  interactivity=interactivity, compiler=compiler, result=result)\n",
            "/usr/local/lib/python3.7/dist-packages/IPython/core/interactiveshell.py:2718: DtypeWarning: Columns (9,11) have mixed types.Specify dtype option on import or set low_memory=False.\n",
            "  interactivity=interactivity, compiler=compiler, result=result)\n",
            "/usr/local/lib/python3.7/dist-packages/IPython/core/interactiveshell.py:2718: DtypeWarning: Columns (9,11,41,48,55) have mixed types.Specify dtype option on import or set low_memory=False.\n",
            "  interactivity=interactivity, compiler=compiler, result=result)\n",
            "/usr/local/lib/python3.7/dist-packages/IPython/core/interactiveshell.py:2718: DtypeWarning: Columns (10,11,14,24) have mixed types.Specify dtype option on import or set low_memory=False.\n",
            "  interactivity=interactivity, compiler=compiler, result=result)\n",
            "/usr/local/lib/python3.7/dist-packages/IPython/core/interactiveshell.py:2718: DtypeWarning: Columns (11,15,16,17,18,19,20,21,22,23,24,43,44,45,48,55) have mixed types.Specify dtype option on import or set low_memory=False.\n",
            "  interactivity=interactivity, compiler=compiler, result=result)\n",
            "/usr/local/lib/python3.7/dist-packages/IPython/core/interactiveshell.py:2718: DtypeWarning: Columns (9,11,15,16,17,18,19,20,21,22,23,24,43,44,45,48) have mixed types.Specify dtype option on import or set low_memory=False.\n",
            "  interactivity=interactivity, compiler=compiler, result=result)\n"
          ],
          "name": "stderr"
        }
      ]
    },
    {
      "cell_type": "code",
      "metadata": {
        "id": "qUEdbSnYc3MS"
      },
      "source": [
        "df.to_csv('/content/drive/MyDrive/GDELT_Full/GDELT_master.csv')"
      ],
      "execution_count": null,
      "outputs": []
    },
    {
      "cell_type": "code",
      "metadata": {
        "colab": {
          "base_uri": "https://localhost:8080/"
        },
        "id": "caB3J7S0lU5G",
        "outputId": "d837dbeb-1ba6-48e3-f8bd-03636a788579"
      },
      "source": [
        "del [df1, df2, df3, df4, df5, df6, df7, df8]\n",
        "gc.collect()"
      ],
      "execution_count": null,
      "outputs": [
        {
          "output_type": "execute_result",
          "data": {
            "text/plain": [
              "425"
            ]
          },
          "metadata": {
            "tags": []
          },
          "execution_count": 11
        }
      ]
    },
    {
      "cell_type": "code",
      "metadata": {
        "colab": {
          "base_uri": "https://localhost:8080/",
          "height": 317
        },
        "id": "tKDaoaoogcXR",
        "outputId": "0aa44dca-406f-4809-8584-00c4eab29926"
      },
      "source": [
        "df.describe()"
      ],
      "execution_count": null,
      "outputs": [
        {
          "output_type": "execute_result",
          "data": {
            "text/html": [
              "<div>\n",
              "<style scoped>\n",
              "    .dataframe tbody tr th:only-of-type {\n",
              "        vertical-align: middle;\n",
              "    }\n",
              "\n",
              "    .dataframe tbody tr th {\n",
              "        vertical-align: top;\n",
              "    }\n",
              "\n",
              "    .dataframe thead th {\n",
              "        text-align: right;\n",
              "    }\n",
              "</style>\n",
              "<table border=\"1\" class=\"dataframe\">\n",
              "  <thead>\n",
              "    <tr style=\"text-align: right;\">\n",
              "      <th></th>\n",
              "      <th>GLOBALEVENTID</th>\n",
              "      <th>SQLDATE</th>\n",
              "      <th>MonthYear</th>\n",
              "      <th>Year</th>\n",
              "      <th>FractionDate</th>\n",
              "      <th>IsRootEvent</th>\n",
              "      <th>EventCode</th>\n",
              "      <th>EventBaseCode</th>\n",
              "      <th>EventRootCode</th>\n",
              "      <th>QuadClass</th>\n",
              "      <th>GoldsteinScale</th>\n",
              "      <th>NumMentions</th>\n",
              "      <th>NumSources</th>\n",
              "      <th>NumArticles</th>\n",
              "      <th>AvgTone</th>\n",
              "      <th>Actor1Geo_Type</th>\n",
              "      <th>Actor1Geo_Lat</th>\n",
              "      <th>Actor1Geo_Long</th>\n",
              "      <th>Actor2Geo_Type</th>\n",
              "      <th>Actor2Geo_Lat</th>\n",
              "      <th>Actor2Geo_Long</th>\n",
              "      <th>ActionGeo_Type</th>\n",
              "      <th>ActionGeo_Lat</th>\n",
              "      <th>ActionGeo_Long</th>\n",
              "      <th>DATEADDED</th>\n",
              "    </tr>\n",
              "  </thead>\n",
              "  <tbody>\n",
              "    <tr>\n",
              "      <th>count</th>\n",
              "      <td>5.310000e+06</td>\n",
              "      <td>5.310000e+06</td>\n",
              "      <td>5.310000e+06</td>\n",
              "      <td>5.310000e+06</td>\n",
              "      <td>5.310000e+06</td>\n",
              "      <td>5.310000e+06</td>\n",
              "      <td>5.310000e+06</td>\n",
              "      <td>5.310000e+06</td>\n",
              "      <td>5.310000e+06</td>\n",
              "      <td>5.310000e+06</td>\n",
              "      <td>5.309985e+06</td>\n",
              "      <td>5.310000e+06</td>\n",
              "      <td>5.310000e+06</td>\n",
              "      <td>5.310000e+06</td>\n",
              "      <td>5.310000e+06</td>\n",
              "      <td>5.303742e+06</td>\n",
              "      <td>5.309858e+06</td>\n",
              "      <td>5.309912e+06</td>\n",
              "      <td>4.960990e+06</td>\n",
              "      <td>4.653187e+06</td>\n",
              "      <td>4.653246e+06</td>\n",
              "      <td>5.310000e+06</td>\n",
              "      <td>5.309578e+06</td>\n",
              "      <td>5.309659e+06</td>\n",
              "      <td>5.308891e+06</td>\n",
              "    </tr>\n",
              "    <tr>\n",
              "      <th>mean</th>\n",
              "      <td>3.163467e+08</td>\n",
              "      <td>2.007443e+07</td>\n",
              "      <td>2.007442e+05</td>\n",
              "      <td>2.007381e+03</td>\n",
              "      <td>2.007842e+03</td>\n",
              "      <td>6.460198e-01</td>\n",
              "      <td>9.535939e+01</td>\n",
              "      <td>6.659848e+01</td>\n",
              "      <td>6.453705e+00</td>\n",
              "      <td>1.717863e+00</td>\n",
              "      <td>9.075882e-01</td>\n",
              "      <td>7.730187e+00</td>\n",
              "      <td>1.673845e+00</td>\n",
              "      <td>7.408129e+00</td>\n",
              "      <td>2.900301e+00</td>\n",
              "      <td>1.888293e+00</td>\n",
              "      <td>2.953897e+01</td>\n",
              "      <td>2.356319e+01</td>\n",
              "      <td>1.718735e+00</td>\n",
              "      <td>2.591483e+01</td>\n",
              "      <td>2.079961e+01</td>\n",
              "      <td>2.190098e+00</td>\n",
              "      <td>2.969359e+01</td>\n",
              "      <td>2.161669e+01</td>\n",
              "      <td>2.014774e+07</td>\n",
              "    </tr>\n",
              "    <tr>\n",
              "      <th>std</th>\n",
              "      <td>3.345696e+08</td>\n",
              "      <td>1.098684e+05</td>\n",
              "      <td>1.098684e+03</td>\n",
              "      <td>1.099249e+01</td>\n",
              "      <td>1.094911e+01</td>\n",
              "      <td>4.782032e-01</td>\n",
              "      <td>1.848098e+02</td>\n",
              "      <td>5.277965e+01</td>\n",
              "      <td>5.293880e+00</td>\n",
              "      <td>1.089079e+00</td>\n",
              "      <td>4.634491e+00</td>\n",
              "      <td>4.243074e+01</td>\n",
              "      <td>5.243857e+00</td>\n",
              "      <td>4.156622e+01</td>\n",
              "      <td>4.326810e+00</td>\n",
              "      <td>1.368397e+00</td>\n",
              "      <td>2.206512e+01</td>\n",
              "      <td>6.918243e+01</td>\n",
              "      <td>1.546057e+00</td>\n",
              "      <td>2.246755e+01</td>\n",
              "      <td>6.317475e+01</td>\n",
              "      <td>1.423778e+00</td>\n",
              "      <td>2.187021e+01</td>\n",
              "      <td>6.991501e+01</td>\n",
              "      <td>2.860767e+04</td>\n",
              "    </tr>\n",
              "    <tr>\n",
              "      <th>min</th>\n",
              "      <td>7.700000e+01</td>\n",
              "      <td>1.979010e+07</td>\n",
              "      <td>1.979010e+05</td>\n",
              "      <td>1.979000e+03</td>\n",
              "      <td>1.979003e+03</td>\n",
              "      <td>0.000000e+00</td>\n",
              "      <td>1.000000e+01</td>\n",
              "      <td>1.000000e+01</td>\n",
              "      <td>1.000000e+00</td>\n",
              "      <td>1.000000e+00</td>\n",
              "      <td>-1.000000e+01</td>\n",
              "      <td>1.000000e+00</td>\n",
              "      <td>1.000000e+00</td>\n",
              "      <td>1.000000e+00</td>\n",
              "      <td>-4.186047e+01</td>\n",
              "      <td>0.000000e+00</td>\n",
              "      <td>-8.562210e+01</td>\n",
              "      <td>-1.791500e+02</td>\n",
              "      <td>0.000000e+00</td>\n",
              "      <td>-8.562210e+01</td>\n",
              "      <td>-1.797670e+02</td>\n",
              "      <td>0.000000e+00</td>\n",
              "      <td>-8.562210e+01</td>\n",
              "      <td>-1.799830e+02</td>\n",
              "      <td>2.013020e+07</td>\n",
              "    </tr>\n",
              "    <tr>\n",
              "      <th>25%</th>\n",
              "      <td>4.094545e+07</td>\n",
              "      <td>2.000051e+07</td>\n",
              "      <td>2.000050e+05</td>\n",
              "      <td>2.000000e+03</td>\n",
              "      <td>2.000345e+03</td>\n",
              "      <td>0.000000e+00</td>\n",
              "      <td>3.600000e+01</td>\n",
              "      <td>3.600000e+01</td>\n",
              "      <td>3.000000e+00</td>\n",
              "      <td>1.000000e+00</td>\n",
              "      <td>-2.000000e+00</td>\n",
              "      <td>2.000000e+00</td>\n",
              "      <td>1.000000e+00</td>\n",
              "      <td>2.000000e+00</td>\n",
              "      <td>7.246377e-01</td>\n",
              "      <td>1.000000e+00</td>\n",
              "      <td>2.151690e+01</td>\n",
              "      <td>-2.000000e+00</td>\n",
              "      <td>1.000000e+00</td>\n",
              "      <td>7.000000e+00</td>\n",
              "      <td>0.000000e+00</td>\n",
              "      <td>1.000000e+00</td>\n",
              "      <td>2.200000e+01</td>\n",
              "      <td>-3.683330e+00</td>\n",
              "      <td>2.013020e+07</td>\n",
              "    </tr>\n",
              "    <tr>\n",
              "      <th>50%</th>\n",
              "      <td>1.773696e+08</td>\n",
              "      <td>2.009112e+07</td>\n",
              "      <td>2.009110e+05</td>\n",
              "      <td>2.009000e+03</td>\n",
              "      <td>2.009882e+03</td>\n",
              "      <td>1.000000e+00</td>\n",
              "      <td>4.300000e+01</td>\n",
              "      <td>4.300000e+01</td>\n",
              "      <td>4.000000e+00</td>\n",
              "      <td>1.000000e+00</td>\n",
              "      <td>1.900000e+00</td>\n",
              "      <td>4.000000e+00</td>\n",
              "      <td>1.000000e+00</td>\n",
              "      <td>4.000000e+00</td>\n",
              "      <td>3.571429e+00</td>\n",
              "      <td>1.000000e+00</td>\n",
              "      <td>3.451670e+01</td>\n",
              "      <td>3.000000e+01</td>\n",
              "      <td>1.000000e+00</td>\n",
              "      <td>3.266670e+01</td>\n",
              "      <td>2.095980e+01</td>\n",
              "      <td>1.000000e+00</td>\n",
              "      <td>3.495000e+01</td>\n",
              "      <td>3.000000e+01</td>\n",
              "      <td>2.013020e+07</td>\n",
              "    </tr>\n",
              "    <tr>\n",
              "      <th>75%</th>\n",
              "      <td>4.803911e+08</td>\n",
              "      <td>2.015103e+07</td>\n",
              "      <td>2.015100e+05</td>\n",
              "      <td>2.015000e+03</td>\n",
              "      <td>2.015816e+03</td>\n",
              "      <td>1.000000e+00</td>\n",
              "      <td>1.100000e+02</td>\n",
              "      <td>9.000000e+01</td>\n",
              "      <td>9.000000e+00</td>\n",
              "      <td>2.000000e+00</td>\n",
              "      <td>4.000000e+00</td>\n",
              "      <td>7.000000e+00</td>\n",
              "      <td>1.000000e+00</td>\n",
              "      <td>7.000000e+00</td>\n",
              "      <td>5.793086e+00</td>\n",
              "      <td>4.000000e+00</td>\n",
              "      <td>4.284760e+01</td>\n",
              "      <td>6.500000e+01</td>\n",
              "      <td>4.000000e+00</td>\n",
              "      <td>4.050000e+01</td>\n",
              "      <td>5.151480e+01</td>\n",
              "      <td>4.000000e+00</td>\n",
              "      <td>4.283330e+01</td>\n",
              "      <td>6.500000e+01</td>\n",
              "      <td>2.015103e+07</td>\n",
              "    </tr>\n",
              "    <tr>\n",
              "      <th>max</th>\n",
              "      <td>9.788378e+08</td>\n",
              "      <td>2.021041e+07</td>\n",
              "      <td>2.021040e+05</td>\n",
              "      <td>2.021000e+03</td>\n",
              "      <td>2.021268e+03</td>\n",
              "      <td>1.000000e+00</td>\n",
              "      <td>1.833000e+03</td>\n",
              "      <td>2.030000e+02</td>\n",
              "      <td>2.000000e+01</td>\n",
              "      <td>4.000000e+00</td>\n",
              "      <td>1.000000e+01</td>\n",
              "      <td>2.687000e+04</td>\n",
              "      <td>7.970000e+02</td>\n",
              "      <td>2.687000e+04</td>\n",
              "      <td>3.333333e+01</td>\n",
              "      <td>5.000000e+00</td>\n",
              "      <td>8.500000e+01</td>\n",
              "      <td>1.800000e+02</td>\n",
              "      <td>5.000000e+00</td>\n",
              "      <td>8.500000e+01</td>\n",
              "      <td>1.800000e+02</td>\n",
              "      <td>5.000000e+00</td>\n",
              "      <td>8.500000e+01</td>\n",
              "      <td>1.800000e+02</td>\n",
              "      <td>2.021041e+07</td>\n",
              "    </tr>\n",
              "  </tbody>\n",
              "</table>\n",
              "</div>"
            ],
            "text/plain": [
              "       GLOBALEVENTID       SQLDATE  ...  ActionGeo_Long     DATEADDED\n",
              "count   5.310000e+06  5.310000e+06  ...    5.309659e+06  5.308891e+06\n",
              "mean    3.163467e+08  2.007443e+07  ...    2.161669e+01  2.014774e+07\n",
              "std     3.345696e+08  1.098684e+05  ...    6.991501e+01  2.860767e+04\n",
              "min     7.700000e+01  1.979010e+07  ...   -1.799830e+02  2.013020e+07\n",
              "25%     4.094545e+07  2.000051e+07  ...   -3.683330e+00  2.013020e+07\n",
              "50%     1.773696e+08  2.009112e+07  ...    3.000000e+01  2.013020e+07\n",
              "75%     4.803911e+08  2.015103e+07  ...    6.500000e+01  2.015103e+07\n",
              "max     9.788378e+08  2.021041e+07  ...    1.800000e+02  2.021041e+07\n",
              "\n",
              "[8 rows x 25 columns]"
            ]
          },
          "metadata": {
            "tags": []
          },
          "execution_count": 12
        }
      ]
    },
    {
      "cell_type": "markdown",
      "metadata": {
        "id": "xg-BYR1VAV66"
      },
      "source": [
        "**Aggregate Data for EDA**"
      ]
    },
    {
      "cell_type": "code",
      "metadata": {
        "id": "3mjPlaU2fWAx"
      },
      "source": [
        "# Avg GoldsteinScale and AvgTone for each MonthYear (~24 GB)\n",
        "QUERY2 = \n",
        "\"\"\"\n",
        "SELECT \n",
        "MonthYear, AVG(GoldsteinScale) AS avg_goldstein, AVG(AvgTone) AS avg_avgtone, COUNT(GLOBALEVENTID)\n",
        "from `gdelt-bq.full.events`\n",
        "WHERE Actor1CountryCode is not NULL AND ActionGeo_CountryCode is Not Null\n",
        "GROUP BY MonthYear\n",
        "\"\"\"\n",
        "df = (\n",
        "    bigquery_client.query(QUERY2)\n",
        "    .result()\n",
        "    .to_dataframe()\n",
        ")"
      ],
      "execution_count": null,
      "outputs": []
    },
    {
      "cell_type": "code",
      "metadata": {
        "id": "kRu-ikAhq3Om"
      },
      "source": [
        "df.to_csv('monthyear_avgs.csv')"
      ],
      "execution_count": null,
      "outputs": []
    },
    {
      "cell_type": "code",
      "metadata": {
        "id": "RAVhgCrgAR4P"
      },
      "source": [
        "# Calculate all relevant avg and counts (~24 GB)\n",
        "QUERY =\n",
        "\"\"\"\n",
        "SELECT \n",
        "MonthYear, AVG(GoldsteinScale) AS avg_goldstein, AVG(AvgTone) AS avg_avgtone, COUNT(GLOBALEVENTID) AS count_events, \n",
        "COUNT(NumMentions) as count_numMentions, COUNT(NumSources) as count_numSources, COUNT(NumArticles) AS count_numArticles,\n",
        "AVG(NumMentions) as avg_numMentions, AVG(NumSources) as avg_numSources, AVG(NumArticles) AS avg_numArticles, \n",
        "from `gdelt-bq.full.events`\n",
        "WHERE Actor1CountryCode is not NULL AND ActionGeo_CountryCode is Not Null\n",
        "GROUP BY MonthYear,ActionGeo_CountryCode, EventRootCode \n",
        "\"\"\"\n",
        "df = (\n",
        "    bigquery_client.query(QUERY)\n",
        "    .result()\n",
        "    .to_dataframe()\n",
        ")"
      ],
      "execution_count": null,
      "outputs": []
    },
    {
      "cell_type": "code",
      "metadata": {
        "id": "d2T0eNcKWw-O"
      },
      "source": [
        "df.to_csv('master_gdelts_agg.csv')"
      ],
      "execution_count": null,
      "outputs": []
    }
  ]
}

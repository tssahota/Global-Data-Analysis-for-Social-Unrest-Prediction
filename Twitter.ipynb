{
 "cells": [
  {
   "cell_type": "code",
   "execution_count": 2,
   "id": "0d71216a",
   "metadata": {},
   "outputs": [],
   "source": [
    "import tweepy\n",
    "import os\n",
    "import json\n",
    "import sys\n",
    "import geocoder\n",
    "# !pip install geocoder"
   ]
  },
  {
   "cell_type": "code",
   "execution_count": 3,
   "id": "045cf3fb",
   "metadata": {},
   "outputs": [],
   "source": [
    "# API Keys and Tokens\n",
    "consumer_key = 'R2Leq5RIgJNXX6cVWtXhMzh0B'\n",
    "consumer_secret = '01TzltktGR5sNy8MuHgjJ25eHZzBGzAwr2eBMqGCFmMz8TK0jY'\n",
    "access_token = '1351063429545603084-tZLSCpSPcv6uceFPWfs3A9AG3zVYf3'\n",
    "access_token_secret = '1ASHyeTyNcv9DWiSnxMgg3eXKqfcS9d16aTduXveCw5lw'"
   ]
  },
  {
   "cell_type": "code",
   "execution_count": 4,
   "id": "46644279",
   "metadata": {},
   "outputs": [],
   "source": [
    "# Authorization and Authentication\n",
    "auth = tweepy.OAuthHandler(consumer_key, consumer_secret)\n",
    "auth.set_access_token(access_token, access_token_secret)\n",
    "api = tweepy.API(auth)"
   ]
  },
  {
   "cell_type": "code",
   "execution_count": 5,
   "id": "0b3cab22",
   "metadata": {},
   "outputs": [
    {
     "name": "stdout",
     "output_type": "stream",
     "text": [
      "Tweet fetched@allnews2nite The international Society should listen to the Libyan people voice by all means , listening and talki… https://t.co/WaaZW0RkOW\n"
     ]
    }
   ],
   "source": [
    "tweetFetched = api.get_status(\"1000117202144649218\")\n",
    "print(\"Tweet fetched\" + tweetFetched.text)"
   ]
  },
  {
   "cell_type": "code",
   "execution_count": 11,
   "id": "3d3cf681",
   "metadata": {},
   "outputs": [],
   "source": [
    "# Trends for Specific Country\n",
    "loc = 'India'   # location as argument variable \n",
    "g = geocoder.osm(loc) # getting object that has location's latitude and longitude\n",
    "\n",
    "closest_loc = api.trends_closest(g.lat, g.lng)\n",
    "trends = api.trends_place(closest_loc[0]['woeid'])\n",
    "# writing a JSON file that has the latest trends for that location\n",
    "with open(\"twitter_{}_trend.json\".format(loc),\"w\") as wp:\n",
    "    wp.write(json.dumps(trends, indent=1))"
   ]
  },
  {
   "cell_type": "code",
   "execution_count": 29,
   "id": "01159c91",
   "metadata": {},
   "outputs": [
    {
     "name": "stdout",
     "output_type": "stream",
     "text": [
      "#FridayFitness\n",
      "#FridayThoughts\n",
      "#VakeelSaab\n",
      "#फल_सब्जी_पर_भी_MSP_दो\n",
      "श्री राम\n"
     ]
    }
   ],
   "source": [
    "for i in range(0,5):\n",
    "    print(trends[0]['trends'][i]['name'])\n",
    "hashtag = trends[0]['trends'][3]['name']"
   ]
  },
  {
   "cell_type": "code",
   "execution_count": null,
   "id": "227cdff6",
   "metadata": {},
   "outputs": [],
   "source": [
    "csvFile = open(loc+'_'+'4.csv', 'a')\n",
    "#Use csv Writer\n",
    "csvWriter = csv.writer(csvFile)\n",
    "\n",
    "for tweet in tweepy.Cursor(api.search,q=hashtag,count=1,\n",
    "                           lang=\"en\").items():\n",
    "    print (tweet.created_at, tweet.text)\n",
    "    csvWriter.writerow([tweet.created_at, tweet.text.encode('utf-8')])"
   ]
  },
  {
   "cell_type": "code",
   "execution_count": null,
   "id": "aad574a8",
   "metadata": {},
   "outputs": [],
   "source": [
    "keywords = ['protest', 'protests', 'protesting', 'uprising', 'insurgence', 'insurrection', 'rebellion', 'revolt', 'revolution', \n",
    "            'insurgency', 'distubance', 'riot', 'rioting', 'riots', 'unrest', 'coup', 'treason', 'violence', \n",
    "            'clash', 'demonstration', 'attack', 'uproar', 'disorder']\n"
   ]
  }
 ],
 "metadata": {
  "kernelspec": {
   "display_name": "Python 3",
   "language": "python",
   "name": "python3"
  },
  "language_info": {
   "codemirror_mode": {
    "name": "ipython",
    "version": 3
   },
   "file_extension": ".py",
   "mimetype": "text/x-python",
   "name": "python",
   "nbconvert_exporter": "python",
   "pygments_lexer": "ipython3",
   "version": "3.7.10"
  }
 },
 "nbformat": 4,
 "nbformat_minor": 5
}
